{
 "cells": [
  {
   "cell_type": "markdown",
   "id": "789b8963",
   "metadata": {},
   "source": [
    "# Error Estimation"
   ]
  },
  {
   "cell_type": "code",
   "execution_count": 8,
   "id": "a35857dd",
   "metadata": {},
   "outputs": [],
   "source": [
    "import h5py\n",
    "import numpy as np\n",
    "from itertools import product\n",
    "\n",
    "import matplotlib.pyplot as plt\n",
    "\n",
    "import sys\n",
    "sys.path.append(\"/users/pkeller/code/ClosurePhaseAnalysis/\")\n",
    "from library import dspec"
   ]
  },
  {
   "cell_type": "markdown",
   "id": "05c37b2b",
   "metadata": {},
   "source": [
    "## Load Data"
   ]
  },
  {
   "cell_type": "code",
   "execution_count": 3,
   "id": "e897d639",
   "metadata": {
    "scrolled": true
   },
   "outputs": [],
   "source": [
    "# data path\n",
    "path = \"/lustre/aoc/projects/hera/pkeller/data/H1C_IDR3.2/sample/EQ14_FC_B2_AVG.h5\"\n",
    "xps_path = \"/lustre/aoc/projects/hera/pkeller/data/H1C_IDR3.2/sample/EQ14_FC_B2_XPS.h5\"\n",
    "\n",
    "# load covariance data\n",
    "with h5py.File(path, \"r\") as f:\n",
    "    frq = f[\"FRQ\"][()]\n",
    "    lst = f[\"LST\"][()]\n",
    "    cov_xx = f[\"cov XX\"][()]\n",
    "    cov_yy = f[\"cov YY\"][()]\n",
    "    \n",
    "# load cross-power spectral data\n",
    "with h5py.File(xps_path, \"r\") as f:\n",
    "    xps_xx = f[\"XPS XX\"][()]\n",
    "    xps_yy = f[\"XPS YY\"][()]\n",
    "    \n",
    "Nlst = len(lst)\n",
    "Ntrx = xps_xx.shape[0]\n",
    "Ntry = xps_yy.shape[0]\n",
    "Ndx = xps_xx.shape[-1]\n",
    "Ndy = xps_yy.shape[-1]"
   ]
  },
  {
   "cell_type": "markdown",
   "id": "4ae0af77",
   "metadata": {},
   "source": [
    "## Compute Weights"
   ]
  },
  {
   "cell_type": "code",
   "execution_count": 4,
   "id": "18863e8d",
   "metadata": {},
   "outputs": [],
   "source": [
    "w_xx = np.array([[1 / (cov_xx[:, i, i] * cov_xx[:, j, j]) for i in range(Ntrx)] for j in range(Ntrx)])\n",
    "w_yy = np.array([[1 / (cov_yy[:, i, i] * cov_yy[:, j, j]) for i in range(Ntry)] for j in range(Ntry)])"
   ]
  },
  {
   "cell_type": "markdown",
   "id": "133399b9",
   "metadata": {},
   "source": [
    "## Compute Noise-only Power Spectrum Variance"
   ]
  },
  {
   "cell_type": "code",
   "execution_count": null,
   "id": "4414273e",
   "metadata": {},
   "outputs": [
    {
     "name": "stderr",
     "output_type": "stream",
     "text": [
      "/lustre/aoc/projects/hera/pkeller/anaconda3/lib/python3.7/site-packages/ipykernel_launcher.py:6: DeprecationWarning: Calling np.sum(generator) is deprecated, and in the future will give a different result. Use np.sum(np.fromiter(generator)) or the python sum builtin instead.\n",
      "  \n"
     ]
    }
   ],
   "source": [
    "def noise_var(w, cov):\n",
    "    trange = 4 * (range(w.shape[0]),)\n",
    "    for i, j, k, l in product(*trange):\n",
    "        yield w[i, j] * w[k, l] * cov[:, i, k] * cov[:, j, l]\n",
    "        \n",
    "var_xx = np.sum(noise_var(w_xx, cov_xx), axis=0)\n",
    "var_yy = np.sum(noise_var(w_yy, cov_yy), axis=0)\n",
    "\n",
    "print(var_xx.shape)"
   ]
  }
 ],
 "metadata": {
  "kernelspec": {
   "display_name": "Python 3.7.4 64-bit ('base': conda)",
   "language": "python",
   "name": "python374jvsc74a57bd049173ec0ab9051b251b8100f32c8c6e08c0c0ada2720759b60af90733fd84a0b"
  },
  "language_info": {
   "codemirror_mode": {
    "name": "ipython",
    "version": 3
   },
   "file_extension": ".py",
   "mimetype": "text/x-python",
   "name": "python",
   "nbconvert_exporter": "python",
   "pygments_lexer": "ipython3",
   "version": "3.7.4"
  }
 },
 "nbformat": 4,
 "nbformat_minor": 5
}
