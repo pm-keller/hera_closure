{
 "cells": [
  {
   "cell_type": "markdown",
   "id": "789b8963",
   "metadata": {},
   "source": [
    "# Error Estimation"
   ]
  },
  {
   "cell_type": "code",
   "execution_count": 1,
   "id": "a35857dd",
   "metadata": {},
   "outputs": [],
   "source": [
    "import h5py\n",
    "import numpy as np\n",
    "\n",
    "from ipywidgets import interact\n",
    "import matplotlib.pyplot as plt\n",
    "\n",
    "import sys\n",
    "sys.path.append(\"/users/pkeller/code/ClosurePhaseAnalysis/\")\n",
    "from library import dspec"
   ]
  },
  {
   "cell_type": "markdown",
   "id": "05c37b2b",
   "metadata": {},
   "source": [
    "## Load Data"
   ]
  },
  {
   "cell_type": "code",
   "execution_count": 4,
   "id": "e897d639",
   "metadata": {
    "scrolled": true
   },
   "outputs": [
    {
     "name": "stdout",
     "output_type": "stream",
     "text": [
      "Cross-power spectrum data has shape (80,)\n",
      "Errors have shape (80,)\n"
     ]
    }
   ],
   "source": [
    "path = \"/lustre/aoc/projects/hera/pkeller/data/H1C_IDR3.2/sample/EQ14_FC_B2_XPS.h5\"\n",
    "\n",
    "# load data\n",
    "with h5py.File(path, \"r\") as f:\n",
    "    delay = f[\"delay\"][()]\n",
    "    lst = f[\"LST\"][()]\n",
    "    xps = f[\"XPS AVG\"][()]\n",
    "    err = f[\"ERR AVG\"][()]\n",
    "    \n",
    "print(f\"Cross-power spectrum data has shape {xps.shape}\")\n",
    "print(f\"Errors have shape {err.shape}\")"
   ]
  },
  {
   "cell_type": "code",
   "execution_count": 7,
   "id": "18863e8d",
   "metadata": {},
   "outputs": [
    {
     "data": {
      "image/png": "[encoded data removed]",
      "text/plain": [
       "<Figure size 432x288 with 1 Axes>"
      ]
     },
     "metadata": {
      "needs_background": "light"
     },
     "output_type": "display_data"
    }
   ],
   "source": [
    "plt.scatter(delay, err)\n",
    "plt.yscale(\"log\")"
   ]
  }
 ],
 "metadata": {
  "kernelspec": {
   "display_name": "Python 3.7.4 64-bit ('base': conda)",
   "language": "python",
   "name": "python374jvsc74a57bd049173ec0ab9051b251b8100f32c8c6e08c0c0ada2720759b60af90733fd84a0b"
  },
  "language_info": {
   "codemirror_mode": {
    "name": "ipython",
    "version": 3
   },
   "file_extension": ".py",
   "mimetype": "text/x-python",
   "name": "python",
   "nbconvert_exporter": "python",
   "pygments_lexer": "ipython3",
   "version": "3.7.4"
  }
 },
 "nbformat": 4,
 "nbformat_minor": 5
}
