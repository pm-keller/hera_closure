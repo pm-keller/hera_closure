{
 "cells": [
  {
   "cell_type": "markdown",
   "id": "5718514c",
   "metadata": {},
   "source": [
    "# Inspect XRFI Files"
   ]
  },
  {
   "cell_type": "code",
   "execution_count": 1,
   "id": "fa59b491",
   "metadata": {},
   "outputs": [],
   "source": [
    "import numpy as np\n",
    "import os as os\n",
    "import h5py\n",
    "\n",
    "from ipywidgets import interact\n",
    "\n",
    "import matplotlib as mpl\n",
    "import matplotlib.pyplot as plt\n",
    "import matplotlib.cm as cm\n",
    "\n",
    "# configure matplotlib\n",
    "mpl.style.use(\"classic\")"
   ]
  },
  {
   "cell_type": "code",
   "execution_count": 5,
   "id": "cc5360d6",
   "metadata": {},
   "outputs": [],
   "source": [
    "data_path = \"/lustre/aoc/projects/hera/pkeller/data/H1C_IDR3.2/sample/EQ28_FA_B2.h5\"\n",
    "\n",
    "with h5py.File(data_path, \"r\") as f:\n",
    "    jdlist = f[\"JD\"][()]\n",
    "    lst = f[\"LST\"][()]\n",
    "    frq = f[\"FRQ\"][()]"
   ]
  },
  {
   "cell_type": "code",
   "execution_count": 6,
   "id": "e52ddc03",
   "metadata": {},
   "outputs": [
    {
     "name": "stdout",
     "output_type": "stream",
     "text": [
      "(34, 834, 1024)\n"
     ]
    }
   ],
   "source": [
    "rdir = \"/lustre/aoc/projects/hera/H1C_IDR3/IDR3_2/\"\n",
    "\n",
    "flg_list = []\n",
    "jd = []\n",
    "\n",
    "for j in jdlist:\n",
    "    fname = f\"zen.{j}.total_threshold_and_a_priori_flags.h5\"\n",
    "    rfi_path = os.path.join(rdir, str(j), fname)\n",
    "    \n",
    "    if os.path.exists(rfi_path):\n",
    "        with h5py.File(rfi_path, \"r\") as f:\n",
    "            flags = f[\"Data/flag_array\"][:, :, 0]\n",
    "            lstd = f[\"Header/lst_array\"][()] * 12 / np.pi\n",
    "            flg_list.append(flags[np.where((lstd > min(lst)) & (lstd < max(lst)))])\n",
    "        jd.append(j)\n",
    "\n",
    "flags = np.asarray(flg_list)\n",
    "print(flags.shape)"
   ]
  },
  {
   "cell_type": "code",
   "execution_count": 7,
   "id": "803d984a",
   "metadata": {},
   "outputs": [
    {
     "data": {
      "application/vnd.jupyter.widget-view+json": {
       "model_id": "485f45f7db6a4915aea1e5bdf6133ff9",
       "version_major": 2,
       "version_minor": 0
      },
      "text/plain": [
       "interactive(children=(IntSlider(value=16, description='j', max=33), Output()), _dom_classes=('widget-interact'…"
      ]
     },
     "metadata": {},
     "output_type": "display_data"
    },
    {
     "data": {
      "text/plain": [
       "<function __main__.plot(j)>"
      ]
     },
     "execution_count": 7,
     "metadata": {},
     "output_type": "execute_result"
    }
   ],
   "source": [
    "def plot(j):\n",
    "    fig, ax = plt.subplots(1, 1, figsize=(6.5, 5))\n",
    "    ax.imshow(flags[j][:, 535:696], cmap=cm.bone, aspect=\"auto\", interpolation=\"None\", extent=(np.amin(frq), np.amax(frq), np.max(lst), np.min(lst)))\n",
    "    plt.setp(ax, xlabel=\"Frequency (MHz)\", ylabel=\"LST (h)\", ylim=[max(lst), min(lst)])\n",
    "    plt.title(f\"JD={jd[j]}\")\n",
    "    plt.show()\n",
    "\n",
    "interact(plot, j=(0, flags.shape[0]-1, 1))"
   ]
  },
  {
   "cell_type": "code",
   "execution_count": null,
   "id": "b22ca6a4",
   "metadata": {},
   "outputs": [],
   "source": []
  }
 ],
 "metadata": {
  "kernelspec": {
   "display_name": "base",
   "language": "python",
   "name": "base"
  },
  "language_info": {
   "codemirror_mode": {
    "name": "ipython",
    "version": 3
   },
   "file_extension": ".py",
   "mimetype": "text/x-python",
   "name": "python",
   "nbconvert_exporter": "python",
   "pygments_lexer": "ipython3",
   "version": "3.7.4"
  }
 },
 "nbformat": 4,
 "nbformat_minor": 5
}
