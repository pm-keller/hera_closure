{
 "cells": [
  {
   "cell_type": "markdown",
   "id": "65ba3339",
   "metadata": {},
   "source": [
    "# Autos Noise\n",
    "Generate a frequency and time dependet model of the noise using calibrated autocorrelation visibilities."
   ]
  },
  {
   "cell_type": "code",
   "execution_count": 73,
   "id": "83d5b9f2",
   "metadata": {},
   "outputs": [],
   "source": [
    "import h5py\n",
    "import glob\n",
    "import numpy as np\n",
    "from scipy.signal import get_window\n",
    "from scipy.interpolate import interp1d\n",
    "\n",
    "from pyuvdata import UVData\n",
    "import matplotlib.pyplot as plt\n",
    "import matplotlib.cm as cm\n",
    "\n",
    "# redundant averagig\n",
    "from hera_cal.utils import red_average"
   ]
  },
  {
   "cell_type": "markdown",
   "id": "7bf8b0f4",
   "metadata": {},
   "source": [
    "## Read, Average and Select Calibrated Autocorrelation Visibilities\n",
    "We are using the systematics subtracted, LST-binned H1C IDR3.2 data. Only keep \"XX\" and \"YY\" polarisation products of the redundantly averaged autocorrelation visibilities."
   ]
  },
  {
   "cell_type": "code",
   "execution_count": 20,
   "id": "499f98a3",
   "metadata": {},
   "outputs": [
    {
     "name": "stderr",
     "output_type": "stream",
     "text": [
      "antenna_diameters is not set. Using known values for HERA.\n",
      "Fixing auto-correlations to be be real-only, after some imaginary values were detected in data_array.\n"
     ]
    },
    {
     "name": "stdout",
     "output_type": "stream",
     "text": [
      "0\n"
     ]
    },
    {
     "name": "stderr",
     "output_type": "stream",
     "text": [
      "antenna_diameters is not set. Using known values for HERA.\n"
     ]
    },
    {
     "name": "stdout",
     "output_type": "stream",
     "text": [
      "1\n"
     ]
    },
    {
     "name": "stderr",
     "output_type": "stream",
     "text": [
      "antenna_diameters is not set. Using known values for HERA.\n",
      "Fixing auto-correlations to be be real-only, after some imaginary values were detected in data_array.\n"
     ]
    },
    {
     "name": "stdout",
     "output_type": "stream",
     "text": [
      "2\n"
     ]
    },
    {
     "name": "stderr",
     "output_type": "stream",
     "text": [
      "antenna_diameters is not set. Using known values for HERA.\n",
      "Fixing auto-correlations to be be real-only, after some imaginary values were detected in data_array.\n"
     ]
    },
    {
     "name": "stdout",
     "output_type": "stream",
     "text": [
      "3\n"
     ]
    },
    {
     "name": "stderr",
     "output_type": "stream",
     "text": [
      "antenna_diameters is not set. Using known values for HERA.\n",
      "Fixing auto-correlations to be be real-only, after some imaginary values were detected in data_array.\n"
     ]
    },
    {
     "name": "stdout",
     "output_type": "stream",
     "text": [
      "4\n"
     ]
    },
    {
     "name": "stderr",
     "output_type": "stream",
     "text": [
      "antenna_diameters is not set. Using known values for HERA.\n",
      "Fixing auto-correlations to be be real-only, after some imaginary values were detected in data_array.\n"
     ]
    },
    {
     "name": "stdout",
     "output_type": "stream",
     "text": [
      "5\n"
     ]
    },
    {
     "name": "stderr",
     "output_type": "stream",
     "text": [
      "antenna_diameters is not set. Using known values for HERA.\n",
      "Fixing auto-correlations to be be real-only, after some imaginary values were detected in data_array.\n"
     ]
    },
    {
     "name": "stdout",
     "output_type": "stream",
     "text": [
      "6\n"
     ]
    },
    {
     "name": "stderr",
     "output_type": "stream",
     "text": [
      "antenna_diameters is not set. Using known values for HERA.\n",
      "Fixing auto-correlations to be be real-only, after some imaginary values were detected in data_array.\n"
     ]
    },
    {
     "name": "stdout",
     "output_type": "stream",
     "text": [
      "7\n"
     ]
    },
    {
     "name": "stderr",
     "output_type": "stream",
     "text": [
      "antenna_diameters is not set. Using known values for HERA.\n",
      "Fixing auto-correlations to be be real-only, after some imaginary values were detected in data_array.\n"
     ]
    },
    {
     "name": "stdout",
     "output_type": "stream",
     "text": [
      "8\n"
     ]
    },
    {
     "name": "stderr",
     "output_type": "stream",
     "text": [
      "antenna_diameters is not set. Using known values for HERA.\n",
      "Fixing auto-correlations to be be real-only, after some imaginary values were detected in data_array.\n"
     ]
    },
    {
     "name": "stdout",
     "output_type": "stream",
     "text": [
      "9\n"
     ]
    },
    {
     "name": "stderr",
     "output_type": "stream",
     "text": [
      "antenna_diameters is not set. Using known values for HERA.\n",
      "Fixing auto-correlations to be be real-only, after some imaginary values were detected in data_array.\n"
     ]
    },
    {
     "name": "stdout",
     "output_type": "stream",
     "text": [
      "10\n"
     ]
    },
    {
     "name": "stderr",
     "output_type": "stream",
     "text": [
      "antenna_diameters is not set. Using known values for HERA.\n",
      "Fixing auto-correlations to be be real-only, after some imaginary values were detected in data_array.\n"
     ]
    },
    {
     "name": "stdout",
     "output_type": "stream",
     "text": [
      "11\n"
     ]
    },
    {
     "name": "stderr",
     "output_type": "stream",
     "text": [
      "antenna_diameters is not set. Using known values for HERA.\n",
      "Fixing auto-correlations to be be real-only, after some imaginary values were detected in data_array.\n"
     ]
    },
    {
     "name": "stdout",
     "output_type": "stream",
     "text": [
      "12\n"
     ]
    },
    {
     "name": "stderr",
     "output_type": "stream",
     "text": [
      "antenna_diameters is not set. Using known values for HERA.\n",
      "Fixing auto-correlations to be be real-only, after some imaginary values were detected in data_array.\n"
     ]
    },
    {
     "name": "stdout",
     "output_type": "stream",
     "text": [
      "13\n"
     ]
    },
    {
     "name": "stderr",
     "output_type": "stream",
     "text": [
      "antenna_diameters is not set. Using known values for HERA.\n"
     ]
    },
    {
     "name": "stdout",
     "output_type": "stream",
     "text": [
      "14\n"
     ]
    },
    {
     "name": "stderr",
     "output_type": "stream",
     "text": [
      "antenna_diameters is not set. Using known values for HERA.\n"
     ]
    },
    {
     "name": "stdout",
     "output_type": "stream",
     "text": [
      "15\n"
     ]
    },
    {
     "name": "stderr",
     "output_type": "stream",
     "text": [
      "antenna_diameters is not set. Using known values for HERA.\n",
      "Fixing auto-correlations to be be real-only, after some imaginary values were detected in data_array.\n"
     ]
    },
    {
     "name": "stdout",
     "output_type": "stream",
     "text": [
      "16\n"
     ]
    },
    {
     "name": "stderr",
     "output_type": "stream",
     "text": [
      "antenna_diameters is not set. Using known values for HERA.\n"
     ]
    },
    {
     "name": "stdout",
     "output_type": "stream",
     "text": [
      "17\n"
     ]
    },
    {
     "name": "stderr",
     "output_type": "stream",
     "text": [
      "antenna_diameters is not set. Using known values for HERA.\n",
      "Fixing auto-correlations to be be real-only, after some imaginary values were detected in data_array.\n"
     ]
    },
    {
     "name": "stdout",
     "output_type": "stream",
     "text": [
      "18\n"
     ]
    },
    {
     "name": "stderr",
     "output_type": "stream",
     "text": [
      "antenna_diameters is not set. Using known values for HERA.\n",
      "Fixing auto-correlations to be be real-only, after some imaginary values were detected in data_array.\n"
     ]
    },
    {
     "name": "stdout",
     "output_type": "stream",
     "text": [
      "19\n"
     ]
    },
    {
     "name": "stderr",
     "output_type": "stream",
     "text": [
      "antenna_diameters is not set. Using known values for HERA.\n",
      "Fixing auto-correlations to be be real-only, after some imaginary values were detected in data_array.\n"
     ]
    },
    {
     "name": "stdout",
     "output_type": "stream",
     "text": [
      "20\n"
     ]
    },
    {
     "name": "stderr",
     "output_type": "stream",
     "text": [
      "antenna_diameters is not set. Using known values for HERA.\n",
      "Fixing auto-correlations to be be real-only, after some imaginary values were detected in data_array.\n"
     ]
    },
    {
     "name": "stdout",
     "output_type": "stream",
     "text": [
      "21\n"
     ]
    },
    {
     "name": "stderr",
     "output_type": "stream",
     "text": [
      "antenna_diameters is not set. Using known values for HERA.\n",
      "Fixing auto-correlations to be be real-only, after some imaginary values were detected in data_array.\n"
     ]
    },
    {
     "name": "stdout",
     "output_type": "stream",
     "text": [
      "22\n"
     ]
    },
    {
     "name": "stderr",
     "output_type": "stream",
     "text": [
      "antenna_diameters is not set. Using known values for HERA.\n",
      "Fixing auto-correlations to be be real-only, after some imaginary values were detected in data_array.\n"
     ]
    },
    {
     "name": "stdout",
     "output_type": "stream",
     "text": [
      "23\n"
     ]
    },
    {
     "name": "stderr",
     "output_type": "stream",
     "text": [
      "antenna_diameters is not set. Using known values for HERA.\n",
      "Fixing auto-correlations to be be real-only, after some imaginary values were detected in data_array.\n"
     ]
    },
    {
     "name": "stdout",
     "output_type": "stream",
     "text": [
      "24\n"
     ]
    },
    {
     "name": "stderr",
     "output_type": "stream",
     "text": [
      "antenna_diameters is not set. Using known values for HERA.\n",
      "Fixing auto-correlations to be be real-only, after some imaginary values were detected in data_array.\n"
     ]
    },
    {
     "name": "stdout",
     "output_type": "stream",
     "text": [
      "25\n"
     ]
    },
    {
     "name": "stderr",
     "output_type": "stream",
     "text": [
      "antenna_diameters is not set. Using known values for HERA.\n",
      "Fixing auto-correlations to be be real-only, after some imaginary values were detected in data_array.\n"
     ]
    },
    {
     "name": "stdout",
     "output_type": "stream",
     "text": [
      "26\n"
     ]
    },
    {
     "name": "stderr",
     "output_type": "stream",
     "text": [
      "antenna_diameters is not set. Using known values for HERA.\n",
      "Fixing auto-correlations to be be real-only, after some imaginary values were detected in data_array.\n"
     ]
    },
    {
     "name": "stdout",
     "output_type": "stream",
     "text": [
      "27\n"
     ]
    },
    {
     "name": "stderr",
     "output_type": "stream",
     "text": [
      "antenna_diameters is not set. Using known values for HERA.\n",
      "Fixing auto-correlations to be be real-only, after some imaginary values were detected in data_array.\n"
     ]
    },
    {
     "name": "stdout",
     "output_type": "stream",
     "text": [
      "28\n"
     ]
    },
    {
     "name": "stderr",
     "output_type": "stream",
     "text": [
      "antenna_diameters is not set. Using known values for HERA.\n",
      "Fixing auto-correlations to be be real-only, after some imaginary values were detected in data_array.\n"
     ]
    },
    {
     "name": "stdout",
     "output_type": "stream",
     "text": [
      "29\n"
     ]
    },
    {
     "name": "stderr",
     "output_type": "stream",
     "text": [
      "antenna_diameters is not set. Using known values for HERA.\n",
      "Fixing auto-correlations to be be real-only, after some imaginary values were detected in data_array.\n"
     ]
    },
    {
     "name": "stdout",
     "output_type": "stream",
     "text": [
      "30\n"
     ]
    },
    {
     "name": "stderr",
     "output_type": "stream",
     "text": [
      "antenna_diameters is not set. Using known values for HERA.\n",
      "Fixing auto-correlations to be be real-only, after some imaginary values were detected in data_array.\n"
     ]
    },
    {
     "name": "stdout",
     "output_type": "stream",
     "text": [
      "31\n"
     ]
    },
    {
     "name": "stderr",
     "output_type": "stream",
     "text": [
      "antenna_diameters is not set. Using known values for HERA.\n",
      "Fixing auto-correlations to be be real-only, after some imaginary values were detected in data_array.\n"
     ]
    },
    {
     "name": "stdout",
     "output_type": "stream",
     "text": [
      "32\n"
     ]
    },
    {
     "name": "stderr",
     "output_type": "stream",
     "text": [
      "antenna_diameters is not set. Using known values for HERA.\n",
      "Fixing auto-correlations to be be real-only, after some imaginary values were detected in data_array.\n"
     ]
    },
    {
     "name": "stdout",
     "output_type": "stream",
     "text": [
      "33\n"
     ]
    },
    {
     "name": "stderr",
     "output_type": "stream",
     "text": [
      "antenna_diameters is not set. Using known values for HERA.\n",
      "Fixing auto-correlations to be be real-only, after some imaginary values were detected in data_array.\n"
     ]
    },
    {
     "name": "stdout",
     "output_type": "stream",
     "text": [
      "34\n"
     ]
    },
    {
     "name": "stderr",
     "output_type": "stream",
     "text": [
      "antenna_diameters is not set. Using known values for HERA.\n",
      "Fixing auto-correlations to be be real-only, after some imaginary values were detected in data_array.\n"
     ]
    },
    {
     "name": "stdout",
     "output_type": "stream",
     "text": [
      "35\n"
     ]
    },
    {
     "name": "stderr",
     "output_type": "stream",
     "text": [
      "antenna_diameters is not set. Using known values for HERA.\n"
     ]
    },
    {
     "name": "stdout",
     "output_type": "stream",
     "text": [
      "36\n"
     ]
    },
    {
     "name": "stderr",
     "output_type": "stream",
     "text": [
      "antenna_diameters is not set. Using known values for HERA.\n",
      "Fixing auto-correlations to be be real-only, after some imaginary values were detected in data_array.\n"
     ]
    },
    {
     "name": "stdout",
     "output_type": "stream",
     "text": [
      "37\n"
     ]
    },
    {
     "name": "stderr",
     "output_type": "stream",
     "text": [
      "antenna_diameters is not set. Using known values for HERA.\n",
      "Fixing auto-correlations to be be real-only, after some imaginary values were detected in data_array.\n"
     ]
    },
    {
     "name": "stdout",
     "output_type": "stream",
     "text": [
      "38\n"
     ]
    },
    {
     "name": "stderr",
     "output_type": "stream",
     "text": [
      "antenna_diameters is not set. Using known values for HERA.\n",
      "Fixing auto-correlations to be be real-only, after some imaginary values were detected in data_array.\n"
     ]
    },
    {
     "name": "stdout",
     "output_type": "stream",
     "text": [
      "39\n"
     ]
    },
    {
     "name": "stderr",
     "output_type": "stream",
     "text": [
      "antenna_diameters is not set. Using known values for HERA.\n",
      "Fixing auto-correlations to be be real-only, after some imaginary values were detected in data_array.\n"
     ]
    },
    {
     "name": "stdout",
     "output_type": "stream",
     "text": [
      "40\n"
     ]
    },
    {
     "name": "stderr",
     "output_type": "stream",
     "text": [
      "antenna_diameters is not set. Using known values for HERA.\n",
      "Fixing auto-correlations to be be real-only, after some imaginary values were detected in data_array.\n"
     ]
    },
    {
     "name": "stdout",
     "output_type": "stream",
     "text": [
      "41\n"
     ]
    },
    {
     "name": "stderr",
     "output_type": "stream",
     "text": [
      "antenna_diameters is not set. Using known values for HERA.\n",
      "Fixing auto-correlations to be be real-only, after some imaginary values were detected in data_array.\n"
     ]
    },
    {
     "name": "stdout",
     "output_type": "stream",
     "text": [
      "42\n"
     ]
    },
    {
     "name": "stderr",
     "output_type": "stream",
     "text": [
      "antenna_diameters is not set. Using known values for HERA.\n",
      "Fixing auto-correlations to be be real-only, after some imaginary values were detected in data_array.\n"
     ]
    },
    {
     "name": "stdout",
     "output_type": "stream",
     "text": [
      "43\n"
     ]
    },
    {
     "name": "stderr",
     "output_type": "stream",
     "text": [
      "antenna_diameters is not set. Using known values for HERA.\n",
      "Fixing auto-correlations to be be real-only, after some imaginary values were detected in data_array.\n"
     ]
    },
    {
     "name": "stdout",
     "output_type": "stream",
     "text": [
      "44\n"
     ]
    },
    {
     "name": "stderr",
     "output_type": "stream",
     "text": [
      "antenna_diameters is not set. Using known values for HERA.\n",
      "Fixing auto-correlations to be be real-only, after some imaginary values were detected in data_array.\n"
     ]
    },
    {
     "name": "stdout",
     "output_type": "stream",
     "text": [
      "45\n"
     ]
    },
    {
     "name": "stderr",
     "output_type": "stream",
     "text": [
      "antenna_diameters is not set. Using known values for HERA.\n"
     ]
    },
    {
     "name": "stdout",
     "output_type": "stream",
     "text": [
      "46\n"
     ]
    },
    {
     "name": "stderr",
     "output_type": "stream",
     "text": [
      "antenna_diameters is not set. Using known values for HERA.\n",
      "Fixing auto-correlations to be be real-only, after some imaginary values were detected in data_array.\n"
     ]
    },
    {
     "name": "stdout",
     "output_type": "stream",
     "text": [
      "47\n"
     ]
    },
    {
     "name": "stderr",
     "output_type": "stream",
     "text": [
      "antenna_diameters is not set. Using known values for HERA.\n",
      "Fixing auto-correlations to be be real-only, after some imaginary values were detected in data_array.\n"
     ]
    },
    {
     "name": "stdout",
     "output_type": "stream",
     "text": [
      "48\n"
     ]
    },
    {
     "name": "stderr",
     "output_type": "stream",
     "text": [
      "antenna_diameters is not set. Using known values for HERA.\n",
      "Fixing auto-correlations to be be real-only, after some imaginary values were detected in data_array.\n"
     ]
    },
    {
     "name": "stdout",
     "output_type": "stream",
     "text": [
      "49\n"
     ]
    },
    {
     "name": "stderr",
     "output_type": "stream",
     "text": [
      "antenna_diameters is not set. Using known values for HERA.\n",
      "Fixing auto-correlations to be be real-only, after some imaginary values were detected in data_array.\n"
     ]
    },
    {
     "name": "stdout",
     "output_type": "stream",
     "text": [
      "50\n"
     ]
    },
    {
     "name": "stderr",
     "output_type": "stream",
     "text": [
      "antenna_diameters is not set. Using known values for HERA.\n",
      "Fixing auto-correlations to be be real-only, after some imaginary values were detected in data_array.\n"
     ]
    },
    {
     "name": "stdout",
     "output_type": "stream",
     "text": [
      "51\n"
     ]
    },
    {
     "name": "stderr",
     "output_type": "stream",
     "text": [
      "antenna_diameters is not set. Using known values for HERA.\n",
      "Fixing auto-correlations to be be real-only, after some imaginary values were detected in data_array.\n"
     ]
    },
    {
     "name": "stdout",
     "output_type": "stream",
     "text": [
      "52\n"
     ]
    },
    {
     "name": "stderr",
     "output_type": "stream",
     "text": [
      "antenna_diameters is not set. Using known values for HERA.\n"
     ]
    },
    {
     "name": "stdout",
     "output_type": "stream",
     "text": [
      "53\n"
     ]
    },
    {
     "name": "stderr",
     "output_type": "stream",
     "text": [
      "antenna_diameters is not set. Using known values for HERA.\n",
      "Fixing auto-correlations to be be real-only, after some imaginary values were detected in data_array.\n"
     ]
    },
    {
     "name": "stdout",
     "output_type": "stream",
     "text": [
      "54\n"
     ]
    },
    {
     "name": "stderr",
     "output_type": "stream",
     "text": [
      "antenna_diameters is not set. Using known values for HERA.\n",
      "Fixing auto-correlations to be be real-only, after some imaginary values were detected in data_array.\n"
     ]
    },
    {
     "name": "stdout",
     "output_type": "stream",
     "text": [
      "55\n"
     ]
    },
    {
     "name": "stderr",
     "output_type": "stream",
     "text": [
      "antenna_diameters is not set. Using known values for HERA.\n",
      "Fixing auto-correlations to be be real-only, after some imaginary values were detected in data_array.\n"
     ]
    },
    {
     "name": "stdout",
     "output_type": "stream",
     "text": [
      "56\n"
     ]
    },
    {
     "name": "stderr",
     "output_type": "stream",
     "text": [
      "antenna_diameters is not set. Using known values for HERA.\n",
      "Fixing auto-correlations to be be real-only, after some imaginary values were detected in data_array.\n"
     ]
    },
    {
     "name": "stdout",
     "output_type": "stream",
     "text": [
      "57\n"
     ]
    },
    {
     "name": "stderr",
     "output_type": "stream",
     "text": [
      "antenna_diameters is not set. Using known values for HERA.\n",
      "Fixing auto-correlations to be be real-only, after some imaginary values were detected in data_array.\n"
     ]
    },
    {
     "name": "stdout",
     "output_type": "stream",
     "text": [
      "58\n"
     ]
    },
    {
     "name": "stderr",
     "output_type": "stream",
     "text": [
      "antenna_diameters is not set. Using known values for HERA.\n",
      "Fixing auto-correlations to be be real-only, after some imaginary values were detected in data_array.\n"
     ]
    },
    {
     "name": "stdout",
     "output_type": "stream",
     "text": [
      "59\n"
     ]
    },
    {
     "name": "stderr",
     "output_type": "stream",
     "text": [
      "antenna_diameters is not set. Using known values for HERA.\n",
      "Fixing auto-correlations to be be real-only, after some imaginary values were detected in data_array.\n"
     ]
    },
    {
     "name": "stdout",
     "output_type": "stream",
     "text": [
      "60\n"
     ]
    },
    {
     "name": "stderr",
     "output_type": "stream",
     "text": [
      "antenna_diameters is not set. Using known values for HERA.\n",
      "Fixing auto-correlations to be be real-only, after some imaginary values were detected in data_array.\n"
     ]
    },
    {
     "name": "stdout",
     "output_type": "stream",
     "text": [
      "61\n"
     ]
    },
    {
     "name": "stderr",
     "output_type": "stream",
     "text": [
      "antenna_diameters is not set. Using known values for HERA.\n",
      "Fixing auto-correlations to be be real-only, after some imaginary values were detected in data_array.\n"
     ]
    },
    {
     "name": "stdout",
     "output_type": "stream",
     "text": [
      "62\n"
     ]
    },
    {
     "name": "stderr",
     "output_type": "stream",
     "text": [
      "antenna_diameters is not set. Using known values for HERA.\n",
      "Fixing auto-correlations to be be real-only, after some imaginary values were detected in data_array.\n"
     ]
    },
    {
     "name": "stdout",
     "output_type": "stream",
     "text": [
      "63\n"
     ]
    },
    {
     "name": "stderr",
     "output_type": "stream",
     "text": [
      "antenna_diameters is not set. Using known values for HERA.\n",
      "Fixing auto-correlations to be be real-only, after some imaginary values were detected in data_array.\n"
     ]
    },
    {
     "name": "stdout",
     "output_type": "stream",
     "text": [
      "64\n"
     ]
    },
    {
     "name": "stderr",
     "output_type": "stream",
     "text": [
      "antenna_diameters is not set. Using known values for HERA.\n",
      "Fixing auto-correlations to be be real-only, after some imaginary values were detected in data_array.\n"
     ]
    },
    {
     "name": "stdout",
     "output_type": "stream",
     "text": [
      "65\n"
     ]
    },
    {
     "name": "stderr",
     "output_type": "stream",
     "text": [
      "antenna_diameters is not set. Using known values for HERA.\n",
      "Fixing auto-correlations to be be real-only, after some imaginary values were detected in data_array.\n"
     ]
    }
   ],
   "source": [
    "path = \"/lustre/aoc/projects/hera/H1C_IDR3/IDR3_2/LSTBIN/all_epochs_preprocessed/zen.grp1.of1.LST.*.sum.LPXL.uvh5\"\n",
    "\n",
    "paths = glob.glob(path)\n",
    "uvd_combined = UVData()\n",
    "uvd_combined.read(paths[0])\n",
    "\n",
    "auto_pairs = [[]]\n",
    "for antpair in uvd_combined.get_antpairs():\n",
    "    if antpair[0] == antpair[1]:\n",
    "        auto_pairs[0].append(antpair)\n",
    "\n",
    "uvd_combined = red_average(uvd_combined, reds=auto_pairs)\n",
    "uvd_combined.select(bls=[(1, 1, \"XX\"), (1, 1, \"YY\")], freq_chans=np.arange(535, 696))\n",
    "\n",
    "for i, path in enumerate(paths[1:]):\n",
    "    print(i)\n",
    "    uvd = UVData()\n",
    "    uvd.read(path)\n",
    "    uvd = red_average(uvd, reds=auto_pairs)\n",
    "    uvd.select(bls=[(1, 1, \"XX\"), (1, 1, \"YY\")], freq_chans=np.arange(535, 696))\n",
    "    uvd_combined += uvd\n",
    "    \n",
    "lst = uvd_combined.lst_array * 12 / np.pi"
   ]
  },
  {
   "cell_type": "markdown",
   "id": "d0728832",
   "metadata": {},
   "source": [
    "## Compute System Temperature\n",
    "Using the averaged autocorrelations $V_\\mathrm{auto}(t, \\nu)$, we estimate the system temperature as $T_\\mathrm{sys}(t, \\nu) = \\frac{c^2 V_\\mathrm{auto}(t, \\nu)}{2k_\\mathrm{b}\\nu^2\\Omega}$, where $\\Omega$ is the integrated beam response. "
   ]
  },
  {
   "cell_type": "code",
   "execution_count": 189,
   "id": "717e7031",
   "metadata": {},
   "outputs": [],
   "source": [
    "# read Omega\n",
    "omega_path = \"/lustre/aoc/projects/hera/pkeller/HERA-Beams/NicolasFagnoniBeams/Omega.csv\"\n",
    "omega = np.loadtxt(omega_path)[535:696]\n",
    "\n",
    "# frequencies\n",
    "freq = uvd_combined.freq_array[0]\n",
    "\n",
    "# constants\n",
    "c =  299792458\n",
    "kb = 1.3806503 * 1e-23\n",
    "\n",
    "# compute Tsys\n",
    "Tsys = c**2 * np.moveaxis(uvd_combined.get_data((1, 1)), (0, 1, 2), (1, 2, 0)) / (2 * kb * freq**2 * omega * 2) * 1e-26\n",
    "flags = np.moveaxis(uvd_combined.get_flags((1, 1)), 2, 0)\n",
    "Tsys[flags] = np.nan"
   ]
  },
  {
   "cell_type": "markdown",
   "id": "b7b913eb",
   "metadata": {},
   "source": [
    "## Plot System Temperature"
   ]
  },
  {
   "cell_type": "code",
   "execution_count": 197,
   "id": "32640bdd",
   "metadata": {},
   "outputs": [
    {
     "name": "stderr",
     "output_type": "stream",
     "text": [
      "Mean of empty slice\n"
     ]
    },
    {
     "data": {
      "image/png": "[encoded data removed]",
      "text/plain": [
       "<Figure size 432x288 with 2 Axes>"
      ]
     },
     "metadata": {
      "needs_background": "light"
     },
     "output_type": "display_data"
    }
   ],
   "source": [
    "fig, ax = plt.subplots()\n",
    "\n",
    "colors = np.linspace(0, 1, Tsys.shape[-1])\n",
    "\n",
    "dummie_cax = ax.scatter(freq*1e-6, freq*1e-6, c=freq*1e-6, cmap=\"gist_heat_r\")\n",
    "ax.clear()\n",
    "\n",
    "for i in range(len(colors)):\n",
    "    cbar = ax.plot(lst, np.nanmean(Tsys[:, :, i], axis=0), color=cm.gist_heat_r(i/len(colors)));\n",
    "\n",
    "fields = [[21.5, 24], [0.75, 2.75], [4.0, 6.25], [10.75, 14.75]]\n",
    "\n",
    "for (t1, t2), fname in zip(fields, [\"A\", \"B\", \"C\", r\"E$^*$\"]):\n",
    "    ax.axvspan(t1, t2, alpha=0.05, color='k')\n",
    "    ax.text(0.5 * (t1 + t2), 4*1e3, fname, ha=\"center\")\n",
    "\n",
    "ax.minorticks_on()\n",
    "fig.colorbar(dummie_cax, label=\"Frequency (MHz)\")\n",
    "\n",
    "plt.xlim([0, 24])\n",
    "plt.ylim(bottom=1e2, top=1e4)\n",
    "plt.xlabel(\"LST (h)\")\n",
    "plt.ylabel(r\"$T_\\mathrm{sys}$ (K)\")\n",
    "plt.yscale(\"log\")\n"
   ]
  },
  {
   "cell_type": "markdown",
   "id": "7d75f308",
   "metadata": {},
   "source": [
    "## Compute and Plot Noise RMS\n",
    "We can now compute the noise using the radiometer equation $\\sigma = \\frac{\\sqrt{2} \\Omega \\nu^2 k_bT_\\mathrm{sys}}{c^2 \\sqrt{\\Delta t \\Delta \\nu}}$."
   ]
  },
  {
   "cell_type": "code",
   "execution_count": 191,
   "id": "1a9044f6",
   "metadata": {},
   "outputs": [],
   "source": [
    "std = np.sqrt(2) * freq**2 * omega * 2 * kb * Tsys / (c**2 * np.sqrt(10.7 * 100 / 1024 * 1e6)) * 1e26"
   ]
  },
  {
   "cell_type": "code",
   "execution_count": 196,
   "id": "3b2c235a",
   "metadata": {},
   "outputs": [
    {
     "name": "stderr",
     "output_type": "stream",
     "text": [
      "Mean of empty slice\n"
     ]
    },
    {
     "data": {
      "image/png": "[encoded data removed]",
      "text/plain": [
       "<Figure size 432x288 with 2 Axes>"
      ]
     },
     "metadata": {
      "needs_background": "light"
     },
     "output_type": "display_data"
    }
   ],
   "source": [
    "fig, ax = plt.subplots()\n",
    "\n",
    "colors = np.linspace(0, 1, Tsys.shape[-1])\n",
    "\n",
    "dummie_cax = ax.scatter(freq*1e-6, freq*1e-6, c=freq*1e-6, cmap=\"gist_heat_r\")\n",
    "ax.clear()\n",
    "\n",
    "for i in range(len(colors)):\n",
    "    cbar = ax.plot(lst, np.nanmean(std[:, :, i], axis=0), color=cm.gist_heat_r(i/len(colors)));\n",
    "\n",
    "fields = [[21.5, 24], [0.75, 2.75], [4.0, 6.25], [10.75, 14.75]]\n",
    "\n",
    "for (t1, t2), fname in zip(fields, [\"A\", \"B\", \"C\", r\"E$^*$\"]):\n",
    "    ax.axvspan(t1, t2, alpha=0.05, color='k')\n",
    "    ax.text(0.5 * (t1 + t2), 3e1, fname, ha=\"center\")\n",
    "\n",
    "ax.minorticks_on()\n",
    "fig.colorbar(dummie_cax, label=\"Frequency (MHz)\")\n",
    "\n",
    "plt.xlim([0, 24])\n",
    "plt.xlabel(\"LST (h)\")\n",
    "plt.ylabel(r\"$\\sigma$ (Jy)\")\n",
    "plt.yscale(\"log\")"
   ]
  },
  {
   "cell_type": "markdown",
   "id": "5c5a4a93",
   "metadata": {},
   "source": [
    "## Write to File\n",
    "Write the noise RMS as a function of time and frequency to a file."
   ]
  },
  {
   "cell_type": "code",
   "execution_count": 199,
   "id": "164542dc",
   "metadata": {},
   "outputs": [],
   "source": [
    "path = \"/users/pkeller/code/H1C_IDR3.2/data/noise_std.h5\"\n",
    "\n",
    "f = h5py.File(path, \"w\")\n",
    "f.create_dataset(f\"Tsys\", data=Tsys)\n",
    "f.create_dataset(f\"RMS\", data=std)\n",
    "f.create_dataset(f\"LST\", data=lst)\n",
    "\n",
    "f.close()"
   ]
  }
 ],
 "metadata": {
  "kernelspec": {
   "display_name": "base",
   "language": "python",
   "name": "base"
  },
  "language_info": {
   "codemirror_mode": {
    "name": "ipython",
    "version": 3
   },
   "file_extension": ".py",
   "mimetype": "text/x-python",
   "name": "python",
   "nbconvert_exporter": "python",
   "pygments_lexer": "ipython3",
   "version": "3.7.4"
  }
 },
 "nbformat": 4,
 "nbformat_minor": 5
}
