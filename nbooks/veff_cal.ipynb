{
 "cells": [
  {
   "cell_type": "markdown",
   "id": "65ba3339",
   "metadata": {},
   "source": [
    "# Effective Visibilities\n",
    "Compute effective visibilities from calibrated data and compare them to effective visibilities computed from simulated data. Also, compute inverse variance weights using closure phase differences to see if certain LSTs dominate the weighted average."
   ]
  },
  {
   "cell_type": "code",
   "execution_count": 1,
   "id": "83d5b9f2",
   "metadata": {},
   "outputs": [],
   "source": [
    "import h5py\n",
    "import glob\n",
    "import numpy as np\n",
    "from scipy.signal import get_window\n",
    "\n",
    "from pyuvdata import UVData\n",
    "import matplotlib.pyplot as plt\n",
    "\n",
    "# redundant averagig\n",
    "from hera_cal.utils import red_average"
   ]
  },
  {
   "cell_type": "markdown",
   "id": "7bf8b0f4",
   "metadata": {},
   "source": [
    "## Read, Average and Select Calibrated Data\n",
    "We are using the systematics subtracted, LST-binned H1C IDR3.2 data. Only keep \"XX\" and \"YY\" polarisation products and baselines of a given equilateral triad (EQ14 or EQ29). "
   ]
  },
  {
   "cell_type": "code",
   "execution_count": 5,
   "id": "499f98a3",
   "metadata": {},
   "outputs": [
    {
     "name": "stderr",
     "output_type": "stream",
     "text": [
      "antenna_diameters is not set. Using known values for HERA.\n",
      "Fixing auto-correlations to be be real-only, after some imaginary values were detected in data_array.\n"
     ]
    },
    {
     "name": "stdout",
     "output_type": "stream",
     "text": [
      "0\n"
     ]
    },
    {
     "name": "stderr",
     "output_type": "stream",
     "text": [
      "antenna_diameters is not set. Using known values for HERA.\n"
     ]
    },
    {
     "name": "stdout",
     "output_type": "stream",
     "text": [
      "1\n"
     ]
    },
    {
     "name": "stderr",
     "output_type": "stream",
     "text": [
      "antenna_diameters is not set. Using known values for HERA.\n",
      "Fixing auto-correlations to be be real-only, after some imaginary values were detected in data_array.\n"
     ]
    },
    {
     "name": "stdout",
     "output_type": "stream",
     "text": [
      "2\n"
     ]
    },
    {
     "name": "stderr",
     "output_type": "stream",
     "text": [
      "antenna_diameters is not set. Using known values for HERA.\n",
      "Fixing auto-correlations to be be real-only, after some imaginary values were detected in data_array.\n"
     ]
    },
    {
     "name": "stdout",
     "output_type": "stream",
     "text": [
      "3\n"
     ]
    },
    {
     "name": "stderr",
     "output_type": "stream",
     "text": [
      "antenna_diameters is not set. Using known values for HERA.\n",
      "Fixing auto-correlations to be be real-only, after some imaginary values were detected in data_array.\n"
     ]
    },
    {
     "name": "stdout",
     "output_type": "stream",
     "text": [
      "4\n"
     ]
    },
    {
     "name": "stderr",
     "output_type": "stream",
     "text": [
      "antenna_diameters is not set. Using known values for HERA.\n",
      "Fixing auto-correlations to be be real-only, after some imaginary values were detected in data_array.\n"
     ]
    },
    {
     "name": "stdout",
     "output_type": "stream",
     "text": [
      "5\n"
     ]
    },
    {
     "name": "stderr",
     "output_type": "stream",
     "text": [
      "antenna_diameters is not set. Using known values for HERA.\n",
      "Fixing auto-correlations to be be real-only, after some imaginary values were detected in data_array.\n"
     ]
    },
    {
     "name": "stdout",
     "output_type": "stream",
     "text": [
      "6\n"
     ]
    },
    {
     "name": "stderr",
     "output_type": "stream",
     "text": [
      "antenna_diameters is not set. Using known values for HERA.\n",
      "Fixing auto-correlations to be be real-only, after some imaginary values were detected in data_array.\n"
     ]
    },
    {
     "name": "stdout",
     "output_type": "stream",
     "text": [
      "7\n"
     ]
    },
    {
     "name": "stderr",
     "output_type": "stream",
     "text": [
      "antenna_diameters is not set. Using known values for HERA.\n",
      "Fixing auto-correlations to be be real-only, after some imaginary values were detected in data_array.\n"
     ]
    },
    {
     "name": "stdout",
     "output_type": "stream",
     "text": [
      "8\n"
     ]
    },
    {
     "name": "stderr",
     "output_type": "stream",
     "text": [
      "antenna_diameters is not set. Using known values for HERA.\n",
      "Fixing auto-correlations to be be real-only, after some imaginary values were detected in data_array.\n"
     ]
    },
    {
     "name": "stdout",
     "output_type": "stream",
     "text": [
      "9\n"
     ]
    },
    {
     "name": "stderr",
     "output_type": "stream",
     "text": [
      "antenna_diameters is not set. Using known values for HERA.\n",
      "Fixing auto-correlations to be be real-only, after some imaginary values were detected in data_array.\n"
     ]
    },
    {
     "name": "stdout",
     "output_type": "stream",
     "text": [
      "10\n"
     ]
    },
    {
     "name": "stderr",
     "output_type": "stream",
     "text": [
      "antenna_diameters is not set. Using known values for HERA.\n",
      "Fixing auto-correlations to be be real-only, after some imaginary values were detected in data_array.\n"
     ]
    },
    {
     "name": "stdout",
     "output_type": "stream",
     "text": [
      "11\n"
     ]
    },
    {
     "name": "stderr",
     "output_type": "stream",
     "text": [
      "antenna_diameters is not set. Using known values for HERA.\n",
      "Fixing auto-correlations to be be real-only, after some imaginary values were detected in data_array.\n"
     ]
    },
    {
     "name": "stdout",
     "output_type": "stream",
     "text": [
      "12\n"
     ]
    },
    {
     "name": "stderr",
     "output_type": "stream",
     "text": [
      "antenna_diameters is not set. Using known values for HERA.\n",
      "Fixing auto-correlations to be be real-only, after some imaginary values were detected in data_array.\n"
     ]
    },
    {
     "name": "stdout",
     "output_type": "stream",
     "text": [
      "13\n"
     ]
    },
    {
     "name": "stderr",
     "output_type": "stream",
     "text": [
      "antenna_diameters is not set. Using known values for HERA.\n"
     ]
    },
    {
     "name": "stdout",
     "output_type": "stream",
     "text": [
      "14\n"
     ]
    },
    {
     "name": "stderr",
     "output_type": "stream",
     "text": [
      "antenna_diameters is not set. Using known values for HERA.\n"
     ]
    },
    {
     "name": "stdout",
     "output_type": "stream",
     "text": [
      "15\n"
     ]
    },
    {
     "name": "stderr",
     "output_type": "stream",
     "text": [
      "antenna_diameters is not set. Using known values for HERA.\n",
      "Fixing auto-correlations to be be real-only, after some imaginary values were detected in data_array.\n"
     ]
    },
    {
     "name": "stdout",
     "output_type": "stream",
     "text": [
      "16\n"
     ]
    },
    {
     "name": "stderr",
     "output_type": "stream",
     "text": [
      "antenna_diameters is not set. Using known values for HERA.\n"
     ]
    },
    {
     "name": "stdout",
     "output_type": "stream",
     "text": [
      "17\n"
     ]
    },
    {
     "name": "stderr",
     "output_type": "stream",
     "text": [
      "antenna_diameters is not set. Using known values for HERA.\n",
      "Fixing auto-correlations to be be real-only, after some imaginary values were detected in data_array.\n"
     ]
    },
    {
     "name": "stdout",
     "output_type": "stream",
     "text": [
      "18\n"
     ]
    },
    {
     "name": "stderr",
     "output_type": "stream",
     "text": [
      "antenna_diameters is not set. Using known values for HERA.\n",
      "Fixing auto-correlations to be be real-only, after some imaginary values were detected in data_array.\n"
     ]
    },
    {
     "name": "stdout",
     "output_type": "stream",
     "text": [
      "19\n"
     ]
    },
    {
     "name": "stderr",
     "output_type": "stream",
     "text": [
      "antenna_diameters is not set. Using known values for HERA.\n",
      "Fixing auto-correlations to be be real-only, after some imaginary values were detected in data_array.\n"
     ]
    },
    {
     "name": "stdout",
     "output_type": "stream",
     "text": [
      "20\n"
     ]
    },
    {
     "name": "stderr",
     "output_type": "stream",
     "text": [
      "antenna_diameters is not set. Using known values for HERA.\n",
      "Fixing auto-correlations to be be real-only, after some imaginary values were detected in data_array.\n"
     ]
    },
    {
     "name": "stdout",
     "output_type": "stream",
     "text": [
      "21\n"
     ]
    },
    {
     "name": "stderr",
     "output_type": "stream",
     "text": [
      "antenna_diameters is not set. Using known values for HERA.\n",
      "Fixing auto-correlations to be be real-only, after some imaginary values were detected in data_array.\n"
     ]
    },
    {
     "name": "stdout",
     "output_type": "stream",
     "text": [
      "22\n"
     ]
    },
    {
     "name": "stderr",
     "output_type": "stream",
     "text": [
      "antenna_diameters is not set. Using known values for HERA.\n",
      "Fixing auto-correlations to be be real-only, after some imaginary values were detected in data_array.\n"
     ]
    },
    {
     "name": "stdout",
     "output_type": "stream",
     "text": [
      "23\n"
     ]
    },
    {
     "name": "stderr",
     "output_type": "stream",
     "text": [
      "antenna_diameters is not set. Using known values for HERA.\n",
      "Fixing auto-correlations to be be real-only, after some imaginary values were detected in data_array.\n"
     ]
    },
    {
     "name": "stdout",
     "output_type": "stream",
     "text": [
      "24\n"
     ]
    },
    {
     "name": "stderr",
     "output_type": "stream",
     "text": [
      "antenna_diameters is not set. Using known values for HERA.\n",
      "Fixing auto-correlations to be be real-only, after some imaginary values were detected in data_array.\n"
     ]
    },
    {
     "name": "stdout",
     "output_type": "stream",
     "text": [
      "25\n"
     ]
    },
    {
     "name": "stderr",
     "output_type": "stream",
     "text": [
      "antenna_diameters is not set. Using known values for HERA.\n",
      "Fixing auto-correlations to be be real-only, after some imaginary values were detected in data_array.\n"
     ]
    },
    {
     "name": "stdout",
     "output_type": "stream",
     "text": [
      "26\n"
     ]
    },
    {
     "name": "stderr",
     "output_type": "stream",
     "text": [
      "antenna_diameters is not set. Using known values for HERA.\n",
      "Fixing auto-correlations to be be real-only, after some imaginary values were detected in data_array.\n"
     ]
    },
    {
     "name": "stdout",
     "output_type": "stream",
     "text": [
      "27\n"
     ]
    },
    {
     "name": "stderr",
     "output_type": "stream",
     "text": [
      "antenna_diameters is not set. Using known values for HERA.\n",
      "Fixing auto-correlations to be be real-only, after some imaginary values were detected in data_array.\n"
     ]
    },
    {
     "name": "stdout",
     "output_type": "stream",
     "text": [
      "28\n"
     ]
    },
    {
     "name": "stderr",
     "output_type": "stream",
     "text": [
      "antenna_diameters is not set. Using known values for HERA.\n",
      "Fixing auto-correlations to be be real-only, after some imaginary values were detected in data_array.\n"
     ]
    },
    {
     "name": "stdout",
     "output_type": "stream",
     "text": [
      "29\n"
     ]
    },
    {
     "name": "stderr",
     "output_type": "stream",
     "text": [
      "antenna_diameters is not set. Using known values for HERA.\n",
      "Fixing auto-correlations to be be real-only, after some imaginary values were detected in data_array.\n"
     ]
    },
    {
     "name": "stdout",
     "output_type": "stream",
     "text": [
      "30\n"
     ]
    },
    {
     "name": "stderr",
     "output_type": "stream",
     "text": [
      "antenna_diameters is not set. Using known values for HERA.\n",
      "Fixing auto-correlations to be be real-only, after some imaginary values were detected in data_array.\n"
     ]
    },
    {
     "name": "stdout",
     "output_type": "stream",
     "text": [
      "31\n"
     ]
    },
    {
     "name": "stderr",
     "output_type": "stream",
     "text": [
      "antenna_diameters is not set. Using known values for HERA.\n",
      "Fixing auto-correlations to be be real-only, after some imaginary values were detected in data_array.\n"
     ]
    },
    {
     "name": "stdout",
     "output_type": "stream",
     "text": [
      "32\n"
     ]
    },
    {
     "name": "stderr",
     "output_type": "stream",
     "text": [
      "antenna_diameters is not set. Using known values for HERA.\n",
      "Fixing auto-correlations to be be real-only, after some imaginary values were detected in data_array.\n"
     ]
    },
    {
     "name": "stdout",
     "output_type": "stream",
     "text": [
      "33\n"
     ]
    },
    {
     "name": "stderr",
     "output_type": "stream",
     "text": [
      "antenna_diameters is not set. Using known values for HERA.\n",
      "Fixing auto-correlations to be be real-only, after some imaginary values were detected in data_array.\n"
     ]
    },
    {
     "name": "stdout",
     "output_type": "stream",
     "text": [
      "34\n"
     ]
    },
    {
     "name": "stderr",
     "output_type": "stream",
     "text": [
      "antenna_diameters is not set. Using known values for HERA.\n",
      "Fixing auto-correlations to be be real-only, after some imaginary values were detected in data_array.\n"
     ]
    },
    {
     "name": "stdout",
     "output_type": "stream",
     "text": [
      "35\n"
     ]
    },
    {
     "name": "stderr",
     "output_type": "stream",
     "text": [
      "antenna_diameters is not set. Using known values for HERA.\n"
     ]
    },
    {
     "name": "stdout",
     "output_type": "stream",
     "text": [
      "36\n"
     ]
    },
    {
     "name": "stderr",
     "output_type": "stream",
     "text": [
      "antenna_diameters is not set. Using known values for HERA.\n",
      "Fixing auto-correlations to be be real-only, after some imaginary values were detected in data_array.\n"
     ]
    },
    {
     "name": "stdout",
     "output_type": "stream",
     "text": [
      "37\n"
     ]
    },
    {
     "name": "stderr",
     "output_type": "stream",
     "text": [
      "antenna_diameters is not set. Using known values for HERA.\n",
      "Fixing auto-correlations to be be real-only, after some imaginary values were detected in data_array.\n"
     ]
    },
    {
     "name": "stdout",
     "output_type": "stream",
     "text": [
      "38\n"
     ]
    },
    {
     "name": "stderr",
     "output_type": "stream",
     "text": [
      "antenna_diameters is not set. Using known values for HERA.\n",
      "Fixing auto-correlations to be be real-only, after some imaginary values were detected in data_array.\n"
     ]
    },
    {
     "name": "stdout",
     "output_type": "stream",
     "text": [
      "39\n"
     ]
    },
    {
     "name": "stderr",
     "output_type": "stream",
     "text": [
      "antenna_diameters is not set. Using known values for HERA.\n",
      "Fixing auto-correlations to be be real-only, after some imaginary values were detected in data_array.\n"
     ]
    },
    {
     "name": "stdout",
     "output_type": "stream",
     "text": [
      "40\n"
     ]
    },
    {
     "name": "stderr",
     "output_type": "stream",
     "text": [
      "antenna_diameters is not set. Using known values for HERA.\n",
      "Fixing auto-correlations to be be real-only, after some imaginary values were detected in data_array.\n"
     ]
    },
    {
     "name": "stdout",
     "output_type": "stream",
     "text": [
      "41\n"
     ]
    },
    {
     "name": "stderr",
     "output_type": "stream",
     "text": [
      "antenna_diameters is not set. Using known values for HERA.\n",
      "Fixing auto-correlations to be be real-only, after some imaginary values were detected in data_array.\n"
     ]
    },
    {
     "name": "stdout",
     "output_type": "stream",
     "text": [
      "42\n"
     ]
    },
    {
     "name": "stderr",
     "output_type": "stream",
     "text": [
      "antenna_diameters is not set. Using known values for HERA.\n",
      "Fixing auto-correlations to be be real-only, after some imaginary values were detected in data_array.\n"
     ]
    },
    {
     "name": "stdout",
     "output_type": "stream",
     "text": [
      "43\n"
     ]
    },
    {
     "name": "stderr",
     "output_type": "stream",
     "text": [
      "antenna_diameters is not set. Using known values for HERA.\n",
      "Fixing auto-correlations to be be real-only, after some imaginary values were detected in data_array.\n"
     ]
    },
    {
     "name": "stdout",
     "output_type": "stream",
     "text": [
      "44\n"
     ]
    },
    {
     "name": "stderr",
     "output_type": "stream",
     "text": [
      "antenna_diameters is not set. Using known values for HERA.\n",
      "Fixing auto-correlations to be be real-only, after some imaginary values were detected in data_array.\n"
     ]
    },
    {
     "name": "stdout",
     "output_type": "stream",
     "text": [
      "45\n"
     ]
    },
    {
     "name": "stderr",
     "output_type": "stream",
     "text": [
      "antenna_diameters is not set. Using known values for HERA.\n"
     ]
    },
    {
     "name": "stdout",
     "output_type": "stream",
     "text": [
      "46\n"
     ]
    },
    {
     "name": "stderr",
     "output_type": "stream",
     "text": [
      "antenna_diameters is not set. Using known values for HERA.\n",
      "Fixing auto-correlations to be be real-only, after some imaginary values were detected in data_array.\n"
     ]
    },
    {
     "name": "stdout",
     "output_type": "stream",
     "text": [
      "47\n"
     ]
    },
    {
     "name": "stderr",
     "output_type": "stream",
     "text": [
      "antenna_diameters is not set. Using known values for HERA.\n",
      "Fixing auto-correlations to be be real-only, after some imaginary values were detected in data_array.\n"
     ]
    },
    {
     "name": "stdout",
     "output_type": "stream",
     "text": [
      "48\n"
     ]
    },
    {
     "name": "stderr",
     "output_type": "stream",
     "text": [
      "antenna_diameters is not set. Using known values for HERA.\n",
      "Fixing auto-correlations to be be real-only, after some imaginary values were detected in data_array.\n"
     ]
    },
    {
     "name": "stdout",
     "output_type": "stream",
     "text": [
      "49\n"
     ]
    },
    {
     "name": "stderr",
     "output_type": "stream",
     "text": [
      "antenna_diameters is not set. Using known values for HERA.\n",
      "Fixing auto-correlations to be be real-only, after some imaginary values were detected in data_array.\n"
     ]
    },
    {
     "name": "stdout",
     "output_type": "stream",
     "text": [
      "50\n"
     ]
    },
    {
     "name": "stderr",
     "output_type": "stream",
     "text": [
      "antenna_diameters is not set. Using known values for HERA.\n",
      "Fixing auto-correlations to be be real-only, after some imaginary values were detected in data_array.\n"
     ]
    },
    {
     "name": "stdout",
     "output_type": "stream",
     "text": [
      "51\n"
     ]
    },
    {
     "name": "stderr",
     "output_type": "stream",
     "text": [
      "antenna_diameters is not set. Using known values for HERA.\n",
      "Fixing auto-correlations to be be real-only, after some imaginary values were detected in data_array.\n"
     ]
    },
    {
     "name": "stdout",
     "output_type": "stream",
     "text": [
      "52\n"
     ]
    },
    {
     "name": "stderr",
     "output_type": "stream",
     "text": [
      "antenna_diameters is not set. Using known values for HERA.\n"
     ]
    },
    {
     "name": "stdout",
     "output_type": "stream",
     "text": [
      "53\n"
     ]
    },
    {
     "name": "stderr",
     "output_type": "stream",
     "text": [
      "antenna_diameters is not set. Using known values for HERA.\n",
      "Fixing auto-correlations to be be real-only, after some imaginary values were detected in data_array.\n"
     ]
    },
    {
     "name": "stdout",
     "output_type": "stream",
     "text": [
      "54\n"
     ]
    },
    {
     "name": "stderr",
     "output_type": "stream",
     "text": [
      "antenna_diameters is not set. Using known values for HERA.\n",
      "Fixing auto-correlations to be be real-only, after some imaginary values were detected in data_array.\n"
     ]
    },
    {
     "name": "stdout",
     "output_type": "stream",
     "text": [
      "55\n"
     ]
    },
    {
     "name": "stderr",
     "output_type": "stream",
     "text": [
      "antenna_diameters is not set. Using known values for HERA.\n",
      "Fixing auto-correlations to be be real-only, after some imaginary values were detected in data_array.\n"
     ]
    },
    {
     "name": "stdout",
     "output_type": "stream",
     "text": [
      "56\n"
     ]
    },
    {
     "name": "stderr",
     "output_type": "stream",
     "text": [
      "antenna_diameters is not set. Using known values for HERA.\n",
      "Fixing auto-correlations to be be real-only, after some imaginary values were detected in data_array.\n"
     ]
    },
    {
     "name": "stdout",
     "output_type": "stream",
     "text": [
      "57\n"
     ]
    },
    {
     "name": "stderr",
     "output_type": "stream",
     "text": [
      "antenna_diameters is not set. Using known values for HERA.\n",
      "Fixing auto-correlations to be be real-only, after some imaginary values were detected in data_array.\n"
     ]
    },
    {
     "name": "stdout",
     "output_type": "stream",
     "text": [
      "58\n"
     ]
    },
    {
     "name": "stderr",
     "output_type": "stream",
     "text": [
      "antenna_diameters is not set. Using known values for HERA.\n",
      "Fixing auto-correlations to be be real-only, after some imaginary values were detected in data_array.\n"
     ]
    },
    {
     "name": "stdout",
     "output_type": "stream",
     "text": [
      "59\n"
     ]
    },
    {
     "name": "stderr",
     "output_type": "stream",
     "text": [
      "antenna_diameters is not set. Using known values for HERA.\n",
      "Fixing auto-correlations to be be real-only, after some imaginary values were detected in data_array.\n"
     ]
    },
    {
     "name": "stdout",
     "output_type": "stream",
     "text": [
      "60\n"
     ]
    },
    {
     "name": "stderr",
     "output_type": "stream",
     "text": [
      "antenna_diameters is not set. Using known values for HERA.\n",
      "Fixing auto-correlations to be be real-only, after some imaginary values were detected in data_array.\n"
     ]
    },
    {
     "name": "stdout",
     "output_type": "stream",
     "text": [
      "61\n"
     ]
    },
    {
     "name": "stderr",
     "output_type": "stream",
     "text": [
      "antenna_diameters is not set. Using known values for HERA.\n",
      "Fixing auto-correlations to be be real-only, after some imaginary values were detected in data_array.\n"
     ]
    },
    {
     "name": "stdout",
     "output_type": "stream",
     "text": [
      "62\n"
     ]
    },
    {
     "name": "stderr",
     "output_type": "stream",
     "text": [
      "antenna_diameters is not set. Using known values for HERA.\n",
      "Fixing auto-correlations to be be real-only, after some imaginary values were detected in data_array.\n"
     ]
    },
    {
     "name": "stdout",
     "output_type": "stream",
     "text": [
      "63\n"
     ]
    },
    {
     "name": "stderr",
     "output_type": "stream",
     "text": [
      "antenna_diameters is not set. Using known values for HERA.\n",
      "Fixing auto-correlations to be be real-only, after some imaginary values were detected in data_array.\n"
     ]
    },
    {
     "name": "stdout",
     "output_type": "stream",
     "text": [
      "64\n"
     ]
    },
    {
     "name": "stderr",
     "output_type": "stream",
     "text": [
      "antenna_diameters is not set. Using known values for HERA.\n",
      "Fixing auto-correlations to be be real-only, after some imaginary values were detected in data_array.\n"
     ]
    },
    {
     "name": "stdout",
     "output_type": "stream",
     "text": [
      "65\n"
     ]
    },
    {
     "name": "stderr",
     "output_type": "stream",
     "text": [
      "antenna_diameters is not set. Using known values for HERA.\n",
      "Fixing auto-correlations to be be real-only, after some imaginary values were detected in data_array.\n"
     ]
    }
   ],
   "source": [
    "path = \"/lustre/aoc/projects/hera/H1C_IDR3/IDR3_2/LSTBIN/all_epochs_preprocessed/zen.grp1.of1.LST.*.sum.LPXL.uvh5\"\n",
    "paths = glob.glob(path)\n",
    "uvd_combined = UVData()\n",
    "uvd_combined.read(paths[0])\n",
    "uvd_combined = red_average(uvd_combined)\n",
    "# EQ14\n",
    "uvd_combined.select(bls=[(1, 12, \"XX\"), (1, 13, \"XX\"), (11, 12, \"XX\"), (1, 12, \"YY\"), (1, 13, \"YY\"), (11, 12, \"YY\")], freq_chans=np.arange(535, 696))\n",
    "# EQ29\n",
    "#uvd_combined.select(bls=[(11, 36, \"XX\"), (1, 26, \"XX\"), (11, 13, \"XX\"), (11, 36, \"YY\"), (1, 26, \"YY\"), (11, 13, \"YY\")], freq_chans=np.arange(565, 696))\n",
    "\n",
    "for i, path in enumerate(paths[1:]):\n",
    "    print(i)\n",
    "    uvd = UVData()\n",
    "    uvd.read(path)\n",
    "    uvd = red_average(uvd)\n",
    "    # EQ14\n",
    "    uvd.select(bls=[(1, 12, \"XX\"), (1, 13, \"XX\"), (11, 12, \"XX\"), (1, 12, \"YY\"), (1, 13, \"YY\"), (11, 12, \"YY\")], freq_chans=np.arange(535, 696))\n",
    "    # EQ29\n",
    "    #uvd.select(bls=[(11, 36, \"XX\"), (1, 26, \"XX\"), (11, 13, \"XX\"), (11, 36, \"YY\"), (1, 26, \"YY\"), (11, 13, \"YY\")], freq_chans=np.arange(565, 696))\n",
    "    uvd_combined += uvd"
   ]
  },
  {
   "cell_type": "markdown",
   "id": "d0728832",
   "metadata": {},
   "source": [
    "## Compute Effective Visibilities"
   ]
  },
  {
   "cell_type": "code",
   "execution_count": 6,
   "id": "261da74a",
   "metadata": {},
   "outputs": [
    {
     "ename": "KeyError",
     "evalue": "'Antenna pair (11, 13) not found in data'",
     "output_type": "error",
     "traceback": [
      "\u001b[0;31m---------------------------------------------------------------------------\u001b[0m",
      "\u001b[0;31mKeyError\u001b[0m                                  Traceback (most recent call last)",
      "\u001b[0;32m<ipython-input-6-676d117f284d>\u001b[0m in \u001b[0;36m<module>\u001b[0;34m\u001b[0m\n\u001b[0;32m----> 1\u001b[0;31m \u001b[0mwindow\u001b[0m \u001b[0;34m=\u001b[0m \u001b[0mget_window\u001b[0m\u001b[0;34m(\u001b[0m\u001b[0;34m\"blackmanharris\"\u001b[0m\u001b[0;34m,\u001b[0m \u001b[0muvd_combined\u001b[0m\u001b[0;34m.\u001b[0m\u001b[0mget_data\u001b[0m\u001b[0;34m(\u001b[0m\u001b[0;34m(\u001b[0m\u001b[0;36m11\u001b[0m\u001b[0;34m,\u001b[0m \u001b[0;36m13\u001b[0m\u001b[0;34m,\u001b[0m \u001b[0;34m\"xx\"\u001b[0m\u001b[0;34m)\u001b[0m\u001b[0;34m)\u001b[0m\u001b[0;34m.\u001b[0m\u001b[0mshape\u001b[0m\u001b[0;34m[\u001b[0m\u001b[0;34m-\u001b[0m\u001b[0;36m1\u001b[0m\u001b[0;34m]\u001b[0m\u001b[0;34m)\u001b[0m\u001b[0;34m\u001b[0m\u001b[0;34m\u001b[0m\u001b[0m\n\u001b[0m\u001b[1;32m      2\u001b[0m \u001b[0mwindow_sum\u001b[0m \u001b[0;34m=\u001b[0m \u001b[0mwindow\u001b[0m\u001b[0;34m.\u001b[0m\u001b[0msum\u001b[0m\u001b[0;34m(\u001b[0m\u001b[0maxis\u001b[0m\u001b[0;34m=\u001b[0m\u001b[0;34m-\u001b[0m\u001b[0;36m1\u001b[0m\u001b[0;34m)\u001b[0m\u001b[0;34m\u001b[0m\u001b[0;34m\u001b[0m\u001b[0m\n\u001b[1;32m      3\u001b[0m \u001b[0;34m\u001b[0m\u001b[0m\n\u001b[1;32m      4\u001b[0m \u001b[0mfields\u001b[0m \u001b[0;34m=\u001b[0m \u001b[0;34m[\u001b[0m\u001b[0;34m[\u001b[0m\u001b[0;36m21.5\u001b[0m\u001b[0;34m,\u001b[0m \u001b[0;36m24\u001b[0m\u001b[0;34m]\u001b[0m\u001b[0;34m,\u001b[0m \u001b[0;34m[\u001b[0m\u001b[0;36m0.75\u001b[0m\u001b[0;34m,\u001b[0m \u001b[0;36m2.75\u001b[0m\u001b[0;34m]\u001b[0m\u001b[0;34m,\u001b[0m \u001b[0;34m[\u001b[0m\u001b[0;36m4.0\u001b[0m\u001b[0;34m,\u001b[0m \u001b[0;36m6.25\u001b[0m\u001b[0;34m]\u001b[0m\u001b[0;34m,\u001b[0m \u001b[0;34m[\u001b[0m\u001b[0;36m6.25\u001b[0m\u001b[0;34m,\u001b[0m \u001b[0;36m9.25\u001b[0m\u001b[0;34m]\u001b[0m\u001b[0;34m,\u001b[0m \u001b[0;34m[\u001b[0m\u001b[0;36m9.25\u001b[0m\u001b[0;34m,\u001b[0m \u001b[0;36m14.75\u001b[0m\u001b[0;34m]\u001b[0m\u001b[0;34m]\u001b[0m\u001b[0;34m\u001b[0m\u001b[0;34m\u001b[0m\u001b[0m\n\u001b[1;32m      5\u001b[0m \u001b[0mveff_data\u001b[0m \u001b[0;34m=\u001b[0m \u001b[0;34m[\u001b[0m\u001b[0;34m]\u001b[0m\u001b[0;34m\u001b[0m\u001b[0;34m\u001b[0m\u001b[0m\n",
      "\u001b[0;32m/lustre/aoc/projects/hera/pkeller/anaconda3/lib/python3.7/site-packages/pyuvdata/uvdata/uvdata.py\u001b[0m in \u001b[0;36mget_data\u001b[0;34m(self, key1, key2, key3, squeeze, force_copy)\u001b[0m\n\u001b[1;32m   3439\u001b[0m         \u001b[0;32mif\u001b[0m \u001b[0mlen\u001b[0m\u001b[0;34m(\u001b[0m\u001b[0mkey\u001b[0m\u001b[0;34m)\u001b[0m \u001b[0;34m>\u001b[0m \u001b[0;36m3\u001b[0m\u001b[0;34m:\u001b[0m\u001b[0;34m\u001b[0m\u001b[0;34m\u001b[0m\u001b[0m\n\u001b[1;32m   3440\u001b[0m             \u001b[0;32mraise\u001b[0m \u001b[0mValueError\u001b[0m\u001b[0;34m(\u001b[0m\u001b[0;34m\"no more than 3 key values can be passed\"\u001b[0m\u001b[0;34m)\u001b[0m\u001b[0;34m\u001b[0m\u001b[0;34m\u001b[0m\u001b[0m\n\u001b[0;32m-> 3441\u001b[0;31m         \u001b[0mind1\u001b[0m\u001b[0;34m,\u001b[0m \u001b[0mind2\u001b[0m\u001b[0;34m,\u001b[0m \u001b[0mindp\u001b[0m \u001b[0;34m=\u001b[0m \u001b[0mself\u001b[0m\u001b[0;34m.\u001b[0m\u001b[0m_key2inds\u001b[0m\u001b[0;34m(\u001b[0m\u001b[0mkey\u001b[0m\u001b[0;34m)\u001b[0m\u001b[0;34m\u001b[0m\u001b[0;34m\u001b[0m\u001b[0m\n\u001b[0m\u001b[1;32m   3442\u001b[0m         out = self._smart_slicing(\n\u001b[1;32m   3443\u001b[0m             \u001b[0mself\u001b[0m\u001b[0;34m.\u001b[0m\u001b[0mdata_array\u001b[0m\u001b[0;34m,\u001b[0m \u001b[0mind1\u001b[0m\u001b[0;34m,\u001b[0m \u001b[0mind2\u001b[0m\u001b[0;34m,\u001b[0m \u001b[0mindp\u001b[0m\u001b[0;34m,\u001b[0m \u001b[0msqueeze\u001b[0m\u001b[0;34m=\u001b[0m\u001b[0msqueeze\u001b[0m\u001b[0;34m,\u001b[0m \u001b[0mforce_copy\u001b[0m\u001b[0;34m=\u001b[0m\u001b[0mforce_copy\u001b[0m\u001b[0;34m\u001b[0m\u001b[0;34m\u001b[0m\u001b[0m\n",
      "\u001b[0;32m/lustre/aoc/projects/hera/pkeller/anaconda3/lib/python3.7/site-packages/pyuvdata/uvdata/uvdata.py\u001b[0m in \u001b[0;36m_key2inds\u001b[0;34m(self, key)\u001b[0m\n\u001b[1;32m   3089\u001b[0m                 raise KeyError(\n\u001b[1;32m   3090\u001b[0m                     \u001b[0;34m\"Antenna pair {pair} not found in \"\u001b[0m\u001b[0;34m\u001b[0m\u001b[0;34m\u001b[0m\u001b[0m\n\u001b[0;32m-> 3091\u001b[0;31m                     \u001b[0;34m\"data\"\u001b[0m\u001b[0;34m.\u001b[0m\u001b[0mformat\u001b[0m\u001b[0;34m(\u001b[0m\u001b[0mpair\u001b[0m\u001b[0;34m=\u001b[0m\u001b[0;34m(\u001b[0m\u001b[0mkey\u001b[0m\u001b[0;34m[\u001b[0m\u001b[0;36m0\u001b[0m\u001b[0;34m]\u001b[0m\u001b[0;34m,\u001b[0m \u001b[0mkey\u001b[0m\u001b[0;34m[\u001b[0m\u001b[0;36m1\u001b[0m\u001b[0;34m]\u001b[0m\u001b[0;34m)\u001b[0m\u001b[0;34m)\u001b[0m\u001b[0;34m\u001b[0m\u001b[0;34m\u001b[0m\u001b[0m\n\u001b[0m\u001b[1;32m   3092\u001b[0m                 )\n\u001b[1;32m   3093\u001b[0m             \u001b[0;32mif\u001b[0m \u001b[0mtype\u001b[0m\u001b[0;34m(\u001b[0m\u001b[0mkey\u001b[0m\u001b[0;34m[\u001b[0m\u001b[0;36m2\u001b[0m\u001b[0;34m]\u001b[0m\u001b[0;34m)\u001b[0m \u001b[0;32mis\u001b[0m \u001b[0mstr\u001b[0m\u001b[0;34m:\u001b[0m\u001b[0;34m\u001b[0m\u001b[0;34m\u001b[0m\u001b[0m\n",
      "\u001b[0;31mKeyError\u001b[0m: 'Antenna pair (11, 13) not found in data'"
     ]
    }
   ],
   "source": [
    "window = get_window(\"blackmanharris\", uvd_combined.get_data((11, 13, \"xx\")).shape[-1])\n",
    "window_sum = window.sum(axis=-1)\n",
    "\n",
    "fields = [[21.5, 24], [0.75, 2.75], [4.0, 6.25], [6.25, 9.25], [9.25, 14.75]]\n",
    "veff_data = []\n",
    "lst = []\n",
    "trclass = \"EQ14\"\n",
    "\n",
    "for field, (t1, t2) in zip([\"A\", \"B\", \"C\", \"D\", \"E\"], fields):\n",
    "    uvd = uvd_combined.select(lst_range=[t1 * np.pi / 12, t2 * np.pi / 12], inplace=False)\n",
    "    v1 = np.nansum(np.abs(uvd.get_data(11, 36, \"xx\")) * window, axis=-1) / window_sum\n",
    "    v2 = np.nansum(np.abs(uvd.get_data(1, 26, \"xx\")) * window, axis=-1) / window_sum\n",
    "    v3 = np.nansum(np.abs(uvd.get_data(11, 13, \"xx\")) * window, axis=-1) / window_sum\n",
    "    veff = np.sqrt(1 / (1 / v1**2 + 1 / v2**2 + 1 / v3**2))\n",
    "\n",
    "    v1 = np.nansum(np.abs(uvd.get_data(11, 36, \"yy\")) * window, axis=-1) / window_sum\n",
    "    v2 = np.nansum(np.abs(uvd.get_data(1, 26, \"yy\")) * window, axis=-1) / window_sum\n",
    "    v3 = np.nansum(np.abs(uvd.get_data(11, 13, \"yy\")) * window, axis=-1) / window_sum\n",
    "    veff = np.array([veff, np.sqrt(1 / (1 / v1**2 + 1 / v2**2 + 1 / v3**2))])\n",
    "    veff[np.where(veff < 5)] = np.nan\n",
    "    lst.append(np.array([np.nanmean(np.unique(uvd.lst_array)[i*8:(i+1)*8]) for i in range(veff.shape[1] // 8)]))\n",
    "    veff = np.array([np.nanmean(veff[:, i*8:(i+1)*8], axis=1) for i in range(veff.shape[1] // 8)]) \n",
    "    \n",
    "    np.savetxt(f\"/users/pkeller/code/H1C_IDR3.2/data/veff_cal_{trclass}_F{field}B2.dat\", veff)\n",
    "    \n",
    "    veff_data.append(veff)\n",
    "\n",
    "lst_data = np.hstack(lst) * 12 / np.pi\n",
    "veff_data = np.vstack(veff_data)"
   ]
  },
  {
   "cell_type": "markdown",
   "id": "dec5c3e0",
   "metadata": {},
   "source": [
    "## Get Simulated Effective Visibilities"
   ]
  },
  {
   "cell_type": "code",
   "execution_count": 11,
   "id": "f9306af1",
   "metadata": {},
   "outputs": [
    {
     "name": "stderr",
     "output_type": "stream",
     "text": [
      "Degrees of freedom <= 0 for slice.\n"
     ]
    }
   ],
   "source": [
    "veff_sim = []\n",
    "lst_sim = []\n",
    "noise_xx = []\n",
    "noise_yy = []\n",
    "\n",
    "trclass = \"EQ14\"\n",
    "for field, lst_range in zip([\"A\", \"B\", \"C\", \"E\"], fields):\n",
    "    with h5py.File(f\"/lustre/aoc/projects/hera/pkeller/data/H1C_IDR3.2/sample/{trclass}_F{field}_B2_AVG.h5\", \"r\") as f:\n",
    "        lst = f[\"LST\"][()]\n",
    "        idx = np.where(~((lst > 6.25) & (lst < 10.75)))\n",
    "        lst_sim.append(lst[idx])\n",
    "        eicp1_xx = f[\"eicp XX (2)\"][()]\n",
    "        eicp1_yy = f[\"eicp YY (2)\"][()]\n",
    "    \n",
    "    path = f\"/users/pkeller/code/H1C_IDR3.2/data/veff_{trclass}_F{field}B2.dat\"\n",
    "    veff_sim.append(np.loadtxt(path)[idx])\n",
    "    \n",
    "    noise_xx.append(np.nanmedian(np.nanstd(eicp1_xx[1] - eicp1_xx[0], axis=-1), axis=0)[idx])\n",
    "    noise_yy.append(np.nanmedian(np.nanstd(eicp1_yy[1] - eicp1_yy[0], axis=-1), axis=0)[idx])\n",
    "    \n",
    "veff_sim = np.vstack(veff_sim)\n",
    "lst_sim = np.hstack(lst_sim)\n",
    "noise_xx = np.hstack(noise_xx)\n",
    "noise_yy = np.hstack(noise_yy)"
   ]
  },
  {
   "cell_type": "markdown",
   "id": "359fb562",
   "metadata": {},
   "source": [
    "## Plot Effective Visibilities\n",
    "Below are three plots that show (I) the effective visibilities, (II) the variances and the (III) inverse variances as a function of LST. This is done for both polarisation products and effective visibilities computed from calibrated data and simulated data respectively. While the simulated Veff generally traces the data Veff well, there are some large fractional discrepancies, e.g. at around 14 h. This might be because of strong unmodelled sources, such as the galactic centre, in the side lobe of the antennas. In the second and third plot it can be seen that variance of the scaled complex closure phase (i.e. the complex exponential of the closure phase multiplied by the effective visibility) is rather smooth for the data Veff and erratic for the model Veff, which is again indicative of model defficiencies. The effective visibility should level out the noise which is due to low visibility amplitudes. The data Veff does this well. "
   ]
  },
  {
   "cell_type": "markdown",
   "id": "ad6b2fd5",
   "metadata": {},
   "source": [
    "## EQ14"
   ]
  },
  {
   "cell_type": "code",
   "execution_count": 3,
   "id": "b65e54a6",
   "metadata": {},
   "outputs": [
    {
     "name": "stderr",
     "output_type": "stream",
     "text": [
      "/lustre/aoc/projects/hera/pkeller/anaconda3/lib/python3.7/site-packages/numpy/lib/nanfunctions.py:1671: RuntimeWarning: Degrees of freedom <= 0 for slice.\n",
      "  keepdims=keepdims)\n"
     ]
    },
    {
     "ename": "NameError",
     "evalue": "name 'lst_data' is not defined",
     "output_type": "error",
     "traceback": [
      "\u001b[0;31m---------------------------------------------------------------------------\u001b[0m",
      "\u001b[0;31mNameError\u001b[0m                                 Traceback (most recent call last)",
      "\u001b[0;32m<ipython-input-3-2777ca23e009>\u001b[0m in \u001b[0;36m<module>\u001b[0;34m\u001b[0m\n\u001b[1;32m     23\u001b[0m     \u001b[0mnoise_xx\u001b[0m\u001b[0;34m.\u001b[0m\u001b[0mappend\u001b[0m\u001b[0;34m(\u001b[0m\u001b[0mnp\u001b[0m\u001b[0;34m.\u001b[0m\u001b[0mnanmedian\u001b[0m\u001b[0;34m(\u001b[0m\u001b[0mnp\u001b[0m\u001b[0;34m.\u001b[0m\u001b[0mnanstd\u001b[0m\u001b[0;34m(\u001b[0m\u001b[0meicp1_xx\u001b[0m\u001b[0;34m[\u001b[0m\u001b[0;36m1\u001b[0m\u001b[0;34m]\u001b[0m \u001b[0;34m-\u001b[0m \u001b[0meicp1_xx\u001b[0m\u001b[0;34m[\u001b[0m\u001b[0;36m0\u001b[0m\u001b[0;34m]\u001b[0m\u001b[0;34m,\u001b[0m \u001b[0maxis\u001b[0m\u001b[0;34m=\u001b[0m\u001b[0;34m-\u001b[0m\u001b[0;36m1\u001b[0m\u001b[0;34m)\u001b[0m\u001b[0;34m,\u001b[0m \u001b[0maxis\u001b[0m\u001b[0;34m=\u001b[0m\u001b[0;36m0\u001b[0m\u001b[0;34m)\u001b[0m\u001b[0;34m)\u001b[0m\u001b[0;34m\u001b[0m\u001b[0;34m\u001b[0m\u001b[0m\n\u001b[1;32m     24\u001b[0m     \u001b[0mnoise_yy\u001b[0m\u001b[0;34m.\u001b[0m\u001b[0mappend\u001b[0m\u001b[0;34m(\u001b[0m\u001b[0mnp\u001b[0m\u001b[0;34m.\u001b[0m\u001b[0mnanmedian\u001b[0m\u001b[0;34m(\u001b[0m\u001b[0mnp\u001b[0m\u001b[0;34m.\u001b[0m\u001b[0mnanstd\u001b[0m\u001b[0;34m(\u001b[0m\u001b[0meicp1_yy\u001b[0m\u001b[0;34m[\u001b[0m\u001b[0;36m1\u001b[0m\u001b[0;34m]\u001b[0m \u001b[0;34m-\u001b[0m \u001b[0meicp1_yy\u001b[0m\u001b[0;34m[\u001b[0m\u001b[0;36m0\u001b[0m\u001b[0;34m]\u001b[0m\u001b[0;34m,\u001b[0m \u001b[0maxis\u001b[0m\u001b[0;34m=\u001b[0m\u001b[0;34m-\u001b[0m\u001b[0;36m1\u001b[0m\u001b[0;34m)\u001b[0m\u001b[0;34m,\u001b[0m \u001b[0maxis\u001b[0m\u001b[0;34m=\u001b[0m\u001b[0;36m0\u001b[0m\u001b[0;34m)\u001b[0m\u001b[0;34m)\u001b[0m\u001b[0;34m\u001b[0m\u001b[0;34m\u001b[0m\u001b[0m\n\u001b[0;32m---> 25\u001b[0;31m     \u001b[0mprint\u001b[0m\u001b[0;34m(\u001b[0m\u001b[0mmin\u001b[0m\u001b[0;34m(\u001b[0m\u001b[0mlst\u001b[0m\u001b[0;34m)\u001b[0m\u001b[0;34m,\u001b[0m \u001b[0mmax\u001b[0m\u001b[0;34m(\u001b[0m\u001b[0mlst\u001b[0m\u001b[0;34m)\u001b[0m\u001b[0;34m,\u001b[0m \u001b[0mmin\u001b[0m\u001b[0;34m(\u001b[0m\u001b[0mlst_data\u001b[0m\u001b[0;34m)\u001b[0m\u001b[0;34m,\u001b[0m \u001b[0mmax\u001b[0m\u001b[0;34m(\u001b[0m\u001b[0mlst_data\u001b[0m\u001b[0;34m)\u001b[0m\u001b[0;34m)\u001b[0m\u001b[0;34m\u001b[0m\u001b[0;34m\u001b[0m\u001b[0m\n\u001b[0m\u001b[1;32m     26\u001b[0m \u001b[0;34m\u001b[0m\u001b[0m\n\u001b[1;32m     27\u001b[0m     \u001b[0mveff_data\u001b[0m \u001b[0;34m=\u001b[0m \u001b[0mnp\u001b[0m\u001b[0;34m.\u001b[0m\u001b[0mvstack\u001b[0m\u001b[0;34m(\u001b[0m\u001b[0mveff_data\u001b[0m\u001b[0;34m)\u001b[0m\u001b[0;34m\u001b[0m\u001b[0;34m\u001b[0m\u001b[0m\n",
      "\u001b[0;31mNameError\u001b[0m: name 'lst_data' is not defined"
     ]
    }
   ],
   "source": [
    "fields = [[21.5, 24], [0.75, 2.75], [4.0, 6.25], [6.25, 9.25], [9.25, 14.75]]\n",
    "veff_data = []\n",
    "veff_sim = []\n",
    "lst_sim = []\n",
    "noise_xx = []\n",
    "noise_yy = []\n",
    "trclass = \"EQ14\"\n",
    "\n",
    "for field, (t1, t2) in zip([\"A\", \"B\", \"C\", \"D\", \"E\"], fields):\n",
    "    veff = np.loadtxt(f\"/users/pkeller/code/H1C_IDR3.2/data/veff_cal_{trclass}_F{field}B2.dat\") \n",
    "    veff_data.append(veff)\n",
    "    \n",
    "    with h5py.File(f\"/lustre/aoc/projects/hera/pkeller/data/H1C_IDR3.2/sample/{trclass}_F{field}_B2_AVG.h5\", \"r\") as f:\n",
    "        lst = f[\"LST\"][()]\n",
    "        #idx = np.where(~((lst > 6.25) & (lst < 10.75)))\n",
    "        #lst_sim.append(lst[idx])\n",
    "        eicp1_xx = f[\"eicp XX (2)\"][()]\n",
    "        eicp1_yy = f[\"eicp YY (2)\"][()]\n",
    "    \n",
    "    path = f\"/users/pkeller/code/H1C_IDR3.2/data/veff_{trclass}_F{field}B2.dat\"\n",
    "    #veff_sim.append(np.loadtxt(path)[idx])\n",
    "    \n",
    "    noise_xx.append(np.nanmedian(np.nanstd(eicp1_xx[1] - eicp1_xx[0], axis=-1), axis=0))\n",
    "    noise_yy.append(np.nanmedian(np.nanstd(eicp1_yy[1] - eicp1_yy[0], axis=-1), axis=0))\n",
    "    print(min(lst), max(lst), min(lst_data), max(lst_data))\n",
    "\n",
    "    veff_data = np.vstack(veff_data)\n",
    "#veff_sim = np.vstack(veff_sim)\n",
    "#lst_sim = np.hstack(lst_sim)\n",
    "noise_xx = np.hstack(noise_xx)\n",
    "noise_yy = np.hstack(noise_yy)"
   ]
  },
  {
   "cell_type": "code",
   "execution_count": 33,
   "id": "2fd79fd9",
   "metadata": {},
   "outputs": [
    {
     "data": {
      "image/png": "[encoded data removed]",
      "text/plain": [
       "<Figure size 1440x144 with 1 Axes>"
      ]
     },
     "metadata": {
      "needs_background": "light"
     },
     "output_type": "display_data"
    }
   ],
   "source": [
    "fig, ax = plt.subplots(figsize=(20, 2))\n",
    "idx = np.where((np.all(veff_data > 5, axis=1)))\n",
    "\n",
    "ax.scatter(lst_data, veff_data[:, 0], label=\"Veff Data East-West\")\n",
    "ax.scatter(lst_data, veff_data[:, 1], label=\"Veff Data North-South\")\n",
    "#ax.scatter(lst_sim, veff_sim[:, 0], label=\"Veff Sim East-West\")\n",
    "#ax.scatter(lst_sim, veff_sim[:, 1], label=\"Veff Sim North-South\")\n",
    "ax.legend()\n",
    "ax.set_xlabel(\"LST (h)\")\n",
    "ax.set_ylabel(\"Veff (Jy)\")\n",
    "ax.set_xlim([0, 24])\n",
    "ax.set_yscale(\"log\")\n",
    "#ax.set_ylim(bottom=0.1)\n",
    "plt.minorticks_on()"
   ]
  },
  {
   "cell_type": "code",
   "execution_count": 34,
   "id": "fa99fb6c",
   "metadata": {
    "scrolled": true
   },
   "outputs": [
    {
     "data": {
      "image/png": "[encoded data removed]",
      "text/plain": [
       "<Figure size 1440x144 with 1 Axes>"
      ]
     },
     "metadata": {
      "needs_background": "light"
     },
     "output_type": "display_data"
    }
   ],
   "source": [
    "fig, ax = plt.subplots(figsize=(20, 2))\n",
    "idx = np.where((np.all(veff_data > 5, axis=1)))\n",
    "\n",
    "ax.scatter(lst_data[:-1], (veff_data[:-1, 0] * noise_xx)**2, label=\"Var Data East-West\")\n",
    "ax.scatter(lst_data[:-1], (veff_data[:-1, 1] * noise_yy)**2, label=\"Var Data North-South\")\n",
    "#ax.scatter(lst_data, (veff_sim[:, 0] * noise_xx)**2, label=\"Var Sim East-West\")\n",
    "#ax.scatter(lst_data, (veff_sim[:, 1] * noise_yy)**2, label=\"Var Sim North-South\")\n",
    "ax.legend()\n",
    "ax.set_xlabel(\"LST (h)\")\n",
    "ax.set_ylabel(r\"Variance (Jy$^2$)\")\n",
    "ax.set_xlim([0, 24])\n",
    "ax.set_yscale(\"log\")\n",
    "plt.minorticks_on()"
   ]
  },
  {
   "cell_type": "code",
   "execution_count": 35,
   "id": "caf44ae9",
   "metadata": {
    "scrolled": true
   },
   "outputs": [
    {
     "data": {
      "image/png": "[encoded data removed]",
      "text/plain": [
       "<Figure size 1440x144 with 1 Axes>"
      ]
     },
     "metadata": {
      "needs_background": "light"
     },
     "output_type": "display_data"
    }
   ],
   "source": [
    "fig, ax = plt.subplots(figsize=(20, 2))\n",
    "idx = np.where((np.all(veff_data > 5, axis=1)))\n",
    "\n",
    "ax.scatter(lst_data[:-1], (veff_data[:-1, 0] * noise_xx)**-2, label=\"Inv Var Data East-West\")\n",
    "ax.scatter(lst_data[:-1], (veff_data[:-1, 1] * noise_yy)**-2, label=\"Inv Var Data North-South\")\n",
    "#ax.scatter(lst_data, (veff_sim[:, 0] * noise_xx)**-2, label=\"Inv Var Sim East-West\")\n",
    "#ax.scatter(lst_data, (veff_sim[:, 1] * noise_yy)**-2, label=\"Inv Var Sim North-South\")\n",
    "ax.legend()\n",
    "ax.set_xlabel(\"LST (h)\")\n",
    "ax.set_ylabel(r\"Inverse Variance (Jy$^{-2}$)\")\n",
    "ax.set_xlim([0, 24])\n",
    "ax.set_yscale(\"log\")\n",
    "plt.minorticks_on()"
   ]
  },
  {
   "cell_type": "markdown",
   "id": "951bce0f",
   "metadata": {},
   "source": [
    "## EQ29"
   ]
  },
  {
   "cell_type": "code",
   "execution_count": 46,
   "id": "c9dfa137",
   "metadata": {},
   "outputs": [
    {
     "name": "stdout",
     "output_type": "stream",
     "text": [
      "(52,) (52, 2) (40, 52, 161)\n",
      "(41,) (41, 2) (57, 41, 161)\n"
     ]
    },
    {
     "name": "stderr",
     "output_type": "stream",
     "text": [
      "Degrees of freedom <= 0 for slice.\n"
     ]
    },
    {
     "name": "stdout",
     "output_type": "stream",
     "text": [
      "(47,) (47, 2) (59, 47, 161)\n",
      "(62,) (62, 2) (61, 62, 161)\n",
      "(114,) (115, 2) (59, 114, 161)\n"
     ]
    }
   ],
   "source": [
    "fields = [[21.5, 24], [0.75, 2.75], [4.0, 6.25], [6.25, 9.25], [9.25, 14.75]]\n",
    "veff_data = []\n",
    "veff_sim = []\n",
    "lst_sim = []\n",
    "noise_xx = []\n",
    "noise_yy = []\n",
    "trclass = \"EQ28\"\n",
    "\n",
    "for field, (t1, t2) in zip([\"A\", \"B\", \"C\", \"D\", \"E\"], fields):\n",
    "    veff = np.loadtxt(f\"/users/pkeller/code/H1C_IDR3.2/data/veff_cal_{trclass}_F{field}B2.dat\") \n",
    "    veff_data.append(veff)\n",
    "    \n",
    "    with h5py.File(f\"/lustre/aoc/projects/hera/pkeller/data/H1C_IDR3.2/sample/{trclass}_F{field}_B2_AVG.h5\", \"r\") as f:\n",
    "        lst = f[\"LST\"][()]\n",
    "        #idx = np.where(~((lst > 6.25) & (lst < 10.75)))\n",
    "        #lst_sim.append(lst[idx])\n",
    "        eicp1_xx = f[\"eicp XX (2)\"][()]\n",
    "        eicp1_yy = f[\"eicp YY (2)\"][()]\n",
    "    \n",
    "    path = f\"/users/pkeller/code/H1C_IDR3.2/data/veff_{trclass}_F{field}B2.dat\"\n",
    "    #veff_sim.append(np.loadtxt(path)[idx])\n",
    "    \n",
    "    noise_xx.append(np.nanmedian(np.nanstd(eicp1_xx[1] - eicp1_xx[0], axis=-1), axis=0))\n",
    "    noise_yy.append(np.nanmedian(np.nanstd(eicp1_yy[1] - eicp1_yy[0], axis=-1), axis=0))\n",
    "    print(lst.shape, veff.shape, eicp1_xx[0].shape)\n",
    "\n",
    "veff_data = np.vstack(veff_data)\n",
    "#veff_sim = np.vstack(veff_sim)\n",
    "#lst_sim = np.hstack(lst_sim)\n",
    "noise_xx = np.hstack(noise_xx)\n",
    "noise_yy = np.hstack(noise_yy)"
   ]
  },
  {
   "cell_type": "code",
   "execution_count": 47,
   "id": "12839d3a",
   "metadata": {},
   "outputs": [
    {
     "data": {
      "image/png": "[encoded data removed]",
      "text/plain": [
       "<Figure size 1440x144 with 1 Axes>"
      ]
     },
     "metadata": {
      "needs_background": "light"
     },
     "output_type": "display_data"
    }
   ],
   "source": [
    "fig, ax = plt.subplots(figsize=(20, 2))\n",
    "idx = np.where((np.all(veff_data > 5, axis=1)))\n",
    "\n",
    "ax.scatter(lst_data, veff_data[:, 0], label=\"Veff Data East-West\")\n",
    "ax.scatter(lst_data, veff_data[:, 1], label=\"Veff Data North-South\")\n",
    "#ax.scatter(lst_sim, veff_sim[:, 0], label=\"Veff Sim East-West\")\n",
    "#ax.scatter(lst_sim, veff_sim[:, 1], label=\"Veff Sim North-South\")\n",
    "ax.legend()\n",
    "ax.set_xlabel(\"LST (h)\")\n",
    "ax.set_ylabel(\"Veff (Jy)\")\n",
    "ax.set_xlim([0, 24])\n",
    "ax.set_yscale(\"log\")\n",
    "#ax.set_ylim(bottom=0.1)\n",
    "plt.minorticks_on()"
   ]
  },
  {
   "cell_type": "code",
   "execution_count": 49,
   "id": "d94f42ff",
   "metadata": {},
   "outputs": [
    {
     "data": {
      "image/png": "[encoded data removed]",
      "text/plain": [
       "<Figure size 1440x144 with 1 Axes>"
      ]
     },
     "metadata": {
      "needs_background": "light"
     },
     "output_type": "display_data"
    }
   ],
   "source": [
    "fig, ax = plt.subplots(figsize=(20, 2))\n",
    "idx = np.where((np.all(veff_data > 5, axis=1)))\n",
    "\n",
    "ax.scatter(lst_data[:-1], (veff_data[:-1, 0] * noise_xx)**2, label=\"Var Data East-West\")\n",
    "ax.scatter(lst_data[:-1], (veff_data[:-1, 1] * noise_yy)**2, label=\"Var Data North-South\")\n",
    "#ax.scatter(lst_data, (veff_sim[:, 0] * noise_xx)**2, label=\"Var Sim East-West\")\n",
    "#ax.scatter(lst_data, (veff_sim[:, 1] * noise_yy)**2, label=\"Var Sim North-South\")\n",
    "ax.legend()\n",
    "ax.set_xlabel(\"LST (h)\")\n",
    "ax.set_ylabel(r\"Variance (Jy$^2$)\")\n",
    "ax.set_xlim([0, 24])\n",
    "ax.set_yscale(\"log\")\n",
    "plt.minorticks_on()"
   ]
  },
  {
   "cell_type": "code",
   "execution_count": 50,
   "id": "e55afbe8",
   "metadata": {
    "scrolled": true
   },
   "outputs": [
    {
     "data": {
      "image/png": "[encoded data removed]",
      "text/plain": [
       "<Figure size 1440x144 with 1 Axes>"
      ]
     },
     "metadata": {
      "needs_background": "light"
     },
     "output_type": "display_data"
    }
   ],
   "source": [
    "fig, ax = plt.subplots(figsize=(20, 2))\n",
    "idx = np.where((np.all(veff_data > 5, axis=1)))\n",
    "\n",
    "ax.scatter(lst_data[:-1], (veff_data[:-1, 0] * noise_xx)**-2, label=\"Inv Var Data East-West\")\n",
    "ax.scatter(lst_data[:-1], (veff_data[:-1, 1] * noise_yy)**-2, label=\"Inv Var Data North-South\")\n",
    "#ax.scatter(lst_data, (veff_sim[:, 0] * noise_xx)**-2, label=\"Inv Var Sim East-West\")\n",
    "#ax.scatter(lst_data, (veff_sim[:, 1] * noise_yy)**-2, label=\"Inv Var Sim North-South\")\n",
    "ax.legend()\n",
    "ax.set_xlabel(\"LST (h)\")\n",
    "ax.set_ylabel(r\"Inverse Variance (Jy$^{-2}$)\")\n",
    "ax.set_xlim([0, 24])\n",
    "ax.set_yscale(\"log\")\n",
    "plt.minorticks_on()"
   ]
  }
 ],
 "metadata": {
  "kernelspec": {
   "display_name": "base",
   "language": "python",
   "name": "base"
  },
  "language_info": {
   "codemirror_mode": {
    "name": "ipython",
    "version": 3
   },
   "file_extension": ".py",
   "mimetype": "text/x-python",
   "name": "python",
   "nbconvert_exporter": "python",
   "pygments_lexer": "ipython3",
   "version": "3.7.4"
  }
 },
 "nbformat": 4,
 "nbformat_minor": 5
}
