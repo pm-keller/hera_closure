{
 "cells": [
  {
   "cell_type": "markdown",
   "id": "65ba3339",
   "metadata": {},
   "source": [
    "# Effective Visibilities\n",
    "Compute effective visibilities from calibrated data and compare them to effective visibilities computed from simulated data. Also, compute inverse variance weights using closure phase differences to see if certain LSTs dominate the weighted average."
   ]
  },
  {
   "cell_type": "code",
   "execution_count": 124,
   "id": "83d5b9f2",
   "metadata": {},
   "outputs": [],
   "source": [
    "import h5py\n",
    "import glob\n",
    "import numpy as np\n",
    "from scipy.signal import get_window\n",
    "from scipy.interpolate import interp1d\n",
    "\n",
    "from pyuvdata import UVData\n",
    "import matplotlib.pyplot as plt\n",
    "\n",
    "# redundant averagig\n",
    "from hera_cal.utils import red_average"
   ]
  },
  {
   "cell_type": "markdown",
   "id": "7bf8b0f4",
   "metadata": {},
   "source": [
    "## Read, Average and Select Calibrated Data\n",
    "We are using the systematics subtracted, LST-binned H1C IDR3.2 data. Only keep \"XX\" and \"YY\" polarisation products and baselines of a given equilateral triad (EQ14 or EQ29). "
   ]
  },
  {
   "cell_type": "code",
   "execution_count": 189,
   "id": "499f98a3",
   "metadata": {},
   "outputs": [
    {
     "name": "stderr",
     "output_type": "stream",
     "text": [
      "antenna_diameters is not set. Using known values for HERA.\n",
      "Fixing auto-correlations to be be real-only, after some imaginary values were detected in data_array.\n"
     ]
    },
    {
     "name": "stdout",
     "output_type": "stream",
     "text": [
      "0\n"
     ]
    },
    {
     "name": "stderr",
     "output_type": "stream",
     "text": [
      "antenna_diameters is not set. Using known values for HERA.\n"
     ]
    },
    {
     "name": "stdout",
     "output_type": "stream",
     "text": [
      "1\n"
     ]
    },
    {
     "name": "stderr",
     "output_type": "stream",
     "text": [
      "antenna_diameters is not set. Using known values for HERA.\n",
      "Fixing auto-correlations to be be real-only, after some imaginary values were detected in data_array.\n"
     ]
    },
    {
     "name": "stdout",
     "output_type": "stream",
     "text": [
      "2\n"
     ]
    },
    {
     "name": "stderr",
     "output_type": "stream",
     "text": [
      "antenna_diameters is not set. Using known values for HERA.\n",
      "Fixing auto-correlations to be be real-only, after some imaginary values were detected in data_array.\n"
     ]
    },
    {
     "name": "stdout",
     "output_type": "stream",
     "text": [
      "3\n"
     ]
    },
    {
     "name": "stderr",
     "output_type": "stream",
     "text": [
      "antenna_diameters is not set. Using known values for HERA.\n",
      "Fixing auto-correlations to be be real-only, after some imaginary values were detected in data_array.\n"
     ]
    },
    {
     "name": "stdout",
     "output_type": "stream",
     "text": [
      "4\n"
     ]
    },
    {
     "name": "stderr",
     "output_type": "stream",
     "text": [
      "antenna_diameters is not set. Using known values for HERA.\n",
      "Fixing auto-correlations to be be real-only, after some imaginary values were detected in data_array.\n"
     ]
    },
    {
     "name": "stdout",
     "output_type": "stream",
     "text": [
      "5\n"
     ]
    },
    {
     "name": "stderr",
     "output_type": "stream",
     "text": [
      "antenna_diameters is not set. Using known values for HERA.\n",
      "Fixing auto-correlations to be be real-only, after some imaginary values were detected in data_array.\n"
     ]
    },
    {
     "name": "stdout",
     "output_type": "stream",
     "text": [
      "6\n"
     ]
    },
    {
     "name": "stderr",
     "output_type": "stream",
     "text": [
      "antenna_diameters is not set. Using known values for HERA.\n",
      "Fixing auto-correlations to be be real-only, after some imaginary values were detected in data_array.\n"
     ]
    },
    {
     "name": "stdout",
     "output_type": "stream",
     "text": [
      "7\n"
     ]
    },
    {
     "name": "stderr",
     "output_type": "stream",
     "text": [
      "antenna_diameters is not set. Using known values for HERA.\n",
      "Fixing auto-correlations to be be real-only, after some imaginary values were detected in data_array.\n"
     ]
    },
    {
     "name": "stdout",
     "output_type": "stream",
     "text": [
      "8\n"
     ]
    },
    {
     "name": "stderr",
     "output_type": "stream",
     "text": [
      "antenna_diameters is not set. Using known values for HERA.\n",
      "Fixing auto-correlations to be be real-only, after some imaginary values were detected in data_array.\n"
     ]
    },
    {
     "name": "stdout",
     "output_type": "stream",
     "text": [
      "9\n"
     ]
    },
    {
     "name": "stderr",
     "output_type": "stream",
     "text": [
      "antenna_diameters is not set. Using known values for HERA.\n",
      "Fixing auto-correlations to be be real-only, after some imaginary values were detected in data_array.\n"
     ]
    },
    {
     "name": "stdout",
     "output_type": "stream",
     "text": [
      "10\n"
     ]
    },
    {
     "name": "stderr",
     "output_type": "stream",
     "text": [
      "antenna_diameters is not set. Using known values for HERA.\n",
      "Fixing auto-correlations to be be real-only, after some imaginary values were detected in data_array.\n"
     ]
    },
    {
     "name": "stdout",
     "output_type": "stream",
     "text": [
      "11\n"
     ]
    },
    {
     "name": "stderr",
     "output_type": "stream",
     "text": [
      "antenna_diameters is not set. Using known values for HERA.\n",
      "Fixing auto-correlations to be be real-only, after some imaginary values were detected in data_array.\n"
     ]
    },
    {
     "name": "stdout",
     "output_type": "stream",
     "text": [
      "12\n"
     ]
    },
    {
     "name": "stderr",
     "output_type": "stream",
     "text": [
      "antenna_diameters is not set. Using known values for HERA.\n",
      "Fixing auto-correlations to be be real-only, after some imaginary values were detected in data_array.\n"
     ]
    },
    {
     "name": "stdout",
     "output_type": "stream",
     "text": [
      "13\n"
     ]
    },
    {
     "name": "stderr",
     "output_type": "stream",
     "text": [
      "antenna_diameters is not set. Using known values for HERA.\n"
     ]
    },
    {
     "name": "stdout",
     "output_type": "stream",
     "text": [
      "14\n"
     ]
    },
    {
     "name": "stderr",
     "output_type": "stream",
     "text": [
      "antenna_diameters is not set. Using known values for HERA.\n"
     ]
    },
    {
     "name": "stdout",
     "output_type": "stream",
     "text": [
      "15\n"
     ]
    },
    {
     "name": "stderr",
     "output_type": "stream",
     "text": [
      "antenna_diameters is not set. Using known values for HERA.\n",
      "Fixing auto-correlations to be be real-only, after some imaginary values were detected in data_array.\n"
     ]
    },
    {
     "name": "stdout",
     "output_type": "stream",
     "text": [
      "16\n"
     ]
    },
    {
     "name": "stderr",
     "output_type": "stream",
     "text": [
      "antenna_diameters is not set. Using known values for HERA.\n"
     ]
    },
    {
     "name": "stdout",
     "output_type": "stream",
     "text": [
      "17\n"
     ]
    },
    {
     "name": "stderr",
     "output_type": "stream",
     "text": [
      "antenna_diameters is not set. Using known values for HERA.\n",
      "Fixing auto-correlations to be be real-only, after some imaginary values were detected in data_array.\n"
     ]
    },
    {
     "name": "stdout",
     "output_type": "stream",
     "text": [
      "18\n"
     ]
    },
    {
     "name": "stderr",
     "output_type": "stream",
     "text": [
      "antenna_diameters is not set. Using known values for HERA.\n",
      "Fixing auto-correlations to be be real-only, after some imaginary values were detected in data_array.\n"
     ]
    },
    {
     "name": "stdout",
     "output_type": "stream",
     "text": [
      "19\n"
     ]
    },
    {
     "name": "stderr",
     "output_type": "stream",
     "text": [
      "antenna_diameters is not set. Using known values for HERA.\n",
      "Fixing auto-correlations to be be real-only, after some imaginary values were detected in data_array.\n"
     ]
    },
    {
     "name": "stdout",
     "output_type": "stream",
     "text": [
      "20\n"
     ]
    },
    {
     "name": "stderr",
     "output_type": "stream",
     "text": [
      "antenna_diameters is not set. Using known values for HERA.\n",
      "Fixing auto-correlations to be be real-only, after some imaginary values were detected in data_array.\n"
     ]
    },
    {
     "name": "stdout",
     "output_type": "stream",
     "text": [
      "21\n"
     ]
    },
    {
     "name": "stderr",
     "output_type": "stream",
     "text": [
      "antenna_diameters is not set. Using known values for HERA.\n",
      "Fixing auto-correlations to be be real-only, after some imaginary values were detected in data_array.\n"
     ]
    },
    {
     "name": "stdout",
     "output_type": "stream",
     "text": [
      "22\n"
     ]
    },
    {
     "name": "stderr",
     "output_type": "stream",
     "text": [
      "antenna_diameters is not set. Using known values for HERA.\n",
      "Fixing auto-correlations to be be real-only, after some imaginary values were detected in data_array.\n"
     ]
    },
    {
     "name": "stdout",
     "output_type": "stream",
     "text": [
      "23\n"
     ]
    },
    {
     "name": "stderr",
     "output_type": "stream",
     "text": [
      "antenna_diameters is not set. Using known values for HERA.\n",
      "Fixing auto-correlations to be be real-only, after some imaginary values were detected in data_array.\n"
     ]
    },
    {
     "name": "stdout",
     "output_type": "stream",
     "text": [
      "24\n"
     ]
    },
    {
     "name": "stderr",
     "output_type": "stream",
     "text": [
      "antenna_diameters is not set. Using known values for HERA.\n",
      "Fixing auto-correlations to be be real-only, after some imaginary values were detected in data_array.\n"
     ]
    },
    {
     "name": "stdout",
     "output_type": "stream",
     "text": [
      "25\n"
     ]
    },
    {
     "name": "stderr",
     "output_type": "stream",
     "text": [
      "antenna_diameters is not set. Using known values for HERA.\n",
      "Fixing auto-correlations to be be real-only, after some imaginary values were detected in data_array.\n"
     ]
    },
    {
     "name": "stdout",
     "output_type": "stream",
     "text": [
      "26\n"
     ]
    },
    {
     "name": "stderr",
     "output_type": "stream",
     "text": [
      "antenna_diameters is not set. Using known values for HERA.\n",
      "Fixing auto-correlations to be be real-only, after some imaginary values were detected in data_array.\n"
     ]
    },
    {
     "name": "stdout",
     "output_type": "stream",
     "text": [
      "27\n"
     ]
    },
    {
     "name": "stderr",
     "output_type": "stream",
     "text": [
      "antenna_diameters is not set. Using known values for HERA.\n",
      "Fixing auto-correlations to be be real-only, after some imaginary values were detected in data_array.\n"
     ]
    },
    {
     "name": "stdout",
     "output_type": "stream",
     "text": [
      "28\n"
     ]
    },
    {
     "name": "stderr",
     "output_type": "stream",
     "text": [
      "antenna_diameters is not set. Using known values for HERA.\n",
      "Fixing auto-correlations to be be real-only, after some imaginary values were detected in data_array.\n"
     ]
    },
    {
     "name": "stdout",
     "output_type": "stream",
     "text": [
      "29\n"
     ]
    },
    {
     "name": "stderr",
     "output_type": "stream",
     "text": [
      "antenna_diameters is not set. Using known values for HERA.\n",
      "Fixing auto-correlations to be be real-only, after some imaginary values were detected in data_array.\n"
     ]
    },
    {
     "name": "stdout",
     "output_type": "stream",
     "text": [
      "30\n"
     ]
    },
    {
     "name": "stderr",
     "output_type": "stream",
     "text": [
      "antenna_diameters is not set. Using known values for HERA.\n",
      "Fixing auto-correlations to be be real-only, after some imaginary values were detected in data_array.\n"
     ]
    },
    {
     "name": "stdout",
     "output_type": "stream",
     "text": [
      "31\n"
     ]
    },
    {
     "name": "stderr",
     "output_type": "stream",
     "text": [
      "antenna_diameters is not set. Using known values for HERA.\n",
      "Fixing auto-correlations to be be real-only, after some imaginary values were detected in data_array.\n"
     ]
    },
    {
     "name": "stdout",
     "output_type": "stream",
     "text": [
      "32\n"
     ]
    },
    {
     "name": "stderr",
     "output_type": "stream",
     "text": [
      "antenna_diameters is not set. Using known values for HERA.\n",
      "Fixing auto-correlations to be be real-only, after some imaginary values were detected in data_array.\n"
     ]
    },
    {
     "name": "stdout",
     "output_type": "stream",
     "text": [
      "33\n"
     ]
    },
    {
     "name": "stderr",
     "output_type": "stream",
     "text": [
      "antenna_diameters is not set. Using known values for HERA.\n",
      "Fixing auto-correlations to be be real-only, after some imaginary values were detected in data_array.\n"
     ]
    },
    {
     "name": "stdout",
     "output_type": "stream",
     "text": [
      "34\n"
     ]
    },
    {
     "name": "stderr",
     "output_type": "stream",
     "text": [
      "antenna_diameters is not set. Using known values for HERA.\n",
      "Fixing auto-correlations to be be real-only, after some imaginary values were detected in data_array.\n"
     ]
    },
    {
     "name": "stdout",
     "output_type": "stream",
     "text": [
      "35\n"
     ]
    },
    {
     "name": "stderr",
     "output_type": "stream",
     "text": [
      "antenna_diameters is not set. Using known values for HERA.\n"
     ]
    },
    {
     "name": "stdout",
     "output_type": "stream",
     "text": [
      "36\n"
     ]
    },
    {
     "name": "stderr",
     "output_type": "stream",
     "text": [
      "antenna_diameters is not set. Using known values for HERA.\n",
      "Fixing auto-correlations to be be real-only, after some imaginary values were detected in data_array.\n"
     ]
    },
    {
     "name": "stdout",
     "output_type": "stream",
     "text": [
      "37\n"
     ]
    },
    {
     "name": "stderr",
     "output_type": "stream",
     "text": [
      "antenna_diameters is not set. Using known values for HERA.\n",
      "Fixing auto-correlations to be be real-only, after some imaginary values were detected in data_array.\n"
     ]
    },
    {
     "name": "stdout",
     "output_type": "stream",
     "text": [
      "38\n"
     ]
    },
    {
     "name": "stderr",
     "output_type": "stream",
     "text": [
      "antenna_diameters is not set. Using known values for HERA.\n",
      "Fixing auto-correlations to be be real-only, after some imaginary values were detected in data_array.\n"
     ]
    },
    {
     "name": "stdout",
     "output_type": "stream",
     "text": [
      "39\n"
     ]
    },
    {
     "name": "stderr",
     "output_type": "stream",
     "text": [
      "antenna_diameters is not set. Using known values for HERA.\n",
      "Fixing auto-correlations to be be real-only, after some imaginary values were detected in data_array.\n"
     ]
    },
    {
     "name": "stdout",
     "output_type": "stream",
     "text": [
      "40\n"
     ]
    },
    {
     "name": "stderr",
     "output_type": "stream",
     "text": [
      "antenna_diameters is not set. Using known values for HERA.\n",
      "Fixing auto-correlations to be be real-only, after some imaginary values were detected in data_array.\n"
     ]
    },
    {
     "name": "stdout",
     "output_type": "stream",
     "text": [
      "41\n"
     ]
    },
    {
     "name": "stderr",
     "output_type": "stream",
     "text": [
      "antenna_diameters is not set. Using known values for HERA.\n",
      "Fixing auto-correlations to be be real-only, after some imaginary values were detected in data_array.\n"
     ]
    },
    {
     "name": "stdout",
     "output_type": "stream",
     "text": [
      "42\n"
     ]
    },
    {
     "name": "stderr",
     "output_type": "stream",
     "text": [
      "antenna_diameters is not set. Using known values for HERA.\n",
      "Fixing auto-correlations to be be real-only, after some imaginary values were detected in data_array.\n"
     ]
    },
    {
     "name": "stdout",
     "output_type": "stream",
     "text": [
      "43\n"
     ]
    },
    {
     "name": "stderr",
     "output_type": "stream",
     "text": [
      "antenna_diameters is not set. Using known values for HERA.\n",
      "Fixing auto-correlations to be be real-only, after some imaginary values were detected in data_array.\n"
     ]
    },
    {
     "name": "stdout",
     "output_type": "stream",
     "text": [
      "44\n"
     ]
    },
    {
     "name": "stderr",
     "output_type": "stream",
     "text": [
      "antenna_diameters is not set. Using known values for HERA.\n",
      "Fixing auto-correlations to be be real-only, after some imaginary values were detected in data_array.\n"
     ]
    },
    {
     "name": "stdout",
     "output_type": "stream",
     "text": [
      "45\n"
     ]
    },
    {
     "name": "stderr",
     "output_type": "stream",
     "text": [
      "antenna_diameters is not set. Using known values for HERA.\n"
     ]
    },
    {
     "name": "stdout",
     "output_type": "stream",
     "text": [
      "46\n"
     ]
    },
    {
     "name": "stderr",
     "output_type": "stream",
     "text": [
      "antenna_diameters is not set. Using known values for HERA.\n",
      "Fixing auto-correlations to be be real-only, after some imaginary values were detected in data_array.\n"
     ]
    },
    {
     "name": "stdout",
     "output_type": "stream",
     "text": [
      "47\n"
     ]
    },
    {
     "name": "stderr",
     "output_type": "stream",
     "text": [
      "antenna_diameters is not set. Using known values for HERA.\n",
      "Fixing auto-correlations to be be real-only, after some imaginary values were detected in data_array.\n"
     ]
    },
    {
     "name": "stdout",
     "output_type": "stream",
     "text": [
      "48\n"
     ]
    },
    {
     "name": "stderr",
     "output_type": "stream",
     "text": [
      "antenna_diameters is not set. Using known values for HERA.\n",
      "Fixing auto-correlations to be be real-only, after some imaginary values were detected in data_array.\n"
     ]
    },
    {
     "name": "stdout",
     "output_type": "stream",
     "text": [
      "49\n"
     ]
    },
    {
     "name": "stderr",
     "output_type": "stream",
     "text": [
      "antenna_diameters is not set. Using known values for HERA.\n",
      "Fixing auto-correlations to be be real-only, after some imaginary values were detected in data_array.\n"
     ]
    },
    {
     "name": "stdout",
     "output_type": "stream",
     "text": [
      "50\n"
     ]
    },
    {
     "name": "stderr",
     "output_type": "stream",
     "text": [
      "antenna_diameters is not set. Using known values for HERA.\n",
      "Fixing auto-correlations to be be real-only, after some imaginary values were detected in data_array.\n"
     ]
    },
    {
     "name": "stdout",
     "output_type": "stream",
     "text": [
      "51\n"
     ]
    },
    {
     "name": "stderr",
     "output_type": "stream",
     "text": [
      "antenna_diameters is not set. Using known values for HERA.\n",
      "Fixing auto-correlations to be be real-only, after some imaginary values were detected in data_array.\n"
     ]
    },
    {
     "name": "stdout",
     "output_type": "stream",
     "text": [
      "52\n"
     ]
    },
    {
     "name": "stderr",
     "output_type": "stream",
     "text": [
      "antenna_diameters is not set. Using known values for HERA.\n"
     ]
    },
    {
     "name": "stdout",
     "output_type": "stream",
     "text": [
      "53\n"
     ]
    },
    {
     "name": "stderr",
     "output_type": "stream",
     "text": [
      "antenna_diameters is not set. Using known values for HERA.\n",
      "Fixing auto-correlations to be be real-only, after some imaginary values were detected in data_array.\n"
     ]
    },
    {
     "name": "stdout",
     "output_type": "stream",
     "text": [
      "54\n"
     ]
    },
    {
     "name": "stderr",
     "output_type": "stream",
     "text": [
      "antenna_diameters is not set. Using known values for HERA.\n",
      "Fixing auto-correlations to be be real-only, after some imaginary values were detected in data_array.\n"
     ]
    },
    {
     "name": "stdout",
     "output_type": "stream",
     "text": [
      "55\n"
     ]
    },
    {
     "name": "stderr",
     "output_type": "stream",
     "text": [
      "antenna_diameters is not set. Using known values for HERA.\n",
      "Fixing auto-correlations to be be real-only, after some imaginary values were detected in data_array.\n"
     ]
    },
    {
     "name": "stdout",
     "output_type": "stream",
     "text": [
      "56\n"
     ]
    },
    {
     "name": "stderr",
     "output_type": "stream",
     "text": [
      "antenna_diameters is not set. Using known values for HERA.\n",
      "Fixing auto-correlations to be be real-only, after some imaginary values were detected in data_array.\n"
     ]
    },
    {
     "name": "stdout",
     "output_type": "stream",
     "text": [
      "57\n"
     ]
    },
    {
     "name": "stderr",
     "output_type": "stream",
     "text": [
      "antenna_diameters is not set. Using known values for HERA.\n",
      "Fixing auto-correlations to be be real-only, after some imaginary values were detected in data_array.\n"
     ]
    },
    {
     "name": "stdout",
     "output_type": "stream",
     "text": [
      "58\n"
     ]
    },
    {
     "name": "stderr",
     "output_type": "stream",
     "text": [
      "antenna_diameters is not set. Using known values for HERA.\n",
      "Fixing auto-correlations to be be real-only, after some imaginary values were detected in data_array.\n"
     ]
    },
    {
     "name": "stdout",
     "output_type": "stream",
     "text": [
      "59\n"
     ]
    },
    {
     "name": "stderr",
     "output_type": "stream",
     "text": [
      "antenna_diameters is not set. Using known values for HERA.\n",
      "Fixing auto-correlations to be be real-only, after some imaginary values were detected in data_array.\n"
     ]
    },
    {
     "name": "stdout",
     "output_type": "stream",
     "text": [
      "60\n"
     ]
    },
    {
     "name": "stderr",
     "output_type": "stream",
     "text": [
      "antenna_diameters is not set. Using known values for HERA.\n",
      "Fixing auto-correlations to be be real-only, after some imaginary values were detected in data_array.\n"
     ]
    },
    {
     "name": "stdout",
     "output_type": "stream",
     "text": [
      "61\n"
     ]
    },
    {
     "name": "stderr",
     "output_type": "stream",
     "text": [
      "antenna_diameters is not set. Using known values for HERA.\n",
      "Fixing auto-correlations to be be real-only, after some imaginary values were detected in data_array.\n"
     ]
    },
    {
     "name": "stdout",
     "output_type": "stream",
     "text": [
      "62\n"
     ]
    },
    {
     "name": "stderr",
     "output_type": "stream",
     "text": [
      "antenna_diameters is not set. Using known values for HERA.\n",
      "Fixing auto-correlations to be be real-only, after some imaginary values were detected in data_array.\n"
     ]
    },
    {
     "name": "stdout",
     "output_type": "stream",
     "text": [
      "63\n"
     ]
    },
    {
     "name": "stderr",
     "output_type": "stream",
     "text": [
      "antenna_diameters is not set. Using known values for HERA.\n",
      "Fixing auto-correlations to be be real-only, after some imaginary values were detected in data_array.\n"
     ]
    },
    {
     "name": "stdout",
     "output_type": "stream",
     "text": [
      "64\n"
     ]
    },
    {
     "name": "stderr",
     "output_type": "stream",
     "text": [
      "antenna_diameters is not set. Using known values for HERA.\n",
      "Fixing auto-correlations to be be real-only, after some imaginary values were detected in data_array.\n"
     ]
    },
    {
     "name": "stdout",
     "output_type": "stream",
     "text": [
      "65\n"
     ]
    },
    {
     "name": "stderr",
     "output_type": "stream",
     "text": [
      "antenna_diameters is not set. Using known values for HERA.\n",
      "Fixing auto-correlations to be be real-only, after some imaginary values were detected in data_array.\n"
     ]
    }
   ],
   "source": [
    "path = \"/lustre/aoc/projects/hera/H1C_IDR3/IDR3_2/LSTBIN/all_epochs_preprocessed/zen.grp1.of1.LST.*.sum.LPXL.uvh5\"\n",
    "paths = glob.glob(path)\n",
    "uvd_combined = UVData()\n",
    "uvd_combined.read(paths[0])\n",
    "uvd_combined = red_average(uvd_combined)\n",
    "# EQ14\n",
    "#uvd_combined.select(bls=[(1, 12, \"XX\"), (1, 13, \"XX\"), (11, 12, \"XX\"), (1, 12, \"YY\"), (1, 13, \"YY\"), (11, 12, \"YY\")], freq_chans=np.arange(535, 696))\n",
    "# EQ29\n",
    "uvd_combined.select(bls=[(11, 36, \"XX\"), (1, 26, \"XX\"), (11, 13, \"XX\"), (11, 36, \"YY\"), (1, 26, \"YY\"), (11, 13, \"YY\")], freq_chans=np.arange(565, 696))\n",
    "\n",
    "for i, path in enumerate(paths[1:]):\n",
    "    print(i)\n",
    "    uvd = UVData()\n",
    "    uvd.read(path)\n",
    "    uvd = red_average(uvd)\n",
    "    # EQ14\n",
    "    #uvd.select(bls=[(1, 12, \"XX\"), (1, 13, \"XX\"), (11, 12, \"XX\"), (1, 12, \"YY\"), (1, 13, \"YY\"), (11, 12, \"YY\")], freq_chans=np.arange(535, 696))\n",
    "    # EQ29\n",
    "    uvd.select(bls=[(11, 36, \"XX\"), (1, 26, \"XX\"), (11, 13, \"XX\"), (11, 36, \"YY\"), (1, 26, \"YY\"), (11, 13, \"YY\")], freq_chans=np.arange(565, 696))\n",
    "    uvd_combined += uvd"
   ]
  },
  {
   "cell_type": "markdown",
   "id": "d0728832",
   "metadata": {},
   "source": [
    "## Compute Effective Visibilities"
   ]
  },
  {
   "cell_type": "code",
   "execution_count": 204,
   "id": "261da74a",
   "metadata": {},
   "outputs": [
    {
     "name": "stdout",
     "output_type": "stream",
     "text": [
      "(418,) (2, 835)\n",
      "(335,) (2, 669)\n",
      "(376,) (2, 752)\n",
      "(501,) (2, 1004)\n",
      "(920,) (2, 1839)\n"
     ]
    }
   ],
   "source": [
    "window = get_window(\"blackmanharris\", uvd_combined.get_data((1, 26, \"xx\")).shape[-1])\n",
    "window_sum = window.sum(axis=-1)\n",
    "\n",
    "fields = [[21.5, 24], [0.75, 2.75], [4.0, 6.25], [6.25, 9.25], [9.25, 14.75]]\n",
    "veff_data = []\n",
    "lst = []\n",
    "trclass = \"EQ28\"\n",
    "\n",
    "for field, (t1, t2) in zip([\"A\", \"B\", \"C\", \"D\", \"E\"], fields):\n",
    "    with h5py.File(f\"/lustre/aoc/projects/hera/pkeller/data/H1C_IDR3.2/sample/{trclass}_F{field}_B2.h5\", \"r\") as f:\n",
    "        lst_cp = f[\"LST\"][()]\n",
    "    \n",
    "    uvd = uvd_combined.select(lst_range=[t1 * np.pi / 12, t2 * np.pi / 12], inplace=False)\n",
    "    lst_vis = np.unique(uvd.lst_array) * 12 / np.pi\n",
    "\n",
    "    v1 = np.nansum(np.abs(uvd.get_data(11, 36, \"xx\")) * window, axis=-1) / window_sum\n",
    "    v2 = np.nansum(np.abs(uvd.get_data(1, 26, \"xx\")) * window, axis=-1) / window_sum\n",
    "    v3 = np.nansum(np.abs(uvd.get_data(11, 13, \"xx\")) * window, axis=-1) / window_sum\n",
    "   \n",
    "    veff = np.sqrt(1 / (1 / v1**2 + 1 / v2**2 + 1 / v3**2))\n",
    "\n",
    "    v1 = np.nansum(np.abs(uvd.get_data(11, 36, \"yy\")) * window, axis=-1) / window_sum\n",
    "    v2 = np.nansum(np.abs(uvd.get_data(1, 26, \"yy\")) * window, axis=-1) / window_sum\n",
    "    v3 = np.nansum(np.abs(uvd.get_data(11, 13, \"yy\")) * window, axis=-1) / window_sum\n",
    "    \n",
    "    veff = np.array([veff, np.sqrt(1 / (1 / v1**2 + 1 / v2**2 + 1 / v3**2))])\n",
    "    veff = interp1d(lst_vis, veff, kind=\"nearest\", fill_value=\"extrapolate\")(lst_cp)\n",
    "    \n",
    "    lst.append(lst_cp)\n",
    "\n",
    "    np.savetxt(f\"/users/pkeller/code/H1C_IDR3.2/data/veff_cal_{trclass}_F{field}B2.dat\", veff)\n",
    "    veff_data.append(veff)\n",
    "\n",
    "lst_data = np.hstack(lst)\n",
    "veff_data = np.hstack(veff_data).T"
   ]
  },
  {
   "cell_type": "markdown",
   "id": "dec5c3e0",
   "metadata": {},
   "source": [
    "## Get Simulated Effective Visibilities"
   ]
  },
  {
   "cell_type": "code",
   "execution_count": 203,
   "id": "f9306af1",
   "metadata": {},
   "outputs": [],
   "source": [
    "veff_sim = []\n",
    "lst_sim = []\n",
    "noise_xx = []\n",
    "noise_yy = []\n",
    "\n",
    "trclass = \"EQ28\"\n",
    "for field, lst_range in zip([\"A\", \"B\", \"C\", \"D\", \"E\"], fields):\n",
    "    with h5py.File(f\"/lustre/aoc/projects/hera/pkeller/data/H1C_IDR3.2/sample/{trclass}_F{field}_B2.h5\", \"r\") as f:\n",
    "        lst = f[\"LST\"][()]\n",
    "        eicp1_xx = f[\"eicp jdmed (2) XX\"][()]\n",
    "        eicp1_yy = f[\"eicp jdmed (2) YY\"][()]\n",
    "    \n",
    "    if field in [\"A\", \"B\", \"C\"]:\n",
    "        lst_sim.append(lst)\n",
    "        path = f\"/users/pkeller/code/H1C_IDR3.2/data/veff_{trclass}_F{field}B2_model.dat\"\n",
    "        veff_sim.append(np.loadtxt(path))\n",
    "    \n",
    "    noise_xx.append(np.nanmedian(np.nanstd(eicp1_xx[1] - eicp1_xx[0], axis=-1), axis=0))\n",
    "    noise_yy.append(np.nanmedian(np.nanstd(eicp1_yy[1] - eicp1_yy[0], axis=-1), axis=0))\n",
    "    \n",
    "veff_sim = np.hstack(veff_sim).T\n",
    "lst_sim = np.hstack(lst_sim)\n",
    "noise_xx = np.hstack(noise_xx)\n",
    "noise_yy = np.hstack(noise_yy)"
   ]
  },
  {
   "cell_type": "markdown",
   "id": "359fb562",
   "metadata": {},
   "source": [
    "## Plot Effective Visibilities\n",
    "Below are three plots that show (I) the effective visibilities, (II) the variances and the (III) inverse variances as a function of LST. This is done for both polarisation products and effective visibilities computed from calibrated data and simulated data respectively. While the simulated Veff generally traces the data Veff well, there are some large fractional discrepancies, e.g. at around 14 h. This might be because of strong unmodelled sources, such as the galactic centre, in the side lobe of the antennas. In the second and third plot it can be seen that variance of the scaled complex closure phase (i.e. the complex exponential of the closure phase multiplied by the effective visibility) is rather smooth for the data Veff and erratic for the model Veff, which is again indicative of model defficiencies. The effective visibility should level out the noise which is due to low visibility amplitudes. The data Veff does this well. "
   ]
  },
  {
   "cell_type": "code",
   "execution_count": 186,
   "id": "337ac4c2",
   "metadata": {},
   "outputs": [
    {
     "name": "stdout",
     "output_type": "stream",
     "text": [
      "(5099,) (5099, 2)\n"
     ]
    },
    {
     "data": {
      "image/png": "[encoded data removed]",
      "text/plain": [
       "<Figure size 1440x144 with 1 Axes>"
      ]
     },
     "metadata": {
      "needs_background": "light"
     },
     "output_type": "display_data"
    }
   ],
   "source": [
    "fig, ax = plt.subplots(figsize=(20, 2))\n",
    "idx = np.where((np.all(veff_data > 5, axis=1)))\n",
    "\n",
    "ax.scatter(lst_data, veff_data[:, 0], label=\"Veff Data East-West\")\n",
    "ax.scatter(lst_data, veff_data[:, 1], label=\"Veff Data North-South\")\n",
    "ax.scatter(lst_sim, veff_sim[:, 0], label=\"Veff Sim East-West\")\n",
    "ax.scatter(lst_sim, veff_sim[:, 1], label=\"Veff Sim North-South\")\n",
    "ax.legend()\n",
    "ax.set_xlabel(\"LST (h)\")\n",
    "ax.set_ylabel(\"Veff (Jy)\")\n",
    "ax.set_xlim([0, 24])\n",
    "ax.set_yscale(\"log\")\n",
    "ax.set_ylim(bottom=0.1)\n",
    "plt.minorticks_on()"
   ]
  },
  {
   "cell_type": "code",
   "execution_count": 187,
   "id": "fa99fb6c",
   "metadata": {
    "scrolled": true
   },
   "outputs": [
    {
     "data": {
      "image/png": "[encoded data removed]",
      "text/plain": [
       "<Figure size 1440x144 with 1 Axes>"
      ]
     },
     "metadata": {
      "needs_background": "light"
     },
     "output_type": "display_data"
    }
   ],
   "source": [
    "fig, ax = plt.subplots(figsize=(20, 2))\n",
    "idx = np.where((np.all(veff_data > 5, axis=1)))\n",
    "\n",
    "ax.scatter(lst_data[idx], ((veff_data[:, 0] * noise_xx)**2)[idx], label=\"Var Data East-West\")\n",
    "ax.scatter(lst_data[idx], ((veff_data[:, 1] * noise_yy)**2)[idx], label=\"Var Data North-South\")\n",
    "ax.legend()\n",
    "ax.set_xlabel(\"LST (h)\")\n",
    "ax.set_ylabel(r\"Variance (Jy$^2$)\")\n",
    "ax.set_xlim([0, 24])\n",
    "ax.set_ylim([1, 200])\n",
    "ax.set_yscale(\"log\")\n",
    "plt.minorticks_on()"
   ]
  },
  {
   "cell_type": "code",
   "execution_count": 188,
   "id": "caf44ae9",
   "metadata": {
    "scrolled": true
   },
   "outputs": [
    {
     "data": {
      "image/png": "[encoded data removed]",
      "text/plain": [
       "<Figure size 1440x144 with 1 Axes>"
      ]
     },
     "metadata": {
      "needs_background": "light"
     },
     "output_type": "display_data"
    }
   ],
   "source": [
    "fig, ax = plt.subplots(figsize=(20, 2))\n",
    "idx = np.where((np.all(veff_data > 5, axis=1)))\n",
    "\n",
    "ax.scatter(lst_data[idx], ((veff_data[:, 0] * noise_xx)**-2)[idx], label=\"Inv Var Data East-West\")\n",
    "ax.scatter(lst_data[idx], ((veff_data[:, 1] * noise_yy)**-2)[idx], label=\"Inv Var Data North-South\")\n",
    "#ax.scatter(lst_data, (veff_sim[:, 0] * noise_xx)**-2, label=\"Inv Var Sim East-West\")\n",
    "#ax.scatter(lst_data, (veff_sim[:, 1] * noise_yy)**-2, label=\"Inv Var Sim North-South\")\n",
    "ax.legend()\n",
    "ax.set_xlabel(\"LST (h)\")\n",
    "ax.set_ylabel(r\"Inverse Variance (Jy$^{-2}$)\")\n",
    "ax.set_xlim([0, 24])\n",
    "ax.set_ylim([1e-3, 1e1])\n",
    "ax.set_yscale(\"log\")\n",
    "plt.minorticks_on()"
   ]
  },
  {
   "cell_type": "markdown",
   "id": "951bce0f",
   "metadata": {},
   "source": [
    "## EQ29"
   ]
  },
  {
   "cell_type": "code",
   "execution_count": 46,
   "id": "c9dfa137",
   "metadata": {},
   "outputs": [
    {
     "name": "stdout",
     "output_type": "stream",
     "text": [
      "(52,) (52, 2) (40, 52, 161)\n",
      "(41,) (41, 2) (57, 41, 161)\n"
     ]
    },
    {
     "name": "stderr",
     "output_type": "stream",
     "text": [
      "Degrees of freedom <= 0 for slice.\n"
     ]
    },
    {
     "name": "stdout",
     "output_type": "stream",
     "text": [
      "(47,) (47, 2) (59, 47, 161)\n",
      "(62,) (62, 2) (61, 62, 161)\n",
      "(114,) (115, 2) (59, 114, 161)\n"
     ]
    }
   ],
   "source": [
    "fields = [[21.5, 24], [0.75, 2.75], [4.0, 6.25], [6.25, 9.25], [9.25, 14.75]]\n",
    "veff_data = []\n",
    "veff_sim = []\n",
    "lst_sim = []\n",
    "noise_xx = []\n",
    "noise_yy = []\n",
    "trclass = \"EQ28\"\n",
    "\n",
    "for field, (t1, t2) in zip([\"A\", \"B\", \"C\", \"D\", \"E\"], fields):\n",
    "    veff = np.loadtxt(f\"/users/pkeller/code/H1C_IDR3.2/data/veff_cal_{trclass}_F{field}B2.dat\") \n",
    "    veff_data.append(veff)\n",
    "    \n",
    "    with h5py.File(f\"/lustre/aoc/projects/hera/pkeller/data/H1C_IDR3.2/sample/{trclass}_F{field}_B2_AVG.h5\", \"r\") as f:\n",
    "        lst = f[\"LST\"][()]\n",
    "        eicp1_xx = f[\"eicp XX (2)\"][()]\n",
    "        eicp1_yy = f[\"eicp YY (2)\"][()]\n",
    "    \n",
    "    path = f\"/users/pkeller/code/H1C_IDR3.2/data/veff_{trclass}_F{field}B2.dat\"\n",
    "    \n",
    "    noise_xx.append(np.nanmedian(np.nanstd(eicp1_xx[1] - eicp1_xx[0], axis=-1), axis=0))\n",
    "    noise_yy.append(np.nanmedian(np.nanstd(eicp1_yy[1] - eicp1_yy[0], axis=-1), axis=0))\n",
    "\n",
    "veff_data = np.vstack(veff_data)\n",
    "#veff_sim = np.vstack(veff_sim)\n",
    "#lst_sim = np.hstack(lst_sim)\n",
    "noise_xx = np.hstack(noise_xx)\n",
    "noise_yy = np.hstack(noise_yy)"
   ]
  },
  {
   "cell_type": "code",
   "execution_count": 205,
   "id": "12839d3a",
   "metadata": {},
   "outputs": [
    {
     "data": {
      "image/png": "[encoded data removed]",
      "text/plain": [
       "<Figure size 1440x144 with 1 Axes>"
      ]
     },
     "metadata": {
      "needs_background": "light"
     },
     "output_type": "display_data"
    }
   ],
   "source": [
    "fig, ax = plt.subplots(figsize=(20, 2))\n",
    "idx = np.where((np.all(veff_data > 5, axis=1)))\n",
    "\n",
    "ax.scatter(lst_data, veff_data[:, 0], label=\"Veff Data East-West\")\n",
    "ax.scatter(lst_data, veff_data[:, 1], label=\"Veff Data North-South\")\n",
    "#ax.scatter(lst_sim, veff_sim[:, 0], label=\"Veff Sim East-West\")\n",
    "#ax.scatter(lst_sim, veff_sim[:, 1], label=\"Veff Sim North-South\")\n",
    "ax.legend()\n",
    "ax.set_xlabel(\"LST (h)\")\n",
    "ax.set_ylabel(\"Veff (Jy)\")\n",
    "ax.set_xlim([0, 24])\n",
    "ax.set_yscale(\"log\")\n",
    "#ax.set_ylim(bottom=0.1)\n",
    "plt.minorticks_on()"
   ]
  },
  {
   "cell_type": "code",
   "execution_count": 207,
   "id": "d94f42ff",
   "metadata": {},
   "outputs": [
    {
     "data": {
      "image/png": "[encoded data removed]",
      "text/plain": [
       "<Figure size 1440x144 with 1 Axes>"
      ]
     },
     "metadata": {
      "needs_background": "light"
     },
     "output_type": "display_data"
    }
   ],
   "source": [
    "fig, ax = plt.subplots(figsize=(20, 2))\n",
    "idx = np.where((np.all(veff_data > 5, axis=1)))\n",
    "\n",
    "ax.scatter(lst_data, (veff_data[:, 0] * noise_xx)**2, label=\"Var Data East-West\")\n",
    "ax.scatter(lst_data, (veff_data[:, 1] * noise_yy)**2, label=\"Var Data North-South\")\n",
    "#ax.scatter(lst_data, (veff_sim[:, 0] * noise_xx)**2, label=\"Var Sim East-West\")\n",
    "#ax.scatter(lst_data, (veff_sim[:, 1] * noise_yy)**2, label=\"Var Sim North-South\")\n",
    "ax.legend()\n",
    "ax.set_xlabel(\"LST (h)\")\n",
    "ax.set_ylabel(r\"Variance (Jy$^2$)\")\n",
    "ax.set_xlim([0, 24])\n",
    "ax.set_ylim(bottom=0.1)\n",
    "ax.set_yscale(\"log\")\n",
    "plt.minorticks_on()"
   ]
  },
  {
   "cell_type": "code",
   "execution_count": 211,
   "id": "e55afbe8",
   "metadata": {
    "scrolled": true
   },
   "outputs": [
    {
     "data": {
      "image/png": "[encoded data removed]",
      "text/plain": [
       "<Figure size 1440x144 with 1 Axes>"
      ]
     },
     "metadata": {
      "needs_background": "light"
     },
     "output_type": "display_data"
    }
   ],
   "source": [
    "fig, ax = plt.subplots(figsize=(20, 2))\n",
    "idx = np.where((np.all(veff_data > 5, axis=1)))\n",
    "\n",
    "ax.scatter(lst_data[idx], ((veff_data[:, 0] * noise_xx)**-2)[idx], label=\"Inv Var Data East-West\")\n",
    "ax.scatter(lst_data[idx], ((veff_data[:, 1] * noise_yy)**-2)[idx], label=\"Inv Var Data North-South\")\n",
    "#ax.scatter(lst_data, (veff_sim[:, 0] * noise_xx)**-2, label=\"Inv Var Sim East-West\")\n",
    "#ax.scatter(lst_data, (veff_sim[:, 1] * noise_yy)**-2, label=\"Inv Var Sim North-South\")\n",
    "ax.legend()\n",
    "ax.set_xlabel(\"LST (h)\")\n",
    "ax.set_ylabel(r\"Inverse Variance (Jy$^{-2}$)\")\n",
    "ax.set_xlim([0, 24])\n",
    "ax.set_ylim(bottom=0.001)\n",
    "ax.set_yscale(\"log\")\n",
    "plt.minorticks_on()"
   ]
  }
 ],
 "metadata": {
  "kernelspec": {
   "display_name": "base",
   "language": "python",
   "name": "base"
  },
  "language_info": {
   "codemirror_mode": {
    "name": "ipython",
    "version": 3
   },
   "file_extension": ".py",
   "mimetype": "text/x-python",
   "name": "python",
   "nbconvert_exporter": "python",
   "pygments_lexer": "ipython3",
   "version": "3.7.4"
  }
 },
 "nbformat": 4,
 "nbformat_minor": 5
}
