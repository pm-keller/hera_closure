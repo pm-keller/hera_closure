{
 "cells": [
  {
   "cell_type": "markdown",
   "id": "65ba3339",
   "metadata": {},
   "source": [
    "# Get $T_\\mathrm{sys}$ from Autocorrelation Visibilities and Compute Noise Model \n",
    "Generate a frequency and time dependet model of the noise using calibrated autocorrelation visibilities."
   ]
  },
  {
   "cell_type": "code",
   "execution_count": 1,
   "id": "83d5b9f2",
   "metadata": {},
   "outputs": [],
   "source": [
    "import h5py\n",
    "import glob\n",
    "import numpy as np\n",
    "from scipy.signal import get_window\n",
    "from scipy.interpolate import interp1d\n",
    "\n",
    "from pyuvdata import UVData\n",
    "import matplotlib.pyplot as plt\n",
    "import matplotlib.cm as cm\n",
    "\n",
    "# redundant averagig\n",
    "from hera_cal.utils import red_average"
   ]
  },
  {
   "cell_type": "markdown",
   "id": "7bf8b0f4",
   "metadata": {},
   "source": [
    "## Read, Average and Select Calibrated Autocorrelation Visibilities\n",
    "We are using the systematics subtracted, LST-binned H1C IDR3.2 data. Only keep \"XX\" and \"YY\" polarisation products of the redundantly averaged autocorrelation visibilities."
   ]
  },
  {
   "cell_type": "code",
   "execution_count": 2,
   "id": "499f98a3",
   "metadata": {
    "scrolled": true
   },
   "outputs": [
    {
     "name": "stderr",
     "output_type": "stream",
     "text": [
      "antenna_diameters is not set. Using known values for HERA.\n",
      "Fixing auto-correlations to be be real-only, after some imaginary values were detected in data_array.\n"
     ]
    }
   ],
   "source": [
    "path = \"/lustre/aoc/projects/hera/H1C_IDR3/IDR3_2/LSTBIN/all_epochs_preprocessed/zen.grp1.of1.LST.*.sum.LPXL.uvh5\"\n",
    "\n",
    "paths = glob.glob(path)\n",
    "uvd_combined = UVData()\n",
    "uvd_combined.read(paths[0])\n",
    "\n",
    "# select auto-correlation pairs\n",
    "auto_pairs = []\n",
    "for antpair in uvd_combined.get_antpairs():\n",
    "    if antpair[0] == antpair[1]:\n",
    "        auto_pairs.append(antpair)"
   ]
  },
  {
   "cell_type": "code",
   "execution_count": 3,
   "id": "4bc6fc03",
   "metadata": {
    "scrolled": true
   },
   "outputs": [
    {
     "name": "stderr",
     "output_type": "stream",
     "text": [
      "antenna_diameters is not set. Using known values for HERA.\n",
      "antenna_diameters is not set. Using known values for HERA.\n",
      "Fixing auto-correlations to be be real-only, after some imaginary values were detected in data_array.\n",
      "antenna_diameters is not set. Using known values for HERA.\n",
      "Fixing auto-correlations to be be real-only, after some imaginary values were detected in data_array.\n",
      "antenna_diameters is not set. Using known values for HERA.\n",
      "Fixing auto-correlations to be be real-only, after some imaginary values were detected in data_array.\n",
      "antenna_diameters is not set. Using known values for HERA.\n",
      "Fixing auto-correlations to be be real-only, after some imaginary values were detected in data_array.\n",
      "antenna_diameters is not set. Using known values for HERA.\n",
      "Fixing auto-correlations to be be real-only, after some imaginary values were detected in data_array.\n",
      "antenna_diameters is not set. Using known values for HERA.\n",
      "Fixing auto-correlations to be be real-only, after some imaginary values were detected in data_array.\n",
      "antenna_diameters is not set. Using known values for HERA.\n",
      "Fixing auto-correlations to be be real-only, after some imaginary values were detected in data_array.\n",
      "antenna_diameters is not set. Using known values for HERA.\n",
      "Fixing auto-correlations to be be real-only, after some imaginary values were detected in data_array.\n",
      "antenna_diameters is not set. Using known values for HERA.\n",
      "Fixing auto-correlations to be be real-only, after some imaginary values were detected in data_array.\n",
      "antenna_diameters is not set. Using known values for HERA.\n",
      "Fixing auto-correlations to be be real-only, after some imaginary values were detected in data_array.\n",
      "antenna_diameters is not set. Using known values for HERA.\n",
      "Fixing auto-correlations to be be real-only, after some imaginary values were detected in data_array.\n",
      "antenna_diameters is not set. Using known values for HERA.\n",
      "Fixing auto-correlations to be be real-only, after some imaginary values were detected in data_array.\n",
      "antenna_diameters is not set. Using known values for HERA.\n",
      "antenna_diameters is not set. Using known values for HERA.\n",
      "antenna_diameters is not set. Using known values for HERA.\n",
      "Fixing auto-correlations to be be real-only, after some imaginary values were detected in data_array.\n",
      "antenna_diameters is not set. Using known values for HERA.\n",
      "antenna_diameters is not set. Using known values for HERA.\n",
      "Fixing auto-correlations to be be real-only, after some imaginary values were detected in data_array.\n",
      "antenna_diameters is not set. Using known values for HERA.\n",
      "Fixing auto-correlations to be be real-only, after some imaginary values were detected in data_array.\n",
      "antenna_diameters is not set. Using known values for HERA.\n",
      "Fixing auto-correlations to be be real-only, after some imaginary values were detected in data_array.\n",
      "antenna_diameters is not set. Using known values for HERA.\n",
      "Fixing auto-correlations to be be real-only, after some imaginary values were detected in data_array.\n",
      "antenna_diameters is not set. Using known values for HERA.\n",
      "Fixing auto-correlations to be be real-only, after some imaginary values were detected in data_array.\n",
      "antenna_diameters is not set. Using known values for HERA.\n",
      "Fixing auto-correlations to be be real-only, after some imaginary values were detected in data_array.\n",
      "antenna_diameters is not set. Using known values for HERA.\n",
      "Fixing auto-correlations to be be real-only, after some imaginary values were detected in data_array.\n",
      "antenna_diameters is not set. Using known values for HERA.\n",
      "Fixing auto-correlations to be be real-only, after some imaginary values were detected in data_array.\n",
      "antenna_diameters is not set. Using known values for HERA.\n",
      "Fixing auto-correlations to be be real-only, after some imaginary values were detected in data_array.\n",
      "antenna_diameters is not set. Using known values for HERA.\n",
      "Fixing auto-correlations to be be real-only, after some imaginary values were detected in data_array.\n",
      "antenna_diameters is not set. Using known values for HERA.\n",
      "Fixing auto-correlations to be be real-only, after some imaginary values were detected in data_array.\n",
      "antenna_diameters is not set. Using known values for HERA.\n",
      "Fixing auto-correlations to be be real-only, after some imaginary values were detected in data_array.\n",
      "antenna_diameters is not set. Using known values for HERA.\n",
      "Fixing auto-correlations to be be real-only, after some imaginary values were detected in data_array.\n",
      "antenna_diameters is not set. Using known values for HERA.\n",
      "Fixing auto-correlations to be be real-only, after some imaginary values were detected in data_array.\n",
      "antenna_diameters is not set. Using known values for HERA.\n",
      "Fixing auto-correlations to be be real-only, after some imaginary values were detected in data_array.\n",
      "antenna_diameters is not set. Using known values for HERA.\n",
      "Fixing auto-correlations to be be real-only, after some imaginary values were detected in data_array.\n",
      "antenna_diameters is not set. Using known values for HERA.\n",
      "Fixing auto-correlations to be be real-only, after some imaginary values were detected in data_array.\n",
      "antenna_diameters is not set. Using known values for HERA.\n",
      "Fixing auto-correlations to be be real-only, after some imaginary values were detected in data_array.\n",
      "antenna_diameters is not set. Using known values for HERA.\n",
      "antenna_diameters is not set. Using known values for HERA.\n",
      "Fixing auto-correlations to be be real-only, after some imaginary values were detected in data_array.\n",
      "antenna_diameters is not set. Using known values for HERA.\n",
      "Fixing auto-correlations to be be real-only, after some imaginary values were detected in data_array.\n",
      "antenna_diameters is not set. Using known values for HERA.\n",
      "Fixing auto-correlations to be be real-only, after some imaginary values were detected in data_array.\n",
      "antenna_diameters is not set. Using known values for HERA.\n",
      "Fixing auto-correlations to be be real-only, after some imaginary values were detected in data_array.\n",
      "antenna_diameters is not set. Using known values for HERA.\n",
      "Fixing auto-correlations to be be real-only, after some imaginary values were detected in data_array.\n",
      "antenna_diameters is not set. Using known values for HERA.\n",
      "Fixing auto-correlations to be be real-only, after some imaginary values were detected in data_array.\n",
      "antenna_diameters is not set. Using known values for HERA.\n",
      "Fixing auto-correlations to be be real-only, after some imaginary values were detected in data_array.\n",
      "antenna_diameters is not set. Using known values for HERA.\n",
      "Fixing auto-correlations to be be real-only, after some imaginary values were detected in data_array.\n",
      "antenna_diameters is not set. Using known values for HERA.\n",
      "Fixing auto-correlations to be be real-only, after some imaginary values were detected in data_array.\n",
      "antenna_diameters is not set. Using known values for HERA.\n",
      "antenna_diameters is not set. Using known values for HERA.\n",
      "Fixing auto-correlations to be be real-only, after some imaginary values were detected in data_array.\n",
      "antenna_diameters is not set. Using known values for HERA.\n",
      "Fixing auto-correlations to be be real-only, after some imaginary values were detected in data_array.\n",
      "antenna_diameters is not set. Using known values for HERA.\n",
      "Fixing auto-correlations to be be real-only, after some imaginary values were detected in data_array.\n",
      "antenna_diameters is not set. Using known values for HERA.\n",
      "Fixing auto-correlations to be be real-only, after some imaginary values were detected in data_array.\n",
      "antenna_diameters is not set. Using known values for HERA.\n",
      "Fixing auto-correlations to be be real-only, after some imaginary values were detected in data_array.\n",
      "antenna_diameters is not set. Using known values for HERA.\n",
      "Fixing auto-correlations to be be real-only, after some imaginary values were detected in data_array.\n",
      "antenna_diameters is not set. Using known values for HERA.\n",
      "antenna_diameters is not set. Using known values for HERA.\n",
      "Fixing auto-correlations to be be real-only, after some imaginary values were detected in data_array.\n",
      "antenna_diameters is not set. Using known values for HERA.\n",
      "Fixing auto-correlations to be be real-only, after some imaginary values were detected in data_array.\n",
      "antenna_diameters is not set. Using known values for HERA.\n"
     ]
    },
    {
     "name": "stderr",
     "output_type": "stream",
     "text": [
      "Fixing auto-correlations to be be real-only, after some imaginary values were detected in data_array.\n",
      "antenna_diameters is not set. Using known values for HERA.\n",
      "Fixing auto-correlations to be be real-only, after some imaginary values were detected in data_array.\n",
      "antenna_diameters is not set. Using known values for HERA.\n",
      "Fixing auto-correlations to be be real-only, after some imaginary values were detected in data_array.\n",
      "antenna_diameters is not set. Using known values for HERA.\n",
      "Fixing auto-correlations to be be real-only, after some imaginary values were detected in data_array.\n",
      "antenna_diameters is not set. Using known values for HERA.\n",
      "Fixing auto-correlations to be be real-only, after some imaginary values were detected in data_array.\n",
      "antenna_diameters is not set. Using known values for HERA.\n",
      "Fixing auto-correlations to be be real-only, after some imaginary values were detected in data_array.\n",
      "antenna_diameters is not set. Using known values for HERA.\n",
      "Fixing auto-correlations to be be real-only, after some imaginary values were detected in data_array.\n",
      "antenna_diameters is not set. Using known values for HERA.\n",
      "Fixing auto-correlations to be be real-only, after some imaginary values were detected in data_array.\n",
      "antenna_diameters is not set. Using known values for HERA.\n",
      "Fixing auto-correlations to be be real-only, after some imaginary values were detected in data_array.\n",
      "antenna_diameters is not set. Using known values for HERA.\n",
      "Fixing auto-correlations to be be real-only, after some imaginary values were detected in data_array.\n",
      "antenna_diameters is not set. Using known values for HERA.\n",
      "Fixing auto-correlations to be be real-only, after some imaginary values were detected in data_array.\n"
     ]
    }
   ],
   "source": [
    "uvd_combined.select(bls=auto_pairs, freq_chans=np.arange(535, 696), polarizations=[\"XX\", \"YY\"])\n",
    "\n",
    "# select auto baselines, frequency channels and polarisations and combine different files along LST-axis\n",
    "for i, path in enumerate(paths[1:]):\n",
    "    uvd = UVData()\n",
    "    uvd.read(path)\n",
    "    uvd.select(bls=auto_pairs, freq_chans=np.arange(535, 696), polarizations=[\"XX\", \"YY\"])\n",
    "    uvd_combined += uvd\n",
    "\n",
    "lst = uvd_combined.lst_array * 12 / np.pi\n",
    "lst = np.unique(lst)"
   ]
  },
  {
   "cell_type": "code",
   "execution_count": 4,
   "id": "ee0f6f1b",
   "metadata": {},
   "outputs": [
    {
     "name": "stdout",
     "output_type": "stream",
     "text": [
      "(4010, 48, 161, 2)\n"
     ]
    }
   ],
   "source": [
    "lst_array = uvd_combined.lst_array * 12 / np.pi\n",
    "lst_array_unique = np.unique(lst_array)\n",
    "\n",
    "flags = uvd_combined.flag_array\n",
    "autos = uvd_combined.data_array.copy()\n",
    "autos[flags] = np.nan\n",
    "\n",
    "autos = np.array([autos[np.where(lst_array == lst)] for lst in lst_array_unique])[:, :, 0]\n",
    "print(autos.shape)"
   ]
  },
  {
   "cell_type": "code",
   "execution_count": 5,
   "id": "8b591ffa",
   "metadata": {},
   "outputs": [
    {
     "name": "stderr",
     "output_type": "stream",
     "text": [
      "Mean of empty slice\n",
      "Degrees of freedom <= 0 for slice.\n"
     ]
    }
   ],
   "source": [
    "autos = np.moveaxis(autos, (1, 3), (0, 1))\n",
    "autos_avg = np.sqrt(np.nanmean(autos**2, axis=(0, 1)))\n",
    "autos_dev = np.nanstd(autos - autos_avg, axis=(0, 1))"
   ]
  },
  {
   "cell_type": "code",
   "execution_count": 6,
   "id": "fdc1a2d1",
   "metadata": {},
   "outputs": [
    {
     "name": "stdout",
     "output_type": "stream",
     "text": [
      "Mean standard deviation of T_sys: (0.16767260092994693+0j)\n"
     ]
    },
    {
     "name": "stderr",
     "output_type": "stream",
     "text": [
      "invalid value encountered in true_divide\n"
     ]
    }
   ],
   "source": [
    "print(f\"Mean standard deviation of T_sys: {np.nanmean(autos_dev / autos_avg)}\")"
   ]
  },
  {
   "cell_type": "markdown",
   "id": "d0728832",
   "metadata": {},
   "source": [
    "## Compute System Temperature\n",
    "Using the averaged autocorrelations $V_\\mathrm{auto}(t, \\nu)$, we estimate the system temperature as $T_\\mathrm{sys}(t, \\nu) = \\frac{c^2 V_\\mathrm{auto}(t, \\nu)}{2k_\\mathrm{b}\\nu^2\\Omega}$, where $\\Omega$ is the integrated beam response. "
   ]
  },
  {
   "cell_type": "code",
   "execution_count": 7,
   "id": "ae90eaa6",
   "metadata": {},
   "outputs": [],
   "source": [
    "def Tsys_from_autos(auto1, auto2, freq, omega):\n",
    "    \"\"\"\n",
    "    compute Tsys from auto corralation visibilities\n",
    "    \"\"\"   \n",
    "    return c**2 * np.sqrt(auto1 * auto2) / (2 * kb * freq**2 * omega) * 1e-26"
   ]
  },
  {
   "cell_type": "code",
   "execution_count": 8,
   "id": "717e7031",
   "metadata": {},
   "outputs": [],
   "source": [
    "# read Omega\n",
    "omega_path = \"/lustre/aoc/projects/hera/pkeller/HERA-Beams/NicolasFagnoniBeams/Omega_Dipole.dat\"\n",
    "omega = np.loadtxt(omega_path)[535:696]\n",
    "\n",
    "# frequencies\n",
    "freq = uvd_combined.freq_array[0]\n",
    "\n",
    "# constants\n",
    "c =  299792458\n",
    "kb = 1.3806503 * 1e-23\n",
    "\n",
    "# compute Tsys\n",
    "nsig = 2\n",
    "Tsys = Tsys_from_autos(autos_avg, autos_avg, freq, omega)"
   ]
  },
  {
   "cell_type": "markdown",
   "id": "b7b913eb",
   "metadata": {},
   "source": [
    "## Plot System Temperature"
   ]
  },
  {
   "cell_type": "code",
   "execution_count": 9,
   "id": "32640bdd",
   "metadata": {},
   "outputs": [
    {
     "name": "stderr",
     "output_type": "stream",
     "text": [
      "Casting complex values to real discards the imaginary part\n"
     ]
    },
    {
     "data": {
      "image/png": "[encoded data removed]",
      "text/plain": [
       "<Figure size 360x216 with 2 Axes>"
      ]
     },
     "metadata": {
      "needs_background": "light"
     },
     "output_type": "display_data"
    }
   ],
   "source": [
    "fig, ax = plt.subplots(figsize=(5, 3))\n",
    "\n",
    "colors = np.linspace(0, 1, Tsys.shape[-1])\n",
    "\n",
    "dummie_cax = ax.scatter(freq*1e-6, freq*1e-6, c=freq*1e-6, cmap=\"viridis_r\")\n",
    "ax.clear()\n",
    "\n",
    "for i in range(len(colors)):\n",
    "    cbar = ax.plot(lst_array_unique, Tsys[:, i], color=cm.viridis_r(i/len(colors)));\n",
    "\n",
    "fields = [[21.5, 24], [0.75, 2.75], [4.0, 6.25], [6.25, 9.25],[9.25, 14.75]]\n",
    "fieldnames = [\"A\", \"B\", \"C\", \"D\", \"E\"]\n",
    "\n",
    "for (t1, t2), fname in zip(fields, fieldnames):\n",
    "    ax.axvspan(t1, t2, alpha=0.05, color='k')\n",
    "    ax.text(0.5 * (t1 + t2), 4*1e3, fname, ha=\"center\")\n",
    "\n",
    "ax.minorticks_on()\n",
    "fig.colorbar(dummie_cax, label=\"Frequency (MHz)\")\n",
    "\n",
    "plt.xlim([0, 24])\n",
    "plt.ylim(bottom=1e2, top=1e4)\n",
    "plt.xlabel(\"LST (h)\")\n",
    "plt.ylabel(r\"$T_\\mathrm{sys}$ (K)\")\n",
    "plt.yscale(\"log\")\n",
    "plt.tight_layout()\n",
    "plt.savefig(\"/users/pkeller/code/H1C_IDR3.2/plots/Tsys.png\", dpi=600)"
   ]
  },
  {
   "cell_type": "code",
   "execution_count": 10,
   "id": "5156fb8d",
   "metadata": {},
   "outputs": [
    {
     "name": "stderr",
     "output_type": "stream",
     "text": [
      "Mean of empty slice\n"
     ]
    },
    {
     "data": {
      "image/png": "[encoded data removed]",
      "text/plain": [
       "<Figure size 288x216 with 1 Axes>"
      ]
     },
     "metadata": {
      "needs_background": "light"
     },
     "output_type": "display_data"
    }
   ],
   "source": [
    "fig, ax = plt.subplots(figsize=(4, 3))\n",
    "\n",
    "colors = np.linspace(0, 1, Tsys.shape[-1])\n",
    "\n",
    "dummie_cax = ax.scatter(freq*1e-6, freq*1e-6, c=freq*1e-6, cmap=\"gist_heat_r\")\n",
    "ax.clear()\n",
    "\n",
    "ax.plot(lst, np.nanmean(Tsys, axis=-1), color=\"k\", linestyle=\"solid\");\n",
    "#ax.plot(lst, np.nanmean(Tsys_lo, axis=-1), color=\"k\", linestyle=\"solid\", linewidth=0.5);\n",
    "#ax.plot(lst, np.nanmean(Tsys_hi, axis=-1), color=\"k\", linestyle=\"solid\", linewidth=0.5);\n",
    "\n",
    "for (t1, t2), fname in zip(fields, fieldnames):\n",
    "    ax.axvspan(t1, t2, alpha=0.05, color='k')\n",
    "    ax.text(0.5 * (t1 + t2), 4*1e3, fname, ha=\"center\")\n",
    "\n",
    "ax.minorticks_on()\n",
    "\n",
    "plt.xlim([0, 24])\n",
    "plt.ylim(bottom=1e2, top=1e4)\n",
    "plt.xlabel(\"LST (h)\")\n",
    "plt.ylabel(r\"$T_\\mathrm{sys}$ (K)\")\n",
    "plt.yscale(\"log\")\n",
    "plt.tight_layout()\n",
    "plt.savefig(\"/users/pkeller/code/H1C_IDR3.2/plots/Tsys.pdf\")"
   ]
  },
  {
   "cell_type": "markdown",
   "id": "7d75f308",
   "metadata": {},
   "source": [
    "## Compute and Plot Noise RMS\n",
    "We can now compute the noise using the radiometer equation $\\sigma = \\frac{\\sqrt{2} \\Omega \\nu^2 k_bT_\\mathrm{sys}}{c^2 \\sqrt{\\Delta t \\Delta \\nu}}$."
   ]
  },
  {
   "cell_type": "code",
   "execution_count": 11,
   "id": "1a9044f6",
   "metadata": {},
   "outputs": [],
   "source": [
    "std = np.sqrt(2) * freq**2 * omega * kb * Tsys / (c**2 * np.sqrt(10.7 * 100 / 1024 * 1e6)) * 1e26"
   ]
  },
  {
   "cell_type": "code",
   "execution_count": 12,
   "id": "3fe201b0",
   "metadata": {},
   "outputs": [
    {
     "name": "stderr",
     "output_type": "stream",
     "text": [
      "Casting complex values to real discards the imaginary part\n"
     ]
    },
    {
     "data": {
      "image/png": "[encoded data removed]",
      "text/plain": [
       "<Figure size 432x288 with 2 Axes>"
      ]
     },
     "metadata": {
      "needs_background": "light"
     },
     "output_type": "display_data"
    }
   ],
   "source": [
    "fig, ax = plt.subplots()\n",
    "\n",
    "colors = np.linspace(0, 1, Tsys.shape[-1])\n",
    "\n",
    "dummie_cax = ax.scatter(freq*1e-6, freq*1e-6, c=freq*1e-6, cmap=\"gist_heat_r\")\n",
    "ax.clear()\n",
    "\n",
    "for i in range(len(colors)):\n",
    "    cbar = ax.plot(lst, std[:, i], color=cm.gist_heat_r(i/len(colors)));\n",
    "\n",
    "for (t1, t2), fname in zip(fields, fieldnames):\n",
    "    ax.axvspan(t1, t2, alpha=0.05, color='k')\n",
    "    ax.text(0.5 * (t1 + t2), 3e1, fname, ha=\"center\")\n",
    "\n",
    "ax.minorticks_on()\n",
    "fig.colorbar(dummie_cax, label=\"Frequency (MHz)\")\n",
    "\n",
    "plt.xlim([0, 24])\n",
    "plt.xlabel(\"LST (h)\")\n",
    "plt.ylabel(r\"$\\sigma$ (Jy)\")\n",
    "plt.yscale(\"log\")"
   ]
  },
  {
   "cell_type": "markdown",
   "id": "5c5a4a93",
   "metadata": {},
   "source": [
    "## Write to File\n",
    "Write the noise RMS as a function of time and frequency to a file."
   ]
  },
  {
   "cell_type": "code",
   "execution_count": 13,
   "id": "164542dc",
   "metadata": {},
   "outputs": [],
   "source": [
    "path = \"/users/pkeller/code/H1C_IDR3.2/data/noise_std.h5\"\n",
    "\n",
    "f = h5py.File(path, \"w\")\n",
    "f.create_dataset(f\"Tsys\", data=Tsys)\n",
    "f.create_dataset(f\"RMS\", data=std)\n",
    "f.create_dataset(f\"LST\", data=lst)\n",
    "\n",
    "f.close()"
   ]
  }
 ],
 "metadata": {
  "kernelspec": {
   "display_name": "base",
   "language": "python",
   "name": "base"
  },
  "language_info": {
   "codemirror_mode": {
    "name": "ipython",
    "version": 3
   },
   "file_extension": ".py",
   "mimetype": "text/x-python",
   "name": "python",
   "nbconvert_exporter": "python",
   "pygments_lexer": "ipython3",
   "version": "3.7.4"
  }
 },
 "nbformat": 4,
 "nbformat_minor": 5
}
