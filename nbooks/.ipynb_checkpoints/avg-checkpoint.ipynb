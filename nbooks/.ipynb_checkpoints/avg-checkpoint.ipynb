{
 "cells": [
  {
   "cell_type": "code",
   "execution_count": 8,
   "id": "10cfd922",
   "metadata": {},
   "outputs": [],
   "source": [
    "import os\n",
    "import h5py\n",
    "import numpy as np\n",
    "\n",
    "from ipywidgets import interact\n",
    "\n",
    "import matplotlib as mpl\n",
    "import matplotlib.pyplot as plt\n",
    "import matplotlib.cm as cm\n",
    "\n",
    "\n",
    "# configure matplotlib\n",
    "mpl.style.use(\"classic\")\n",
    "import sys\n",
    "sys.path.append(\"/users/pkeller/code/ClosurePhaseAnalysis/\")\n",
    "\n",
    "from library import cptools as cp"
   ]
  },
  {
   "cell_type": "code",
   "execution_count": 13,
   "id": "83452764",
   "metadata": {},
   "outputs": [],
   "source": [
    "# data path\n",
    "path = \"/lustre/aoc/projects/hera/pkeller/data/H1C_IDR3.2/sample/EQ14_FC_B2.h5\"\n",
    "\n",
    "# polarisation (\"XX\"=0, \"YY\"=1)\n",
    "pol =  0\n",
    "\n",
    "if pol is 0:\n",
    "    polname = \"XX\"\n",
    "elif pol is 1:\n",
    "    polname = \"YY\"\n",
    "else:\n",
    "    print(\"invalid polaisation number\")\n",
    "\n",
    "# load data\n",
    "with h5py.File(path, \"r\") as f:\n",
    "    jd = f[\"JD\"][()]\n",
    "    frq = f[\"FRQ\"][()]\n",
    "    lst = f[\"LST\"][()]\n",
    "    bispec = f[\"bispec\"][pol]\n",
    "    flags = f[\"flags\"][pol]\n",
    "    rfiflags = f[\"RFI\"][()]"
   ]
  },
  {
   "cell_type": "code",
   "execution_count": 5,
   "id": "fc52c8dd",
   "metadata": {},
   "outputs": [],
   "source": [
    "bispec[flags] = np.nan\n",
    "badjd = np.all(np.isnan(bispec), axis=(1, 2, 3))\n",
    "badtr = np.all(np.isnan(bispec), axis=(0, 2, 3))\n",
    "bispec = bispec[~badjd][:, ~badtr]\n",
    "jd = jd[~badjd]"
   ]
  },
  {
   "cell_type": "code",
   "execution_count": null,
   "id": "f38f2db4",
   "metadata": {},
   "outputs": [],
   "source": [
    "# average in JD bins\n",
    "bispec1 = np.zeros((2,) + bispec.shape[1:], dtype=complex)\n",
    "bispec2 = np.zeros((4,) + bispec.shape[1:], dtype=complex)\n",
    "\n",
    "for tr in range(bispec.shape[1]):\n",
    "    print(tr)\n",
    "    badjd = np.all(np.isnan(bispec[:, tr]), axis=(1, 2)) \n",
    "    bispecTR = bispec[~badjd][:, tr]\n",
    "    bispec2[:, tr] = np.array([cp.geomed(bispecTR[i::4], axis=0) for i in range(4)])\n",
    "\n",
    "bispec[rfiflags[0]][:, :, rfiflags[1:]] = np.nan\n",
    "\"\"\"\n",
    "for tr in range(bispec.shape[1]):\n",
    "    badjd = np.all(np.isnan(bispec[:, tr]), axis=(1, 2)) \n",
    "    bispecTR = bispec[~badjd][:, tr]\n",
    "    bispec1[:, tr] = np.array([cp.geomed(bispecTR[i::2], axis=0) for i in range(2)])\n",
    "\"\"\""
   ]
  },
  {
   "cell_type": "code",
   "execution_count": 16,
   "id": "6a1a4447",
   "metadata": {},
   "outputs": [
    {
     "name": "stdout",
     "output_type": "stream",
     "text": [
      "(150, 752, 161)\n"
     ]
    }
   ],
   "source": [
    "print(rfiflags.shape)"
   ]
  },
  {
   "cell_type": "code",
   "execution_count": 14,
   "id": "ae620aca",
   "metadata": {},
   "outputs": [
    {
     "data": {
      "application/vnd.jupyter.widget-view+json": {
       "model_id": "6fadb37b757d4816b0b89a6849ac5d39",
       "version_major": 2,
       "version_minor": 0
      },
      "text/plain": [
       "interactive(children=(IntSlider(value=1, description='j', max=3), IntSlider(value=38, description='tr', max=77…"
      ]
     },
     "metadata": {},
     "output_type": "display_data"
    },
    {
     "data": {
      "text/plain": [
       "<function __main__.plot(j, tr)>"
      ]
     },
     "execution_count": 14,
     "metadata": {},
     "output_type": "execute_result"
    }
   ],
   "source": [
    "def plot(j, tr):\n",
    "    im = plt.imshow(\n",
    "        np.flip(np.angle(bispec2[j, tr]), axis=0),\n",
    "        extent=(np.amin(frq), np.amax(frq), np.amin(lst), np.amax(lst)),\n",
    "        cmap=cm.twilight,\n",
    "        interpolation=\"None\",\n",
    "        aspect=\"auto\",\n",
    "    )\n",
    "\n",
    "    plt.xlabel(\"Frequency (MHz)\")\n",
    "    plt.ylabel(\"LST (h)\")\n",
    "    plt.ylim([min(lst), max(lst)])\n",
    "    plt.title(f\"JD {jd[j]}, Triad {tr}\")\n",
    "    plt.minorticks_on()\n",
    "    plt.tight_layout()\n",
    "    plt.show()\n",
    "\n",
    "interact(plot, j=(0, 3, 1), tr=(0, bispec2.shape[1], 1))"
   ]
  },
  {
   "cell_type": "code",
   "execution_count": null,
   "id": "741a1431",
   "metadata": {},
   "outputs": [],
   "source": [
    "# average in lst\n",
    "nlst = 20\n",
    "bispec1 = np.array([np.nanmean(bispec1[:, :, i*nlst: (i+1)*nlst], axis=2)])\n",
    "bispec2 = np.array([np.nanmean(bispec2[:, :, i*nlst: (i+1)*nlst], axis=2)])"
   ]
  }
 ],
 "metadata": {
  "kernelspec": {
   "display_name": "Python 3.7.4 64-bit ('base': conda)",
   "language": "python",
   "name": "python374jvsc74a57bd049173ec0ab9051b251b8100f32c8c6e08c0c0ada2720759b60af90733fd84a0b"
  },
  "language_info": {
   "codemirror_mode": {
    "name": "ipython",
    "version": 3
   },
   "file_extension": ".py",
   "mimetype": "text/x-python",
   "name": "python",
   "nbconvert_exporter": "python",
   "pygments_lexer": "ipython3",
   "version": "3.7.4"
  }
 },
 "nbformat": 4,
 "nbformat_minor": 5
}
