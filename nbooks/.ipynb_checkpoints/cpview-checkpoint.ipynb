{
 "cells": [
  {
   "cell_type": "markdown",
   "id": "789b8963",
   "metadata": {},
   "source": [
    "# H1C IDR3.2 View and Flag JD axis\n",
    "View averaged Spectrograms and flag JDs which are affected by RFI or system failures. Flags are written to file."
   ]
  },
  {
   "cell_type": "code",
   "execution_count": 2,
   "id": "a35857dd",
   "metadata": {},
   "outputs": [],
   "source": [
    "import os\n",
    "import h5py\n",
    "import numpy as np\n",
    "from itertools import product\n",
    "\n",
    "import sys\n",
    "sys.path.append(\"/users/pkeller/code/H1C_IDR3.2/\")\n",
    "\n",
    "from closurelib import cptools as cp\n",
    "from closurelib import plot\n",
    "\n",
    "from ipywidgets import interact\n",
    "\n",
    "import matplotlib.pyplot as plt"
   ]
  },
  {
   "cell_type": "markdown",
   "id": "05c37b2b",
   "metadata": {},
   "source": [
    "## Load Data"
   ]
  },
  {
   "cell_type": "code",
   "execution_count": null,
   "id": "e897d639",
   "metadata": {
    "scrolled": true
   },
   "outputs": [],
   "source": [
    "# data directory\n",
    "ddir = \"/lustre/aoc/projects/hera/pkeller/data/H1C_IDR3.2/sample/\"\n",
    "\n",
    "# triad names\n",
    "trnames = [\"EQ28\"]\n",
    "\n",
    "# field names\n",
    "fnames = [\"B\"]\n",
    "\n",
    "data = dict()\n",
    "\n",
    "for fname, trname in product(fnames, trnames):\n",
    "    name = f\"{trname}_F{fname}\"\n",
    "    path = os.path.join(ddir, f\"{name}_B2.h5\")\n",
    "    data.update({name: dict()})\n",
    "    \n",
    "    with h5py.File(path, \"r\") as f:\n",
    "        data[name].update({\"JD\": f[\"JD\"][()]})\n",
    "        data[name].update({\"LST\": f[\"LST\"][()]})\n",
    "        data[name].update({\"triads\": f[\"triads\"][()]})\n",
    "        data[name].update({\"eicp\": f[\"bispec\"][()]})\n",
    "        data[name].update({\"FRQ\": f[\"FRQ\"][()]})"
   ]
  },
  {
   "cell_type": "markdown",
   "id": "86edc061",
   "metadata": {},
   "source": [
    "## Make Closure Phases"
   ]
  },
  {
   "cell_type": "code",
   "execution_count": 4,
   "id": "d2f44780",
   "metadata": {},
   "outputs": [
    {
     "ename": "KeyError",
     "evalue": "'EQ28_FB'",
     "output_type": "error",
     "traceback": [
      "\u001b[0;31m---------------------------------------------------------------------------\u001b[0m",
      "\u001b[0;31mKeyError\u001b[0m                                  Traceback (most recent call last)",
      "\u001b[0;32m<ipython-input-4-b7ffa02d5666>\u001b[0m in \u001b[0;36m<module>\u001b[0;34m\u001b[0m\n\u001b[1;32m      3\u001b[0m \u001b[0;32mfor\u001b[0m \u001b[0mfname\u001b[0m \u001b[0;32min\u001b[0m \u001b[0mfnames\u001b[0m\u001b[0;34m:\u001b[0m\u001b[0;34m\u001b[0m\u001b[0;34m\u001b[0m\u001b[0m\n\u001b[1;32m      4\u001b[0m     \u001b[0mdata1\u001b[0m \u001b[0;34m=\u001b[0m \u001b[0mdata\u001b[0m\u001b[0;34m[\u001b[0m\u001b[0;34mf\"EQ14_F{fname}\"\u001b[0m\u001b[0;34m]\u001b[0m\u001b[0;34m\u001b[0m\u001b[0;34m\u001b[0m\u001b[0m\n\u001b[0;32m----> 5\u001b[0;31m     \u001b[0mdata2\u001b[0m \u001b[0;34m=\u001b[0m \u001b[0mdata\u001b[0m\u001b[0;34m[\u001b[0m\u001b[0;34mf\"EQ28_F{fname}\"\u001b[0m\u001b[0;34m]\u001b[0m\u001b[0;34m\u001b[0m\u001b[0;34m\u001b[0m\u001b[0m\n\u001b[0m\u001b[1;32m      6\u001b[0m     \u001b[0mcp_avg\u001b[0m \u001b[0;34m=\u001b[0m \u001b[0mnp\u001b[0m\u001b[0;34m.\u001b[0m\u001b[0mangle\u001b[0m\u001b[0;34m(\u001b[0m\u001b[0;34m(\u001b[0m\u001b[0mdata1\u001b[0m\u001b[0;34m[\u001b[0m\u001b[0;34m\"eicp\"\u001b[0m\u001b[0;34m]\u001b[0m \u001b[0;34m+\u001b[0m \u001b[0mdata2\u001b[0m\u001b[0;34m[\u001b[0m\u001b[0;34m\"eicp\"\u001b[0m\u001b[0;34m]\u001b[0m\u001b[0;34m)\u001b[0m\u001b[0;34m.\u001b[0m\u001b[0mmean\u001b[0m\u001b[0;34m(\u001b[0m\u001b[0;36m0\u001b[0m\u001b[0;34m)\u001b[0m\u001b[0;34m)\u001b[0m\u001b[0;34m\u001b[0m\u001b[0;34m\u001b[0m\u001b[0m\n\u001b[1;32m      7\u001b[0m     \u001b[0mcp_data\u001b[0m\u001b[0;34m.\u001b[0m\u001b[0mupdate\u001b[0m\u001b[0;34m(\u001b[0m\u001b[0;34m{\u001b[0m\u001b[0mfname\u001b[0m\u001b[0;34m:\u001b[0m \u001b[0mdict\u001b[0m\u001b[0;34m(\u001b[0m\u001b[0;34m{\u001b[0m\u001b[0;34m\"cp\"\u001b[0m\u001b[0;34m:\u001b[0m \u001b[0mcp_avg\u001b[0m\u001b[0;34m,\u001b[0m \u001b[0;34m\"JD\"\u001b[0m\u001b[0;34m:\u001b[0m \u001b[0mdata1\u001b[0m\u001b[0;34m[\u001b[0m\u001b[0;34m\"JD\"\u001b[0m\u001b[0;34m]\u001b[0m\u001b[0;34m,\u001b[0m \u001b[0;34m\"LST\"\u001b[0m\u001b[0;34m:\u001b[0m \u001b[0mdata1\u001b[0m\u001b[0;34m[\u001b[0m\u001b[0;34m\"LST\"\u001b[0m\u001b[0;34m]\u001b[0m\u001b[0;34m,\u001b[0m \u001b[0;34m\"FRQ\"\u001b[0m\u001b[0;34m:\u001b[0m \u001b[0mdata1\u001b[0m\u001b[0;34m[\u001b[0m\u001b[0;34m\"FRQ\"\u001b[0m\u001b[0;34m]\u001b[0m\u001b[0;34m}\u001b[0m\u001b[0;34m)\u001b[0m\u001b[0;34m}\u001b[0m\u001b[0;34m)\u001b[0m\u001b[0;34m\u001b[0m\u001b[0;34m\u001b[0m\u001b[0m\n",
      "\u001b[0;31mKeyError\u001b[0m: 'EQ28_FB'"
     ]
    }
   ],
   "source": [
    "cp_data = dict()\n",
    "cph = np.angle(data[\"EQ14_FB\"][\"eicp\"])\n",
    "lst = data[\"EQ14_FB\"][\"LST\"]\n",
    "frq = data[\"EQ14_FB\"][\"FRQ\"]\n",
    "jd = data[\"EQ14_FB\"][\"JD\"]"
   ]
  },
  {
   "cell_type": "markdown",
   "id": "c79b24ef",
   "metadata": {},
   "source": [
    "## Plot Closure Phase Spectrograms"
   ]
  },
  {
   "cell_type": "code",
   "execution_count": 5,
   "id": "5e2a5f63",
   "metadata": {},
   "outputs": [],
   "source": [
    "def plot_spectrogram(data, p, j, tr):\n",
    "    \"\"\" \n",
    "    Plot a closure phase spectrogram.\n",
    "    \"\"\"\n",
    "    fig, ax = plt.subplots(figsize=(10, 7))\n",
    "    ax = plot.spectrogram(cph[p, j, tr], lst, frq, cmap=\"twilight\", ax=ax)\n",
    "    ax.set_title(f\"JD {data['JD'][j]}\")\n",
    "    plt.show()"
   ]
  },
  {
   "cell_type": "markdown",
   "id": "b75cb031",
   "metadata": {},
   "source": [
    "### Field A"
   ]
  },
  {
   "cell_type": "code",
   "execution_count": 6,
   "id": "9121a1ef",
   "metadata": {},
   "outputs": [
    {
     "data": {
      "application/vnd.jupyter.widget-view+json": {
       "model_id": "f975b7bdecc84512a98c5840b7a6a343",
       "version_major": 2,
       "version_minor": 0
      },
      "text/plain": [
       "interactive(children=(IntSlider(value=27, description='j', max=54), Output()), _dom_classes=('widget-interact'…"
      ]
     },
     "metadata": {},
     "output_type": "display_data"
    },
    {
     "data": {
      "text/plain": [
       "<function __main__.<lambda>(j)>"
      ]
     },
     "execution_count": 6,
     "metadata": {},
     "output_type": "execute_result"
    }
   ],
   "source": [
    "plot_A = lambda j : plot_spectrogram(cp_data[\"A\"], j)\n",
    "interact(plot_A, j=(0, len(cp_data[\"A\"][\"JD\"])-1))"
   ]
  },
  {
   "cell_type": "code",
   "execution_count": 7,
   "id": "af06e2e2",
   "metadata": {},
   "outputs": [],
   "source": [
    "idx = np.where((cp_data[\"A\"][\"JD\"] > 2458073) | (cp_data[\"A\"][\"JD\"] < 2458038))[0]\n",
    "badjd = 24580 + np.array([59, 58])\n",
    "fl = flag_jd(cp_data[\"A\"], badjd, idx)\n",
    "fl = fl | flag_lst(cp_data[\"A\"])\n",
    "flags.update({\"A\": fl})"
   ]
  },
  {
   "cell_type": "markdown",
   "id": "8f8d3474",
   "metadata": {},
   "source": [
    "### Field B"
   ]
  },
  {
   "cell_type": "code",
   "execution_count": 6,
   "id": "0f2fc6d8",
   "metadata": {},
   "outputs": [
    {
     "data": {
      "application/vnd.jupyter.widget-view+json": {
       "model_id": "111c87cc54394de1ab2e7054a0f81749",
       "version_major": 2,
       "version_minor": 0
      },
      "text/plain": [
       "interactive(children=(IntSlider(value=70, description='j', max=140), Output()), _dom_classes=('widget-interact…"
      ]
     },
     "metadata": {},
     "output_type": "display_data"
    },
    {
     "data": {
      "text/plain": [
       "<function __main__.<lambda>(j)>"
      ]
     },
     "execution_count": 6,
     "metadata": {},
     "output_type": "execute_result"
    }
   ],
   "source": [
    "plot_B = lambda j : plot_spectrogram(cp_data[\"B\"], j)\n",
    "interact(plot_B, j=(0, len(cp_data[\"B\"][\"JD\"])-1))"
   ]
  },
  {
   "cell_type": "code",
   "execution_count": 9,
   "id": "f4760ee2",
   "metadata": {},
   "outputs": [],
   "source": [
    "idx = badjd = np.where((cp_data[\"B\"][\"JD\"] > 2458108) | (cp_data[\"B\"][\"JD\"] < 2458038))[0]\n",
    "badjd = 2458000 + np.array([104, 96, 59, 58, 57])\n",
    "fl = flag_jd(cp_data[\"B\"], badjd, idx)\n",
    "fl = fl | flag_lst(cp_data[\"B\"])\n",
    "flags.update({\"B\": fl})"
   ]
  },
  {
   "cell_type": "markdown",
   "id": "0e7b82a3",
   "metadata": {},
   "source": [
    "### Field C"
   ]
  },
  {
   "cell_type": "code",
   "execution_count": 10,
   "id": "b91d3f74",
   "metadata": {},
   "outputs": [
    {
     "data": {
      "application/vnd.jupyter.widget-view+json": {
       "model_id": "30653083f4a2418a82f69ca18d01f276",
       "version_major": 2,
       "version_minor": 0
      },
      "text/plain": [
       "interactive(children=(IntSlider(value=74, description='j', max=149), Output()), _dom_classes=('widget-interact…"
      ]
     },
     "metadata": {},
     "output_type": "display_data"
    },
    {
     "data": {
      "text/plain": [
       "<function __main__.<lambda>(j)>"
      ]
     },
     "execution_count": 10,
     "metadata": {},
     "output_type": "execute_result"
    }
   ],
   "source": [
    "plot_C = lambda j : plot_spectrogram(cp_data[\"C\"], j)\n",
    "interact(plot_C, j=(0, len(cp_data[\"C\"][\"JD\"])-1))"
   ]
  },
  {
   "cell_type": "code",
   "execution_count": 11,
   "id": "0000cd1e",
   "metadata": {},
   "outputs": [],
   "source": [
    "idx = np.where((cp_data[\"C\"][\"JD\"] > 2458160) | (cp_data[\"C\"][\"JD\"] < 2458038))[0]\n",
    "badjd = 2458000 + np.array([159, 156, 145, 141, 138, 137, 136, 109, 37])\n",
    "fl = flag_jd(cp_data[\"C\"], badjd, idx)\n",
    "fl = fl | flag_lst(cp_data[\"C\"])\n",
    "flags.update({\"C\": fl})"
   ]
  },
  {
   "cell_type": "markdown",
   "id": "95062466",
   "metadata": {},
   "source": [
    "### Field D"
   ]
  },
  {
   "cell_type": "code",
   "execution_count": 12,
   "id": "63453468",
   "metadata": {},
   "outputs": [
    {
     "data": {
      "application/vnd.jupyter.widget-view+json": {
       "model_id": "2f2814f01380462a8b935e6b0198b249",
       "version_major": 2,
       "version_minor": 0
      },
      "text/plain": [
       "interactive(children=(IntSlider(value=83, description='j', max=166), Output()), _dom_classes=('widget-interact…"
      ]
     },
     "metadata": {},
     "output_type": "display_data"
    },
    {
     "data": {
      "text/plain": [
       "<function __main__.<lambda>(j)>"
      ]
     },
     "execution_count": 12,
     "metadata": {},
     "output_type": "execute_result"
    }
   ],
   "source": [
    "plot_D = lambda j : plot_spectrogram(cp_data[\"D\"], j)\n",
    "interact(plot_D, j=(0, len(cp_data[\"D\"][\"JD\"])-1))"
   ]
  },
  {
   "cell_type": "code",
   "execution_count": 13,
   "id": "16c5b530",
   "metadata": {},
   "outputs": [],
   "source": [
    "idx = np.where((cp_data[\"D\"][\"JD\"] > 2458160) | (cp_data[\"D\"][\"JD\"] < 2458038))[0]\n",
    "badjd = 2458000 + np.array([206, 184, 179, 178, 173, 172, 170, 169, 168, 167, 166, 165, 163, 162, 159, 156, 141, 137, 130, 37])\n",
    "fl = flag_jd(cp_data[\"D\"], badjd, idx)\n",
    "fl = fl | flag_lst(cp_data[\"D\"])\n",
    "flags.update({\"D\": fl})"
   ]
  },
  {
   "cell_type": "markdown",
   "id": "fccdc898",
   "metadata": {},
   "source": [
    "### Field E"
   ]
  },
  {
   "cell_type": "code",
   "execution_count": 14,
   "id": "ffbd60fa",
   "metadata": {},
   "outputs": [
    {
     "data": {
      "application/vnd.jupyter.widget-view+json": {
       "model_id": "55c26a303dab467b9b3150ad78c291b4",
       "version_major": 2,
       "version_minor": 0
      },
      "text/plain": [
       "interactive(children=(IntSlider(value=77, description='j', max=154), Output()), _dom_classes=('widget-interact…"
      ]
     },
     "metadata": {},
     "output_type": "display_data"
    },
    {
     "data": {
      "text/plain": [
       "<function __main__.<lambda>(j)>"
      ]
     },
     "execution_count": 14,
     "metadata": {},
     "output_type": "execute_result"
    }
   ],
   "source": [
    "plot_E = lambda j : plot_spectrogram(cp_data[\"E\"], j)\n",
    "interact(plot_E, j=(0, len(cp_data[\"E\"][\"JD\"])-1))"
   ]
  },
  {
   "cell_type": "code",
   "execution_count": 15,
   "id": "06de8f32",
   "metadata": {},
   "outputs": [],
   "source": [
    "idx = np.where(cp_data[\"E\"][\"JD\"] < 2458074)[0]\n",
    "badjd = 2458000 + np.array([179, 178, 172, 170, 169, 168, 167, 166, 162, 142, 130])\n",
    "fl = flag_jd(cp_data[\"E\"], badjd, idx)\n",
    "fl = fl | flag_lst(cp_data[\"E\"])\n",
    "flags.update({\"E\": fl})"
   ]
  },
  {
   "cell_type": "markdown",
   "id": "e2100422",
   "metadata": {},
   "source": [
    "## Write Flags to Files"
   ]
  },
  {
   "cell_type": "code",
   "execution_count": 18,
   "id": "56838f91",
   "metadata": {},
   "outputs": [],
   "source": [
    "for fname, trname in product(fnames, trnames):\n",
    "    name = f\"{trname}_F{fname}\"\n",
    "    path = os.path.join(ddir, f\"{name}_B2.h5\")\n",
    "    \n",
    "    f = h5py.File(path, \"a\")\n",
    "    if \"JD-LST flags\" in f.keys():\n",
    "        del f[\"JD-LST flags\"]\n",
    "    f.create_dataset(\"JD-LST flags\", data=flags[fname].astype(bool))\n",
    "    f.close()"
   ]
  }
 ],
 "metadata": {
  "kernelspec": {
   "display_name": "Python 3.7.4 64-bit ('base': conda)",
   "language": "python",
   "name": "python374jvsc74a57bd049173ec0ab9051b251b8100f32c8c6e08c0c0ada2720759b60af90733fd84a0b"
  },
  "language_info": {
   "codemirror_mode": {
    "name": "ipython",
    "version": 3
   },
   "file_extension": ".py",
   "mimetype": "text/x-python",
   "name": "python",
   "nbconvert_exporter": "python",
   "pygments_lexer": "ipython3",
   "version": "3.7.4"
  }
 },
 "nbformat": 4,
 "nbformat_minor": 5
}
