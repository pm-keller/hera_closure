{
 "cells": [
  {
   "cell_type": "markdown",
   "id": "789b8963",
   "metadata": {},
   "source": [
    "# H1C IDR3.2 View Closure Phase Spectrograms"
   ]
  },
  {
   "cell_type": "code",
   "execution_count": 9,
   "id": "a35857dd",
   "metadata": {},
   "outputs": [],
   "source": [
    "import os\n",
    "import h5py\n",
    "import numpy as np\n",
    "from itertools import product\n",
    "\n",
    "import sys\n",
    "sys.path.append(\"/users/pkeller/code/H1C_IDR3.2/\")\n",
    "\n",
    "from closurelib import cptools as cp\n",
    "from closurelib import plot\n",
    "\n",
    "from ipywidgets import interact\n",
    "\n",
    "import matplotlib.pyplot as plt"
   ]
  },
  {
   "cell_type": "markdown",
   "id": "05c37b2b",
   "metadata": {},
   "source": [
    "## Load Data"
   ]
  },
  {
   "cell_type": "code",
   "execution_count": 6,
   "id": "e897d639",
   "metadata": {
    "scrolled": true
   },
   "outputs": [
    {
     "name": "stdout",
     "output_type": "stream",
     "text": [
      "(46, 3)\n"
     ]
    }
   ],
   "source": [
    "# data directory\n",
    "ddir = \"/lustre/aoc/projects/hera/pkeller/data/H1C_IDR3.2/sample/\"\n",
    "\n",
    "# triad names\n",
    "trname = \"EQ14\"\n",
    "\n",
    "# field names\n",
    "fname = \"C\"\n",
    "\n",
    "name = f\"{trname}_F{fname}\"\n",
    "path = os.path.join(ddir, f\"{name}_B2.h5\")\n",
    "\n",
    "with h5py.File(path, \"r\") as f:\n",
    "    cph = np.angle(f[\"bispec model\"][()])\n",
    "    trlist = f[\"triads XX\"][()]\n",
    "    lst = f[\"LST\"][()]\n",
    "    frq = f[\"FRQ\"][()]\n",
    "    jd = f[\"JD\"][()]\n",
    "    flags = f[\"JD-LST flags\"][()]\n",
    "\n",
    "# apply flags\n",
    "idx = np.where(flags)\n",
    "#cph[:, idx[0], :, idx[1]] = np.nan"
   ]
  },
  {
   "cell_type": "code",
   "execution_count": 10,
   "id": "d9f6b0be",
   "metadata": {},
   "outputs": [],
   "source": [
    "with h5py.File(path, \"r\") as f:\n",
    "    flags_jd_tr = f[\"JD-triad flags 2\"][()]"
   ]
  },
  {
   "cell_type": "code",
   "execution_count": 12,
   "id": "1186276f",
   "metadata": {},
   "outputs": [],
   "source": [
    "cph[:, flags_jd_tr] = np.nan"
   ]
  },
  {
   "cell_type": "markdown",
   "id": "c79b24ef",
   "metadata": {},
   "source": [
    "## Plot Closure Phase Spectrograms"
   ]
  },
  {
   "cell_type": "code",
   "execution_count": 10,
   "id": "5e2a5f63",
   "metadata": {},
   "outputs": [],
   "source": [
    "def plot_spectrogram(p, j, tr):\n",
    "    \"\"\" \n",
    "    Plot a closure phase spectrogram.\n",
    "    \"\"\"\n",
    "    fig, ax = plt.subplots(figsize=(10, 7))\n",
    "    ax = plot.spectrogram(cph[p, j, tr], lst, frq, cmap=\"twilight\", ax=ax)\n",
    "    ax.set_title(f\"JD {jd[j]}, Triad {trlist[tr]}\")\n",
    "    plt.show()"
   ]
  },
  {
   "cell_type": "code",
   "execution_count": 11,
   "id": "0f2fc6d8",
   "metadata": {},
   "outputs": [
    {
     "data": {
      "application/vnd.jupyter.widget-view+json": {
       "model_id": "1321592053f447cba2d0dded7e86a8e1",
       "version_major": 2,
       "version_minor": 0
      },
      "text/plain": [
       "interactive(children=(IntSlider(value=0, description='p', max=1), IntSlider(value=74, description='j', max=149…"
      ]
     },
     "metadata": {},
     "output_type": "display_data"
    },
    {
     "data": {
      "text/plain": [
       "<function __main__.plot_spectrogram(p, j, tr)>"
      ]
     },
     "execution_count": 11,
     "metadata": {},
     "output_type": "execute_result"
    }
   ],
   "source": [
    "interact(plot_spectrogram, p=(0, 1), j=(0, len(jd)-1), tr=(0, len(trlist)-1))"
   ]
  },
  {
   "cell_type": "markdown",
   "id": "0c3013a8",
   "metadata": {},
   "source": [
    "# View Averaged Data"
   ]
  },
  {
   "cell_type": "markdown",
   "id": "8161b2cd",
   "metadata": {},
   "source": [
    "## Load Data"
   ]
  },
  {
   "cell_type": "code",
   "execution_count": 12,
   "id": "94f9694e",
   "metadata": {},
   "outputs": [],
   "source": [
    "# data directory\n",
    "ddir = \"/lustre/aoc/projects/hera/pkeller/data/H1C_IDR3.2/sample/\"\n",
    "\n",
    "# triad names\n",
    "trnames = [\"EQ14\"]\n",
    "\n",
    "# field names\n",
    "fnames = [\"C\"]\n",
    "\n",
    "# polarisations\n",
    "polnames = [\"YY\"]\n",
    "\n",
    "data = dict()\n",
    "\n",
    "for trname, fname, polname in product(trnames, fnames, polnames):\n",
    "    name = f\"{trname}_F{fname}\"\n",
    "    path = os.path.join(ddir, f\"{name}_B2_AVG.h5\")\n",
    "\n",
    "    with h5py.File(path, \"r\") as f:\n",
    "        cph = np.angle(f[f\"eicp {polname} (4)\"][()].mean(0))\n",
    "        trlist = f[f\"triads {polname}\"][()]\n",
    "        lst = f[\"LST\"][()]\n",
    "        frq = f[\"FRQ\"][()]"
   ]
  },
  {
   "cell_type": "code",
   "execution_count": 13,
   "id": "0557dd72",
   "metadata": {},
   "outputs": [
    {
     "data": {
      "application/vnd.jupyter.widget-view+json": {
       "model_id": "7f35c2daa7f44a0c93163a726a8a17ff",
       "version_major": 2,
       "version_minor": 0
      },
      "text/plain": [
       "interactive(children=(IntSlider(value=22, description='i', max=45), Output()), _dom_classes=('widget-interact'…"
      ]
     },
     "metadata": {},
     "output_type": "display_data"
    },
    {
     "data": {
      "text/plain": [
       "<function __main__.plot(i)>"
      ]
     },
     "execution_count": 13,
     "metadata": {},
     "output_type": "execute_result"
    }
   ],
   "source": [
    "def plot(i):\n",
    "    fig, ax = plt.subplots(1, 1, figsize=(10, 10))\n",
    "    plt.title(f\"{trlist[i]}\")\n",
    "    plt.imshow(cph[i], aspect=\"auto\", cmap=\"twilight\")\n",
    "    plt.show()\n",
    "    \n",
    "interact(plot, i=(0, len(trlist)-1))"
   ]
  }
 ],
 "metadata": {
  "kernelspec": {
   "display_name": "base",
   "language": "python",
   "name": "base"
  },
  "language_info": {
   "codemirror_mode": {
    "name": "ipython",
    "version": 3
   },
   "file_extension": ".py",
   "mimetype": "text/x-python",
   "name": "python",
   "nbconvert_exporter": "python",
   "pygments_lexer": "ipython3",
   "version": "3.7.4"
  }
 },
 "nbformat": 4,
 "nbformat_minor": 5
}
