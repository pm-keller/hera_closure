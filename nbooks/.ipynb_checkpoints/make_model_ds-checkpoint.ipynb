{
 "cells": [
  {
   "cell_type": "markdown",
   "id": "d483a755",
   "metadata": {},
   "source": [
    "# Make Model Data Set\n",
    "Add noise to model visibilities and make a data set with the same shape as the real data."
   ]
  },
  {
   "cell_type": "code",
   "execution_count": 139,
   "id": "7bd4e5a6",
   "metadata": {},
   "outputs": [],
   "source": [
    "import numpy as np\n",
    "import h5py\n",
    "\n",
    "import pandas as pd\n",
    "from scipy.interpolate import interp1d"
   ]
  },
  {
   "cell_type": "markdown",
   "id": "e44915d1",
   "metadata": {},
   "source": [
    "## Load Data"
   ]
  },
  {
   "cell_type": "code",
   "execution_count": null,
   "id": "42172293",
   "metadata": {},
   "outputs": [
    {
     "name": "stdout",
     "output_type": "stream",
     "text": [
      "EQ14 B\n"
     ]
    }
   ],
   "source": [
    "for trclass in [\"EQ14\", \"EQ28\"]:\n",
    "    for field in [\"B\", \"C\", \"E\"]:\n",
    "        print(trclass, field)\n",
    "\n",
    "        std_path = \"/users/pkeller/code/H1C_IDR3.2/data/noise_std.h5\"\n",
    "        vis_gleam_path = f\"/users/pkeller/code/ClosureSim/data/vis_{trclass}_F{field}B2.h5\"\n",
    "        vis_bright_path = f\"/users/pkeller/code/ClosureSim/data/vis_bright_{trclass}_F{field}B2.h5\"\n",
    "        data_path = f\"/lustre/aoc/projects/hera/pkeller/data/H1C_IDR3.2/sample/{trclass}_F{field}_B2.h5\"\n",
    "\n",
    "        with h5py.File(vis_gleam_path) as f:\n",
    "            lstm = f[\"LST\"][()]\n",
    "            freqm = f[\"Frequencies\"][()]\n",
    "            vis = f[\"Visibilities\"][()]\n",
    "\n",
    "        with h5py.File(vis_bright_path) as f:\n",
    "            vis += f[\"Visibilities\"][()]\n",
    "\n",
    "        with h5py.File(data_path) as f:\n",
    "            data = f[\"bispec\"][()]\n",
    "            freqd = f[\"FRQ\"][()]\n",
    "\n",
    "        with h5py.File(std_path) as f:\n",
    "            lstd = f[\"LST\"][()]\n",
    "            stdn = f[\"RMS\"][()].real\n",
    "\n",
    "        # interpolate model visibilities along frequency and time axis\n",
    "        vis = interp1d(freqm, vis, axis=-1, fill_value=\"extrapolate\")(freqd)\n",
    "        vis = interp1d(lstm, vis, axis=-2, fill_value=\"extrapolate\")(lstd)\n",
    "        \n",
    "        # interpolate NaN-values\n",
    "        stdn = np.sqrt(np.nanmean(stdn**2, axis=(0,)))\n",
    "        stdn = pd.DataFrame(stdn).interpolate(axis=1).values\n",
    "        stdn = pd.DataFrame(stdn).interpolate(axis=0).values\n",
    "        stdn = stdn[np.where(~np.isnan(stdn).all(-1))]\n",
    "        lstd = lstd[np.where(~np.isnan(stdn).all(-1))]\n",
    "        stdf = interp2d(freqd, lstd, stdn)\n",
    "\n",
    "        std = np.zeros_like(vis).real\n",
    "\n",
    "        for i, lst in enumerate(lstm):\n",
    "            for j, freq in enumerate(freqd):\n",
    "                std[:, :, i, j] = stdf(freq, lst)\n",
    "                \n",
    "        data = np.zeros_like(data)\n",
    "\n",
    "        for i in range(data.shape[1]):\n",
    "            for j in range(data.shape[2]):\n",
    "                visn = vis + np.random.normal(np.zeros_like(vis).real, std) + 1j * np.random.normal(np.zeros_like(vis).real, std)\n",
    "                data[:, i, j] = np.product(visn, axis=0)\n",
    "                \n",
    "        with h5py.File(data_path, \"a\") as f:\n",
    "            f.create_dataset(f\"bispec model\", data=data)"
   ]
  },
  {
   "cell_type": "markdown",
   "id": "4a958922",
   "metadata": {},
   "source": [
    "## Make Data Set"
   ]
  },
  {
   "cell_type": "code",
   "execution_count": 182,
   "id": "c50e5e51",
   "metadata": {},
   "outputs": [],
   "source": [
    "data = np.zeros_like(data)\n",
    "\n",
    "for i in range(cph.shape[1]):\n",
    "    for j in range(cph.shape[2]):\n",
    "        visn = vis + np.random.normal(np.zeros_like(vis).real, std) + 1j * np.random.normal(np.zeros_like(vis).real, std)\n",
    "        data[:, i, j] = np.product(visn, axis=0)"
   ]
  },
  {
   "cell_type": "markdown",
   "id": "a4078faf",
   "metadata": {},
   "source": [
    "## Save to File"
   ]
  },
  {
   "cell_type": "code",
   "execution_count": 184,
   "id": "6bfcfec7",
   "metadata": {},
   "outputs": [],
   "source": [
    "with h5py.File(data_path, \"w\") as f:\n",
    "    f.create_dataset(f\"bispec model\", data=data)"
   ]
  }
 ],
 "metadata": {
  "kernelspec": {
   "display_name": "base",
   "language": "python",
   "name": "base"
  },
  "language_info": {
   "codemirror_mode": {
    "name": "ipython",
    "version": 3
   },
   "file_extension": ".py",
   "mimetype": "text/x-python",
   "name": "python",
   "nbconvert_exporter": "python",
   "pygments_lexer": "ipython3",
   "version": "3.7.4"
  }
 },
 "nbformat": 4,
 "nbformat_minor": 5
}
