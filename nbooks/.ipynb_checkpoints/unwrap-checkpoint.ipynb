{
 "cells": [
  {
   "cell_type": "code",
   "execution_count": 1,
   "id": "7857a70b",
   "metadata": {},
   "outputs": [],
   "source": [
    "import os\n",
    "import h5py\n",
    "import numpy as np\n",
    "import sys\n",
    "\n",
    "from unwrap import unwrap\n",
    "\n",
    "sys.path.append(\"/users/pkeller/code/ClosurePhaseAnalysis/\")\n",
    "\n",
    "from library import rfi\n",
    "from library import cptools as cp\n",
    "\n",
    "from ipywidgets import interact\n",
    "\n",
    "import matplotlib as mpl\n",
    "import matplotlib.pyplot as plt\n",
    "import matplotlib.cm as cm\n",
    "\n",
    "# configure matplotlib\n",
    "mpl.style.use(\"classic\")"
   ]
  },
  {
   "cell_type": "markdown",
   "id": "05c37b2b",
   "metadata": {},
   "source": [
    "## Load Data\n",
    "Load closure phases. Meta data is printed below cell."
   ]
  },
  {
   "cell_type": "code",
   "execution_count": 3,
   "id": "e897d639",
   "metadata": {
    "scrolled": true
   },
   "outputs": [
    {
     "name": "stdout",
     "output_type": "stream",
     "text": [
      "data has shape (2, 77, 47, 161)\n",
      "JD range 2458033-2458193, 150 nights\n",
      "LST range 4.02-6.22 h, integration time 168.60 s\n",
      "frequency range 152.30-167.94 MHz, channel width 0.0977 MHz\n"
     ]
    }
   ],
   "source": [
    "path = \"/lustre/aoc/projects/hera/pkeller/data/H1C_IDR3.2/sample/EQ14_FC_B2_AVG.h5\"\n",
    "\n",
    "with h5py.File(path, \"r\") as f:\n",
    "    jd = f[\"JD\"][()]\n",
    "    lst = f[\"LST\"][()]\n",
    "    frq = f[\"FRQ\"][()]\n",
    "    bispec = f[\"bispec XX 1\"][()]\n",
    "\n",
    "# generate frequency array\n",
    "fmin, fmax, fN = (100, 200, 1024)\n",
    "df = (fmax - fmin) / fN\n",
    "\n",
    "# time data\n",
    "lstmin, lstmax, lstN = np.min(lst), np.max(lst), len(lst)\n",
    "dt = (lstmax - lstmin) * 3600 / lstN\n",
    "\n",
    "print(f\"data has shape {bispec.shape}\")\n",
    "print(f\"JD range {min(jd)}-{max(jd)}, {len(jd)} nights\")\n",
    "print(r\"LST range {:.2f}-{:.2f} h, integration time {:.2f} s\".format(lstmin, lstmax, dt))\n",
    "print(r\"frequency range {:.2f}-{:.2f} MHz, channel width {:.4f} MHz\".format(min(frq), max(frq), df))"
   ]
  },
  {
   "cell_type": "code",
   "execution_count": 20,
   "id": "762afad3",
   "metadata": {},
   "outputs": [
    {
     "name": "stdout",
     "output_type": "stream",
     "text": [
      "(2, 77, 47, 161)\n"
     ]
    },
    {
     "name": "stderr",
     "output_type": "stream",
     "text": [
      "/lustre/aoc/projects/hera/pkeller/anaconda3/lib/python3.7/site-packages/ipykernel_launcher.py:1: ComplexWarning: Casting complex values to real discards the imaginary part\n",
      "  \"\"\"Entry point for launching an IPython kernel.\n"
     ]
    }
   ],
   "source": [
    "phase = np.zeros_like(bispec).astype(float)\n",
    "\n",
    "for i in range(phase.shape[0]):\n",
    "    for j in range(phase.shape[1]):\n",
    "        phase[i, j] = np.unwrap(np.angle(bispec[i, j]))\n",
    "print(phase.shape)"
   ]
  },
  {
   "cell_type": "code",
   "execution_count": 22,
   "id": "0bd890d0",
   "metadata": {},
   "outputs": [
    {
     "data": {
      "application/vnd.jupyter.widget-view+json": {
       "model_id": "12822237f1ce42ee95a07d253e9b4c47",
       "version_major": 2,
       "version_minor": 0
      },
      "text/plain": [
       "interactive(children=(IntSlider(value=0, description='j', max=1), IntSlider(value=38, description='tr', max=76…"
      ]
     },
     "metadata": {},
     "output_type": "display_data"
    },
    {
     "data": {
      "text/plain": [
       "<function __main__.plot(j, tr)>"
      ]
     },
     "execution_count": 22,
     "metadata": {},
     "output_type": "execute_result"
    }
   ],
   "source": [
    "def plot(j, tr):\n",
    "    fig, ax = plt.subplots(1, 1, figsize=(7, 7))\n",
    "    im1 = ax.imshow(\n",
    "        phase[j, tr],\n",
    "        extent=(np.amin(frq), np.amax(frq), np.amin(lst), np.amax(lst)),\n",
    "        cmap=cm.plasma,\n",
    "        interpolation=\"None\",\n",
    "        aspect=\"auto\")\n",
    "\n",
    "\n",
    "    ax.set_title(f\"JD Bin {j}, Bispectrum Phase\")\n",
    "    plt.setp(ax, xlabel=\"Fe5quency (MHz)\", ylabel=\"LST (h)\", ylim=[min(lst), max(lst)])\n",
    "    \n",
    "    plt.tight_layout()\n",
    "    plt.show()\n",
    "\n",
    "interact(plot,j=(0, 1, 1), tr=(0, phase.shape[1]-1))"
   ]
  },
  {
   "cell_type": "code",
   "execution_count": 20,
   "id": "95394176",
   "metadata": {},
   "outputs": [
    {
     "data": {
      "application/vnd.jupyter.widget-view+json": {
       "model_id": "f442eb3b599f416099542586ae54721a",
       "version_major": 2,
       "version_minor": 0
      },
      "text/plain": [
       "interactive(children=(IntSlider(value=0, description='pol', max=1), IntSlider(value=40, description='j', max=8…"
      ]
     },
     "metadata": {},
     "output_type": "display_data"
    },
    {
     "data": {
      "text/plain": [
       "<function __main__.plot(pol, j, tr)>"
      ]
     },
     "execution_count": 20,
     "metadata": {},
     "output_type": "execute_result"
    }
   ],
   "source": [
    "def plot(pol, j, tr):\n",
    "    fig, ax = plt.subplots(1, 1, figsize=(7, 7))\n",
    "    im1 = ax.imshow(\n",
    "        np.angle(bispec[pol, j, tr]),\n",
    "        extent=(np.amin(frq), np.amax(frq), np.amin(lst), np.amax(lst)),\n",
    "        cmap=cm.twilight,\n",
    "        interpolation=\"None\",\n",
    "        aspect=\"auto\")\n",
    "\n",
    "\n",
    "    ax.set_title(f\"JD {jd[j]}, Bispectrum Phase\")\n",
    "    plt.setp(ax, xlabel=\"Fe5quency (MHz)\", ylabel=\"LST (h)\", ylim=[min(lst), max(lst)])\n",
    "    \n",
    "    plt.tight_layout()\n",
    "    plt.show()\n",
    "\n",
    "interact(plot, pol=(0, 1), j=(0, len(jd)-1, 1), tr=(0, phase.shape[2]))"
   ]
  },
  {
   "cell_type": "code",
   "execution_count": 37,
   "id": "941b2fca",
   "metadata": {},
   "outputs": [
    {
     "name": "stdout",
     "output_type": "stream",
     "text": [
      "(82, 752, 161)\n"
     ]
    }
   ],
   "source": [
    "print(mbispec.shape)"
   ]
  },
  {
   "cell_type": "code",
   "execution_count": 38,
   "id": "7ba2ae26",
   "metadata": {},
   "outputs": [
    {
     "data": {
      "application/vnd.jupyter.widget-view+json": {
       "model_id": "bb58101d00a242cfb9045c8592fd7a2c",
       "version_major": 2,
       "version_minor": 0
      },
      "text/plain": [
       "interactive(children=(IntSlider(value=0, description='pol', max=1), IntSlider(value=41, description='tr', max=…"
      ]
     },
     "metadata": {},
     "output_type": "display_data"
    },
    {
     "data": {
      "text/plain": [
       "<function __main__.plot(pol, tr, t)>"
      ]
     },
     "execution_count": 38,
     "metadata": {},
     "output_type": "execute_result"
    }
   ],
   "source": [
    "def plot(pol, tr, t):\n",
    "    fig, ax = plt.subplots(1, 1, figsize=(7, 7))\n",
    "    ax.plot(frq, np.swapaxes(np.angle(mbispec[:, t]), 0, 1), linewidth=0, marker=\"o\", markersize=2, markeredgewidth=0)\n",
    "    \n",
    "    plt.tight_layout()\n",
    "    plt.show()\n",
    "\n",
    "interact(plot, pol=(0, 1), tr=(0, mbispec.shape[-3]), t=(0, mbispec.shape[-2]-1))"
   ]
  }
 ],
 "metadata": {
  "kernelspec": {
   "display_name": "base",
   "language": "python",
   "name": "base"
  },
  "language_info": {
   "codemirror_mode": {
    "name": "ipython",
    "version": 3
   },
   "file_extension": ".py",
   "mimetype": "text/x-python",
   "name": "python",
   "nbconvert_exporter": "python",
   "pygments_lexer": "ipython3",
   "version": "3.7.4"
  }
 },
 "nbformat": 4,
 "nbformat_minor": 5
}
