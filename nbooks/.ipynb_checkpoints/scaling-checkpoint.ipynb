{
 "cells": [
  {
   "cell_type": "code",
   "execution_count": 3,
   "id": "31acadd9",
   "metadata": {},
   "outputs": [],
   "source": [
    "import numpy as np\n",
    "\n",
    "import sys\n",
    "sys.path.append(\"/users/pkeller/code/H1C_IDR3.2/\")\n",
    "sys.path.append(\"/users/pkeller/code/ClosureSim/skysim\")\n",
    "\n",
    "from dspec import XPSpec\n",
    "from closurelib import dspec\n",
    "from util import c\n",
    "\n",
    "import astropy.units as u"
   ]
  },
  {
   "cell_type": "code",
   "execution_count": 2,
   "id": "19be5b93",
   "metadata": {},
   "outputs": [],
   "source": [
    "veff_path = \"/users/pkeller/code/H1C_IDR3.2/data/veff_EQ14_FCB2.dat\"\n",
    "omega_path = \"/lustre/aoc/projects/hera/pkeller/HERA-Beams/NicolasFagnoniBeams/Omega2_Dipole.dat\"\n",
    "\n",
    "veff = np.loadtxt(veff_path)\n",
    "omega = np.loadtxt(omega_path)"
   ]
  },
  {
   "cell_type": "code",
   "execution_count": null,
   "id": "de5f5b9a",
   "metadata": {},
   "outputs": [],
   "source": [
    "# compute beam area\n",
    "BW = (fmax - fmin) * 1e6\n",
    "fB = np.linspace(100, 200, 1024)\n",
    "fb = np.linspace(fmin, fmax,nf)\n",
    "Ae = np.mean((c.value / fb * 1e-6)**2 / interpolate.interp1d(fB, omega, kind=\"cubic\")(fb))\n",
    "\n",
    "# compute scaling\n",
    "ps = XPSpec(freq_array=fb * u.MHz, cosmology=Planck18)\n",
    "scaling = veff ** 2 * ps.get_cosmo_scaling(Ae * u.m**2, closure_scaling=True) / u.s**2\n",
    "scaling = scaling.to(u.mK ** 2 * u.Mpc ** 3).value / Planck18.h**3"
   ]
  }
 ],
 "metadata": {
  "kernelspec": {
   "display_name": "Python 3.7.4 64-bit ('base': conda)",
   "language": "python",
   "name": "python374jvsc74a57bd049173ec0ab9051b251b8100f32c8c6e08c0c0ada2720759b60af90733fd84a0b"
  },
  "language_info": {
   "codemirror_mode": {
    "name": "ipython",
    "version": 3
   },
   "file_extension": ".py",
   "mimetype": "text/x-python",
   "name": "python",
   "nbconvert_exporter": "python",
   "pygments_lexer": "ipython3",
   "version": "3.7.4"
  }
 },
 "nbformat": 4,
 "nbformat_minor": 5
}
