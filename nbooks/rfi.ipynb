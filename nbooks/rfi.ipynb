{
 "cells": [
  {
   "cell_type": "markdown",
   "id": "789b8963",
   "metadata": {},
   "source": [
    "# H1C IDR3.2 RFI"
   ]
  },
  {
   "cell_type": "code",
   "execution_count": 1,
   "id": "a35857dd",
   "metadata": {},
   "outputs": [],
   "source": [
    "import os\n",
    "import h5py\n",
    "import numpy as np\n",
    "from scipy import signal\n",
    "\n",
    "import sys\n",
    "sys.path.append(\"/users/pkeller/code/ClosurePhaseAnalysis/\")\n",
    "\n",
    "from library import rfi\n",
    "from library import cptools as cp\n",
    "\n",
    "from ipywidgets import interact\n",
    "\n",
    "import matplotlib as mpl\n",
    "import matplotlib.pyplot as plt\n",
    "import matplotlib.cm as cm\n",
    "\n",
    "# configure matplotlib\n",
    "mpl.style.use(\"classic\")"
   ]
  },
  {
   "cell_type": "markdown",
   "id": "05c37b2b",
   "metadata": {},
   "source": [
    "## Load Data\n",
    "Load closure phases. Meta data is printed below cell."
   ]
  },
  {
   "cell_type": "code",
   "execution_count": 13,
   "id": "e897d639",
   "metadata": {
    "scrolled": false
   },
   "outputs": [
    {
     "name": "stdout",
     "output_type": "stream",
     "text": [
      "data has shape (2, 150, 95, 752, 161)\n",
      "JD range 2458033-2458193, 150 nights\n",
      "LST range 4.00-6.25 h, integration time 10.75 s\n",
      "frequency range 152.25-167.88 MHz, channel width 0.0977 MHz\n"
     ]
    }
   ],
   "source": [
    "path = \"/lustre/aoc/projects/hera/pkeller/data/H1C_IDR3.2/sample/EQ14_FC_B2.h5\"\n",
    "\n",
    "with h5py.File(path, \"r\") as f:\n",
    "    jd = f[\"JD\"][()]\n",
    "    lst = f[\"LST\"][()]\n",
    "    bispec = f[\"bispec\"][()]\n",
    "    rfiflags = f[\"RFI\"][()]\n",
    "    flags = f[\"flags\"][()]\n",
    "\n",
    "# generate frequency array\n",
    "frqrange = [152.25, 167.97]\n",
    "fmin, fmax, fN = (100, 200, 1024)\n",
    "df = (fmax - fmin) / fN\n",
    "frq = np.arange(frqrange[0], frqrange[1], df)\n",
    "\n",
    "# time data\n",
    "lstmin, lstmax, lstN = np.min(lst), np.max(lst), len(lst)\n",
    "dt = (lstmax - lstmin) * 3600 / lstN\n",
    "\n",
    "print(f\"data has shape {bispec.shape}\")\n",
    "print(f\"JD range {min(jd)}-{max(jd)}, {len(jd)} nights\")\n",
    "print(r\"LST range {:.2f}-{:.2f} h, integration time {:.2f} s\".format(lstmin, lstmax, dt))\n",
    "print(r\"frequency range {:.2f}-{:.2f} MHz, channel width {:.4f} MHz\".format(min(frq), max(frq), df))"
   ]
  },
  {
   "cell_type": "markdown",
   "id": "a8b7b20b",
   "metadata": {},
   "source": [
    "## Apply Flags and Remove NaN-only Data"
   ]
  },
  {
   "cell_type": "code",
   "execution_count": 14,
   "id": "eb7c4771",
   "metadata": {},
   "outputs": [
    {
     "name": "stdout",
     "output_type": "stream",
     "text": [
      "data has shape (2, 82, 95, 752, 161)\n"
     ]
    }
   ],
   "source": [
    "bispec[flags] = np.nan\n",
    "badjd = np.all(np.isnan(bispec), axis=(0, 2, 3, 4))\n",
    "bispec = bispec[:, ~badjd]\n",
    "rfiflags = rfiflags[~badjd]\n",
    "jd = jd[~badjd]\n",
    "print(f\"data has shape {bispec.shape}\")"
   ]
  },
  {
   "cell_type": "markdown",
   "id": "707a3fb3",
   "metadata": {},
   "source": [
    "## Average Polarisations and Triads"
   ]
  },
  {
   "cell_type": "code",
   "execution_count": 5,
   "id": "56d589f1",
   "metadata": {},
   "outputs": [],
   "source": [
    "bispecRFI = np.nanmean(bispec, axis=(0, 2))"
   ]
  },
  {
   "cell_type": "markdown",
   "id": "dd06f1cf",
   "metadata": {},
   "source": [
    "## Average JDs"
   ]
  },
  {
   "cell_type": "code",
   "execution_count": 18,
   "id": "e8b27e0b",
   "metadata": {},
   "outputs": [
    {
     "name": "stdout",
     "output_type": "stream",
     "text": [
      "data has shape (752, 161)\n"
     ]
    }
   ],
   "source": [
    "mbispec = cp.geomed(bispecRFI, axis=0)\n",
    "print(f\"data has shape {mbispec.shape}\")"
   ]
  },
  {
   "cell_type": "markdown",
   "id": "fecce043",
   "metadata": {},
   "source": [
    "## RFI metric"
   ]
  },
  {
   "cell_type": "code",
   "execution_count": 19,
   "id": "a40735c7",
   "metadata": {},
   "outputs": [],
   "source": [
    "res = np.abs(np.angle(bispecRFI * mbispec.conjugate()))\n",
    "z = res / (1.4826 * np.nanmedian(res, axis=0))"
   ]
  },
  {
   "cell_type": "markdown",
   "id": "519890e1",
   "metadata": {},
   "source": [
    "## Median Detrend and RFI metric"
   ]
  },
  {
   "cell_type": "code",
   "execution_count": 18,
   "id": "f5f011dc",
   "metadata": {},
   "outputs": [],
   "source": [
    "import imp; imp.reload(rfi)\n",
    "bispecF = rfi.moving_median_2D(bispec, axes=(1, 2))\n",
    "mad = 1.4826 * rfi.moving_median_2D(np.abs(bispec - bispecF), axes=(1, 2))"
   ]
  },
  {
   "cell_type": "code",
   "execution_count": 6,
   "id": "07efe4c7",
   "metadata": {},
   "outputs": [
    {
     "name": "stderr",
     "output_type": "stream",
     "text": [
      "/lustre/aoc/projects/hera/pkeller/anaconda3/lib/python3.7/site-packages/ipykernel_launcher.py:1: RuntimeWarning: divide by zero encountered in true_divide\n",
      "  \"\"\"Entry point for launching an IPython kernel.\n"
     ]
    }
   ],
   "source": [
    "z = np.abs(bispec - bispecF) / mad"
   ]
  },
  {
   "cell_type": "code",
   "execution_count": 94,
   "id": "4bc90f2e",
   "metadata": {},
   "outputs": [
    {
     "name": "stderr",
     "output_type": "stream",
     "text": [
      "/lustre/aoc/projects/hera/pkeller/anaconda3/lib/python3.7/site-packages/ipykernel_launcher.py:2: RuntimeWarning: Mean of empty slice\n",
      "  \n"
     ]
    }
   ],
   "source": [
    "for i in range(10):\n",
    "    z_t = np.nanmean(z, axis=-1)\n",
    "    z_t = np.moveaxis(z_t, -1, 0) / (np.nanmedian(z_t, axis=-1))\n",
    "    z_t = np.moveaxis(z_t, 0, -1)\n",
    "    idx = np.where(z_t > 1.20)\n",
    "    z[idx[0], idx[1]] = np.nan"
   ]
  },
  {
   "cell_type": "code",
   "execution_count": 33,
   "id": "61711929",
   "metadata": {},
   "outputs": [],
   "source": [
    "flags = np.zeros_like(z).astype(bool)\n",
    "\n",
    "for i in range(z.shape[0]):\n",
    "    flags[i][np.where((z[i]>4) | ((z[i]>2) & rfi.nbr_idx_2D(z[i]>4)))] = True\n",
    "    \n",
    "    for j in range(z.shape[1]):\n",
    "        if flags[i, j].sum() / flags.shape[-1] > 0.1:\n",
    "            flags[i, j] = True"
   ]
  },
  {
   "cell_type": "code",
   "execution_count": 26,
   "id": "ea8789f7",
   "metadata": {},
   "outputs": [],
   "source": [
    "bispecRFI[rfiflags] = np.nan"
   ]
  },
  {
   "cell_type": "code",
   "execution_count": 32,
   "id": "69c13efa",
   "metadata": {},
   "outputs": [],
   "source": [
    "data_f = rfi.poly_2D_fit(bispecRFI[21], 72, 16)\n",
    "data_v = 1.4826 * rfi.moving_median_2D(np.abs(bispecRFI[21] - data_f), K=(8, 8), axes=(0, 1))\n",
    "res = np.abs(bispecRFI[21] - data_f)\n",
    "z = res / data_v"
   ]
  },
  {
   "cell_type": "code",
   "execution_count": 33,
   "id": "a358d5d7",
   "metadata": {},
   "outputs": [
    {
     "name": "stderr",
     "output_type": "stream",
     "text": [
      "/lustre/aoc/projects/hera/pkeller/anaconda3/lib/python3.7/site-packages/ipykernel_launcher.py:1: RuntimeWarning: Mean of empty slice\n",
      "  \"\"\"Entry point for launching an IPython kernel.\n"
     ]
    }
   ],
   "source": [
    "zt = np.nanmean(z, axis=-1)\n",
    "zt = zt - np.nanmedian(zt)\n",
    "zt = zt / (1.4826 * np.nanmedian(np.abs(zt)))"
   ]
  },
  {
   "cell_type": "code",
   "execution_count": 34,
   "id": "568b3c13",
   "metadata": {},
   "outputs": [
    {
     "data": {
      "text/plain": [
       "(0, 10)"
      ]
     },
     "execution_count": 34,
     "metadata": {},
     "output_type": "execute_result"
    },
    {
     "data": {
      "image/png": "[encoded data removed]",
      "text/plain": [
       "<Figure size 640x480 with 1 Axes>"
      ]
     },
     "metadata": {},
     "output_type": "display_data"
    }
   ],
   "source": [
    "plt.plot(np.flip(lst), zt)\n",
    "plt.ylim([0, 10])\n"
   ]
  },
  {
   "cell_type": "markdown",
   "id": "40ffc503",
   "metadata": {},
   "source": [
    "## Plot"
   ]
  },
  {
   "cell_type": "code",
   "execution_count": 15,
   "id": "6d132530",
   "metadata": {},
   "outputs": [],
   "source": [
    "z = rfiflags.sum(axis=-1) / rfiflags.shape[-1]\n",
    "for i in range(z.shape[0]):\n",
    "    rfiflags[i][np.where((z[i] > 0.2) | ((z[i] > 0.1) & rfi.nbr_idx_1D(z[i] > 0.2)))] = True"
   ]
  },
  {
   "cell_type": "code",
   "execution_count": 27,
   "id": "f504e618",
   "metadata": {},
   "outputs": [
    {
     "data": {
      "application/vnd.jupyter.widget-view+json": {
       "model_id": "02caf47c610c4710a6bcd37228c86c71",
       "version_major": 2,
       "version_minor": 0
      },
      "text/plain": [
       "interactive(children=(IntSlider(value=40, description='j', max=81), Output()), _dom_classes=('widget-interact'…"
      ]
     },
     "metadata": {},
     "output_type": "display_data"
    },
    {
     "data": {
      "text/plain": [
       "<function __main__.plot(j)>"
      ]
     },
     "execution_count": 27,
     "metadata": {},
     "output_type": "execute_result"
    }
   ],
   "source": [
    "def plot(j):\n",
    "    fig, ax = plt.subplots(1, 2, figsize=(15, 7))\n",
    "    \n",
    "    \n",
    "    im1 = ax[0].imshow(\n",
    "        np.angle(bispecRFI[j]),\n",
    "        extent=(np.amin(frq), np.amax(frq), np.amin(lst), np.amax(lst)),\n",
    "        cmap=cm.twilight,\n",
    "        interpolation=\"None\",\n",
    "        aspect=\"auto\",\n",
    "        vmin = -np.pi,\n",
    "        vmax = np.pi,\n",
    "    )\n",
    "    im2 = ax[1].imshow(\n",
    "        rfiflags[j],\n",
    "        extent=(np.amin(frq), np.amax(frq), np.amin(lst), np.amax(lst)),\n",
    "        cmap=cm.bone,\n",
    "        interpolation=\"None\",\n",
    "        aspect=\"auto\",\n",
    "        vmin=0, \n",
    "        vmax=1,\n",
    "    )\n",
    "\n",
    "    ax[0].set_title(f\"JD {jd[j]}, Bispectrum Phase\")\n",
    "    ax[1].set_title(f\"JD {jd[j]}, Bispectrum Flags\")\n",
    "    plt.setp(ax, xlabel=\"Frequency (MHz)\", ylabel=\"LST (h)\", ylim=[min(lst), max(lst)])\n",
    "    \n",
    "    plt.tight_layout()\n",
    "    plt.show()\n",
    "\n",
    "interact(plot, j=(0, len(jd)-1, 1))"
   ]
  },
  {
   "cell_type": "code",
   "execution_count": 48,
   "id": "751b8e7f",
   "metadata": {},
   "outputs": [
    {
     "name": "stdout",
     "output_type": "stream",
     "text": [
      "0\n"
     ]
    }
   ],
   "source": [
    "import imp; imp.reload(rfi)\n",
    "flags = np.zeros_like(z).astype(bool)\n",
    "\n",
    "for j in range(1):\n",
    "    print(j)\n",
    "    zm = 4\n",
    "    while zm > 3:\n",
    "        idx = np.unravel_index(np.nanargmax(z[j]), np.array(z[j]).shape)\n",
    "        zm = z[j][idx]\n",
    "        bispec[j][idx] = np.nan\n",
    "        imin, jmin = max(0, idx[0] - 8), max(0, idx[1] - 8)\n",
    "        imax, jmax = min(z.shape[-2], idx[0] + 8), min(z.shape[-1], idx[1] + 8)\n",
    "        s1 = slice(imin, imax)\n",
    "        s2 = slice(jmin, jmax)\n",
    "        irange = ((imin, imax), (jmin, jmax))\n",
    "        bispecF[j, s1, s2] = rfi.moving_median_2D(bispec[j], irange=irange, axes=(0, 1))\n",
    "        mad[j, s1, s2] = 1.4826 * rfi.moving_median_2D(np.abs(bispec[j] - bispecF[j]), irange=irange, axes=(0, 1))\n",
    "        z[j] = np.abs(bispec[j] - bispecF[j]) / mad[j]\n",
    "\n",
    "flags[np.where(np.isnan(bispec))] = True"
   ]
  },
  {
   "cell_type": "markdown",
   "id": "f92bdd0a",
   "metadata": {},
   "source": [
    "## Median over JD\n",
    "Need this for RFI metric."
   ]
  },
  {
   "cell_type": "code",
   "execution_count": 418,
   "id": "edf66ee5",
   "metadata": {},
   "outputs": [
    {
     "name": "stdout",
     "output_type": "stream",
     "text": [
      "data has shape (752, 161)\n"
     ]
    }
   ],
   "source": [
    "mbispec = cp.geomed(bispec, axis=0)\n",
    "print(f\"data has shape {mbispec.shape}\")"
   ]
  },
  {
   "cell_type": "markdown",
   "id": "7f4b583c",
   "metadata": {},
   "source": [
    "## High-Pass Filter"
   ]
  },
  {
   "cell_type": "code",
   "execution_count": 419,
   "id": "30f33531",
   "metadata": {},
   "outputs": [],
   "source": [
    "def wfilter(data, w, axis):\n",
    "    ft = np.fft.fft(data, axis=axis)\n",
    "    ft = np.moveaxis(ft, axis, -1)\n",
    "    ft = ft * np.fft.fftshift(w)\n",
    "    ift = np.fft.ifft(ft, axis=-1)\n",
    "    return np.moveaxis(ift, -1, axis)"
   ]
  },
  {
   "cell_type": "code",
   "execution_count": 420,
   "id": "57ea084b",
   "metadata": {},
   "outputs": [],
   "source": [
    "N = 20\n",
    "w = np.zeros(bispec.shape[-1])\n",
    "s = slice(w.size // 2 - N, w.size // 2 + N)\n",
    "bw = signal.blackmanharris(w.shape[-1])\n",
    "w[s] = signal.tukey(w[s].size, alpha=0.1)\n",
    "eicp = np.exp(1j * np.angle(bispec))\n",
    "eicpF = wfilter(eicp, w, axis=-1)\n",
    "\n",
    "N = 60\n",
    "w = np.zeros(bispec.shape[-2])\n",
    "s = slice(w.size // 2 - N, w.size // 2 + N)\n",
    "bw = signal.blackmanharris(w.shape[-1])\n",
    "w[s] = signal.tukey(w[s].size, alpha=0.1)\n",
    "eicpF = wfilter(eicpF, w, axis=-2)"
   ]
  },
  {
   "cell_type": "markdown",
   "id": "f1738e0d",
   "metadata": {},
   "source": [
    "## RFI Metric"
   ]
  },
  {
   "cell_type": "code",
   "execution_count": 449,
   "id": "1d91ce75",
   "metadata": {},
   "outputs": [],
   "source": [
    "dphase = np.abs(np.angle(eicpF*eicp.conjugate()))\n",
    "sig = 1.4826 * np.nanmedian(dphase)\n",
    "z = dphase / sig"
   ]
  },
  {
   "cell_type": "markdown",
   "id": "5003bb40",
   "metadata": {},
   "source": [
    "## Plot"
   ]
  },
  {
   "cell_type": "code",
   "execution_count": 428,
   "id": "e04c4004",
   "metadata": {},
   "outputs": [
    {
     "data": {
      "application/vnd.jupyter.widget-view+json": {
       "model_id": "7aa653dacfb84adb9eac83f43448dd36",
       "version_major": 2,
       "version_minor": 0
      },
      "text/plain": [
       "interactive(children=(IntSlider(value=40, description='j', max=81), Output()), _dom_classes=('widget-interact'…"
      ]
     },
     "metadata": {},
     "output_type": "display_data"
    },
    {
     "data": {
      "text/plain": [
       "<function __main__.plot(j)>"
      ]
     },
     "execution_count": 428,
     "metadata": {},
     "output_type": "execute_result"
    }
   ],
   "source": [
    "def plot(j):\n",
    "    fig, ax = plt.subplots(1, 2, figsize=(15, 7))\n",
    "    im1 = ax[0].imshow(\n",
    "        np.angle(bispec[j]),\n",
    "        extent=(np.amin(frq), np.amax(frq), np.amin(lst), np.amax(lst)),\n",
    "        cmap=cm.twilight,\n",
    "        interpolation=\"None\",\n",
    "        aspect=\"auto\",\n",
    "    )\n",
    "    im2 = ax[1].imshow(\n",
    "        np.abs(bispec[j]),\n",
    "        extent=(np.amin(frq), np.amax(frq), np.amin(lst), np.amax(lst)),\n",
    "        cmap=cm.bone,\n",
    "        interpolation=\"None\",\n",
    "        aspect=\"auto\",\n",
    "        vmin=0, \n",
    "        vmax=1e-4,\n",
    "    )\n",
    "    \n",
    "    ax[0].set_title(f\"JD {jd[j]}, Bispectrum Phase\")\n",
    "    ax[1].set_title(f\"JD {jd[j]}, Bispectrum Amplitude\")\n",
    "    plt.setp(ax, xlabel=\"Frequency (MHz)\", ylabel=\"LST (h)\", ylim=[min(lst), max(lst)])\n",
    "    \n",
    "    plt.tight_layout()\n",
    "    plt.show()\n",
    "\n",
    "interact(plot, j=(0, len(jd)-1, 1))"
   ]
  },
  {
   "cell_type": "code",
   "execution_count": 460,
   "id": "abcee99a",
   "metadata": {},
   "outputs": [
    {
     "data": {
      "application/vnd.jupyter.widget-view+json": {
       "model_id": "0ba6fe329d70482a9956c8a0811423f8",
       "version_major": 2,
       "version_minor": 0
      },
      "text/plain": [
       "interactive(children=(IntSlider(value=40, description='j', max=81), Output()), _dom_classes=('widget-interact'…"
      ]
     },
     "metadata": {},
     "output_type": "display_data"
    },
    {
     "data": {
      "text/plain": [
       "<function __main__.plot(j)>"
      ]
     },
     "execution_count": 460,
     "metadata": {},
     "output_type": "execute_result"
    }
   ],
   "source": [
    "def plot(j):\n",
    "    fig, ax = plt.subplots(1, 2, figsize=(15, 7))\n",
    "    im1 = ax[0].imshow(\n",
    "        (eicp[j]-eicpF[j]).imag,\n",
    "        extent=(np.amin(frq), np.amax(frq), np.amin(lst), np.amax(lst)),\n",
    "        cmap=cm.twilight,\n",
    "        interpolation=\"None\",\n",
    "        aspect=\"auto\",\n",
    "    )\n",
    "    im2 = ax[1].imshow(\n",
    "        np.abs(z[j]),\n",
    "        extent=(np.amin(frq), np.amax(frq), np.amin(lst), np.amax(lst)),\n",
    "        cmap=cm.bone,\n",
    "        interpolation=\"None\",\n",
    "        aspect=\"auto\",\n",
    "        vmin=0, \n",
    "        vmax=100,\n",
    "    )\n",
    "    \n",
    "    ax[0].set_title(f\"JD {jd[j]}, Bispectrum Phase\")\n",
    "    ax[1].set_title(f\"JD {jd[j]}, RFI Metric\")\n",
    "    plt.setp(ax, xlabel=\"Frequency (MHz)\", ylabel=\"LST (h)\", ylim=[min(lst), max(lst)])\n",
    "    \n",
    "    plt.tight_layout()\n",
    "    plt.show()\n",
    "\n",
    "interact(plot, j=(0, len(jd)-1, 1))"
   ]
  },
  {
   "cell_type": "code",
   "execution_count": 430,
   "id": "a4f36e61",
   "metadata": {},
   "outputs": [],
   "source": [
    "def wfilter(data, w, axis):\n",
    "    ft = np.fft.fft(data, axis=axis)\n",
    "    ft = np.moveaxis(ft, axis, -1)\n",
    "    ft = ft * np.fft.fftshift(w)\n",
    "    ift = np.fft.ifft(ft, axis=-1)\n",
    "    return np.moveaxis(ift, -1, axis)"
   ]
  },
  {
   "cell_type": "code",
   "execution_count": 389,
   "id": "ba7065b9",
   "metadata": {},
   "outputs": [],
   "source": [
    "N = 20\n",
    "w = np.zeros(mbispec.shape[-1])\n",
    "s = slice(w.size // 2 - N, w.size // 2 + N)\n",
    "bw = signal.blackmanharris(w.shape[-1])\n",
    "w[s] = signal.tukey(w[s].size, alpha=0.1)\n",
    "eicp = np.exp(1j * np.angle(bispec))\n",
    "eicpF = wfilter(eicp, w, axis=-1)\n",
    "bispecF = wfilter(bispec, w, axis=-1)\n",
    "\n",
    "N = 60\n",
    "w = np.zeros(mbispec.shape[-2])\n",
    "s = slice(w.size // 2 - N, w.size // 2 + N)\n",
    "bw = signal.blackmanharris(w.shape[-1])\n",
    "w[s] = signal.tukey(w[s].size, alpha=0.1)\n",
    "eicpF = wfilter(eicpF, w, axis=-2)"
   ]
  },
  {
   "cell_type": "code",
   "execution_count": 390,
   "id": "4be1193b",
   "metadata": {},
   "outputs": [
    {
     "data": {
      "application/vnd.jupyter.widget-view+json": {
       "model_id": "57117edd1baa4f039da10fcd1d1c4ebc",
       "version_major": 2,
       "version_minor": 0
      },
      "text/plain": [
       "interactive(children=(IntSlider(value=40, description='j', max=81), Output()), _dom_classes=('widget-interact'…"
      ]
     },
     "metadata": {},
     "output_type": "display_data"
    },
    {
     "data": {
      "text/plain": [
       "<function __main__.plot(j)>"
      ]
     },
     "execution_count": 390,
     "metadata": {},
     "output_type": "execute_result"
    }
   ],
   "source": [
    "def plot(j):\n",
    "    fig, ax = plt.subplots(1, 2, figsize=(15, 7))\n",
    "    im1 = ax[0].imshow(\n",
    "        np.angle(eicpF[j]*eicp[j].conjugate()),\n",
    "        extent=(np.amin(frq), np.amax(frq), np.amin(lst), np.amax(lst)),\n",
    "        cmap=cm.twilight,\n",
    "        interpolation=\"None\",\n",
    "        aspect=\"auto\",\n",
    "        vmin=-np.pi/2,\n",
    "        vmax=np.pi/2,\n",
    "    )\n",
    "    im2 = ax[1].imshow(\n",
    "        np.abs(bispec[j]) - np.abs(bispecF[j]),\n",
    "        extent=(np.amin(frq), np.amax(frq), np.amin(lst), np.amax(lst)),\n",
    "        cmap=cm.bone,\n",
    "        interpolation=\"None\",\n",
    "        aspect=\"auto\",\n",
    "        vmin=0, \n",
    "        vmax=1e-4,\n",
    "    )\n",
    "    \n",
    "    ax[0].set_title(f\"JD {jd[j]}, Bispectrum Phase\")\n",
    "    ax[1].set_title(f\"JD {jd[j]}, Bispectrum Amplitude\")\n",
    "    plt.setp(ax, xlabel=\"Frequency (MHz)\", ylabel=\"LST (h)\", ylim=[min(lst), max(lst)])\n",
    "    \n",
    "    plt.tight_layout()\n",
    "    plt.show()\n",
    "\n",
    "interact(plot, j=(0, len(jd)-1, 1))"
   ]
  },
  {
   "cell_type": "code",
   "execution_count": null,
   "id": "ced2bbdc",
   "metadata": {},
   "outputs": [],
   "source": []
  }
 ],
 "metadata": {
  "kernelspec": {
   "display_name": "Python 3.7.4 64-bit ('base': conda)",
   "language": "python",
   "name": "python374jvsc74a57bd049173ec0ab9051b251b8100f32c8c6e08c0c0ada2720759b60af90733fd84a0b"
  },
  "language_info": {
   "codemirror_mode": {
    "name": "ipython",
    "version": 3
   },
   "file_extension": ".py",
   "mimetype": "text/x-python",
   "name": "python",
   "nbconvert_exporter": "python",
   "pygments_lexer": "ipython3",
   "version": "3.7.4"
  }
 },
 "nbformat": 4,
 "nbformat_minor": 5
}
