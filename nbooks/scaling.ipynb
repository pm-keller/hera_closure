{
 "cells": [
  {
   "cell_type": "code",
   "execution_count": 1,
   "id": "16436598",
   "metadata": {},
   "outputs": [],
   "source": [
    "import numpy as np\n",
    "\n",
    "import sys\n",
    "sys.path.append(\"/users/pkeller/code/H1C_IDR3.2/\")\n",
    "sys.path.append(\"/users/pkeller/code/ClosureSim/skysim\")\n",
    "\n",
    "from dspec import XPSpec\n",
    "from closurelib import dspec\n",
    "from util import c\n",
    "\n",
    "import astropy.units as u\n",
    "from astropy.cosmology import Planck18\n",
    "\n",
    "from scipy import interpolate"
   ]
  },
  {
   "cell_type": "code",
   "execution_count": 2,
   "id": "ef4ca0f1",
   "metadata": {},
   "outputs": [],
   "source": [
    "veff_path = \"/users/pkeller/code/H1C_IDR3.2/data/veff_EQ14_FCB2.dat\"\n",
    "omega_path = \"/lustre/aoc/projects/hera/pkeller/HERA-Beams/NicolasFagnoniBeams/Omega2_Dipole.dat\"\n",
    "\n",
    "veff = np.loadtxt(veff_path)\n",
    "omega = np.loadtxt(omega_path)"
   ]
  },
  {
   "cell_type": "code",
   "execution_count": 6,
   "id": "91198e34",
   "metadata": {},
   "outputs": [
    {
     "name": "stdout",
     "output_type": "stream",
     "text": [
      "effective antenna area: 213 m2 m^2\n",
      "centre frequency: 160 MHz Hz\n",
      "centre wavelength: 1872298.64 m / (MHz s) m\n",
      "bandwidth: 8 MHz Hz\n",
      "redshift: 7870882.8 Hz / MHz\n",
      "comoving distance: 9094 Mpc Mpc/h\n",
      "comoving depth: 130 Mpc Mpc/h\n",
      "J1 = Ae/(lambda^2*B): 0.000000 MHz s2 Hz^-1\n",
      "J2 = D^2*dD/B: 1376675967.966338 Mpc3 / MHz (Mpc/h)^3/Hz\n",
      "\n",
      "\n",
      "Cosmological Parameters:\n",
      "H0=67.66 km / (Mpc s) km/s/Mpc\n",
      "h=0.68\n",
      "Omega_M=0.31\n",
      "Omega_K=0.26\n",
      "Omega_L=0.05\n",
      "0.0035523413804789124\n"
     ]
    }
   ],
   "source": [
    "# frequency data\n",
    "fmin, fmax, nf = (152.3, 167.94, 167)\n",
    "\n",
    "# compute beam area\n",
    "BW = (fmax - fmin) * 1e6 / 2\n",
    "fB = np.linspace(100, 200, 1024)\n",
    "fb = np.linspace(fmin, fmax, nf)\n",
    "Ae = np.mean((c.value / fb * 1e-6)**2 / interpolate.interp1d(fB, omega, kind=\"cubic\")(fb))\n",
    "\n",
    "# compute scaling\n",
    "ps = XPSpec(freq_array=fb * u.MHz, cosmology=Planck18)\n",
    "scaling = u.Jy**2 * ps.get_cosmo_scaling(Ae * u.m**2, closure_scaling=True) / u.s**2\n",
    "scaling = scaling.to(u.mK ** 2 * u.Mpc ** 3).value * Planck18.h**3\n"
   ]
  },
  {
   "cell_type": "code",
   "execution_count": 4,
   "id": "3d7dd660",
   "metadata": {},
   "outputs": [
    {
     "name": "stdout",
     "output_type": "stream",
     "text": [
      "\n",
      "\n",
      "effective antenna area: 213 m^2\n",
      "centre frequency: 160120000 Hz\n",
      "centre wavelength: 1.87 m\n",
      "bandwidth: 3910000 Hz\n",
      "redshift: 7.9\n",
      "comoving distance: 6176 Mpc/h\n",
      "comoving depth: 44 Mpc/h\n",
      "J1 = Ae/(lambda^2*B): 0.000016 Hz^-1\n",
      "J2 = D^2*dD/B: 431.418592 (Mpc/h)^3/Hz\n",
      "\n",
      "\n",
      "Cosmological Parameters:\n",
      "H0=100.00 km/s/Mpc\n",
      "h=1.00\n",
      "Omega_M=0.31\n",
      "Omega_vac=0.69\n",
      "Omega_K=0.00\n",
      "Omega_L=0.69\n"
     ]
    },
    {
     "data": {
      "text/plain": [
       "0.004460080780152175"
      ]
     },
     "execution_count": 4,
     "metadata": {},
     "output_type": "execute_result"
    }
   ],
   "source": [
    "dspec.powerScaling(Ae=Ae, f0=np.mean(fb)*1e6, B=BW/2, verbose=True)"
   ]
  },
  {
   "cell_type": "code",
   "execution_count": 5,
   "id": "3aa322cf",
   "metadata": {},
   "outputs": [
    {
     "name": "stdout",
     "output_type": "stream",
     "text": [
      "0.03702735877275443\n"
     ]
    }
   ],
   "source": [
    "print(scaling)"
   ]
  }
 ],
 "metadata": {
  "kernelspec": {
   "display_name": "Python 3.7.4 64-bit ('base': conda)",
   "language": "python",
   "name": "python374jvsc74a57bd049173ec0ab9051b251b8100f32c8c6e08c0c0ada2720759b60af90733fd84a0b"
  },
  "language_info": {
   "codemirror_mode": {
    "name": "ipython",
    "version": 3
   },
   "file_extension": ".py",
   "mimetype": "text/x-python",
   "name": "python",
   "nbconvert_exporter": "python",
   "pygments_lexer": "ipython3",
   "version": "3.7.4"
  }
 },
 "nbformat": 4,
 "nbformat_minor": 5
}
