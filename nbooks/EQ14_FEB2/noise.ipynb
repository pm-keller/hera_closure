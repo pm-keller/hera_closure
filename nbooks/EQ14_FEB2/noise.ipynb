{
 "cells": [
  {
   "cell_type": "markdown",
   "id": "789b8963",
   "metadata": {},
   "source": [
    "# H1C IDR3.2 JD and Triad Metrics"
   ]
  },
  {
   "cell_type": "code",
   "execution_count": 1,
   "id": "a35857dd",
   "metadata": {},
   "outputs": [],
   "source": [
    "import os\n",
    "import h5py\n",
    "import numpy as np\n",
    "\n",
    "import sys\n",
    "sys.path.append(\"/users/pkeller/code/ClosurePhaseAnalysis/\")\n",
    "\n",
    "from library import cptools as cp\n",
    "\n",
    "from ipywidgets import interact\n",
    "\n",
    "import matplotlib as mpl\n",
    "import matplotlib.pyplot as plt\n",
    "import matplotlib.cm as cm\n",
    "\n",
    "# configure matplotlib\n",
    "mpl.style.use(\"classic\")"
   ]
  },
  {
   "cell_type": "markdown",
   "id": "05c37b2b",
   "metadata": {},
   "source": [
    "## Load Data\n",
    "Load Bispectrum Data. Meta data is printed below cell."
   ]
  },
  {
   "cell_type": "code",
   "execution_count": 5,
   "id": "e897d639",
   "metadata": {
    "scrolled": true
   },
   "outputs": [
    {
     "name": "stdout",
     "output_type": "stream",
     "text": [
      "XX data has shape (2, 77, 752, 161)\n",
      "YY data has shape (2, 84, 752, 161)\n",
      "JD range 2458033-2458193, 150 nights\n",
      "LST range 4.00-6.25 h, integration time 10.75 s\n",
      "frequency range 152.30-167.94 MHz, channel width 0.0977 MHz\n"
     ]
    }
   ],
   "source": [
    "path = \"/lustre/aoc/projects/hera/pkeller/data/H1C_IDR3.2/sample/EQ14_FC_B2.h5\"\n",
    "\n",
    "with h5py.File(path, \"r\") as f:\n",
    "    jd = f[\"JD\"][()]\n",
    "    lst = f[\"LST\"][()]\n",
    "    frq = f[\"FRQ\"][()]\n",
    "    eicp_xx = f[\"eicp med XX 1\"][()]\n",
    "    eicp_yy = f[\"eicp med YY 1\"][()]\n",
    "    trlist = f[\"triads\"][()]\n",
    "    flags = f[\"flags\"][()]\n",
    "\n",
    "# generate frequency array\n",
    "fmin, fmax, fN = (100, 200, 1024)\n",
    "df = (fmax - fmin) / fN\n",
    "\n",
    "# time data\n",
    "jdmin, jdmax = np.min(jd), np.max(jd)\n",
    "lstmin, lstmax, lstN = np.min(lst), np.max(lst), len(lst)\n",
    "dt = (lstmax - lstmin) * 3600 / lstN\n",
    "\n",
    "print(f\"XX data has shape {eicp_xx.shape}\")\n",
    "print(f\"YY data has shape {eicp_yy.shape}\")\n",
    "print(f\"JD range {jdmin}-{jdmax}, {len(jd)} nights\")\n",
    "print(r\"LST range {:.2f}-{:.2f} h, integration time {:.2f} s\".format(lstmin, lstmax, dt))\n",
    "print(r\"frequency range {:.2f}-{:.2f} MHz, channel width {:.4f} MHz\".format(min(frq), max(frq), df))"
   ]
  },
  {
   "cell_type": "markdown",
   "id": "05e1c9b6",
   "metadata": {},
   "source": [
    "## Difference"
   ]
  },
  {
   "cell_type": "code",
   "execution_count": null,
   "id": "e7106d7d",
   "metadata": {},
   "outputs": [],
   "source": [
    "eicp_xx_diff = (eicp_xx[1] - eicp_xx[0]) / np.sqrt(2)\n",
    "eicp_yy_diff = (eicp_yy[1] - eicp_yy[0]) / np.sqrt(2)"
   ]
  },
  {
   "cell_type": "code",
   "execution_count": null,
   "id": "ec51a579",
   "metadata": {},
   "outputs": [],
   "source": []
  }
 ],
 "metadata": {
  "kernelspec": {
   "display_name": "Python 3.7.4 64-bit ('base': conda)",
   "language": "python",
   "name": "python374jvsc74a57bd049173ec0ab9051b251b8100f32c8c6e08c0c0ada2720759b60af90733fd84a0b"
  },
  "language_info": {
   "codemirror_mode": {
    "name": "ipython",
    "version": 3
   },
   "file_extension": ".py",
   "mimetype": "text/x-python",
   "name": "python",
   "nbconvert_exporter": "python",
   "pygments_lexer": "ipython3",
   "version": "3.7.4"
  }
 },
 "nbformat": 4,
 "nbformat_minor": 5
}
